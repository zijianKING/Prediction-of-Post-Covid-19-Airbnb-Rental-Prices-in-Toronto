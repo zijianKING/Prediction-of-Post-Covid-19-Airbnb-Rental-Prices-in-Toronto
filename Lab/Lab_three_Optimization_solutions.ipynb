{
  "nbformat": 4,
  "nbformat_minor": 0,
  "metadata": {
    "colab": {
      "name": "Lab_three_Optimization_solutions.ipynb",
      "provenance": [],
      "collapsed_sections": [],
      "toc_visible": true
    },
    "kernelspec": {
      "display_name": "Python 3",
      "language": "python",
      "name": "python3"
    },
    "language_info": {
      "codemirror_mode": {
        "name": "ipython",
        "version": 3
      },
      "file_extension": ".py",
      "mimetype": "text/x-python",
      "name": "python",
      "nbconvert_exporter": "python",
      "pygments_lexer": "ipython3",
      "version": "3.7.6"
    }
  },
  "cells": [
    {
      "cell_type": "markdown",
      "metadata": {
        "id": "YH8W_fQ8Kfox"
      },
      "source": [
        "<center>\n",
        "    <h3>University of Toronto</h3>\n",
        "    <h3>Department of Mechanical and Industrial Engineering</h3>\n",
        "    <h3>MIE368 Analytics in Action </h3>\n",
        "    <h3>(Fall 2020)</h3>\n",
        "    <hr>\n",
        "    <h1>Lab 3: Optimization</h1>\n",
        "    <h3>October 7, 2020</h3>\n",
        "</center>\n",
        "\n",
        "\n"
      ]
    },
    {
      "cell_type": "markdown",
      "metadata": {
        "id": "3wSKYq3fKfo0"
      },
      "source": [
        "# Introduction\n",
        "In this lab, we will be using optimization to solve several decision-making problems. The two main problem classes we will work with are knapsack problems and portfolio optimization problems. Both problems are widely applicable. Knapsack problems are linear and integer programming problems, whereas portfolio optimization is a quadratic programming problem.\n",
        "\n"
      ]
    },
    {
      "cell_type": "markdown",
      "metadata": {
        "id": "bf6ZhC8G_IZT"
      },
      "source": [
        "## Optimization\n",
        "Optimization, as it is studied within the field of operations research (OR), is an example of prescriptive analytics. Instead of making predictions, you are prescribing a best course of action for a given decision-making problem. \n",
        "\n",
        "An optimization problem is described by a vector $\\bf{x}$ modeling decision variables, an objective function $f(\\bf{x})$ to optimize, and a feasible set $\\mathcal{X}$ for which $\\bf{x}$ must belong to, i.e., $\\bf{x} \\in \\mathcal{X}$. The optimization problem is a linear program (LP) when $\\bf{x}$ is made up of continuous variables, $\\mathcal{X}$ is made up of linear constraints, and the objective function is linear in $\\bf{x}$, i.e., $f(\\bf{x}) = \\bf{c}^\\top \\bf{x}$. The problem is an interger program (IP) if $\\bf{x}$ includes integer variables. Finally, the problem is a quadratic program (QP) if the objective function $f(\\bf{x})$ is quadratic in $\\bf{x}$, i.e., $f(\\bf{x}) = \\bf{x}^\\top\\bf{Q} \\bf{x}$ (where $\\bf{Q}$ is a real symmetric matrix), the optimization problem is a quadratic programming (QP) problem.\n",
        "\n",
        "LPs are easy to solve, and can be solved in polynomial time. On the other hand, IPs are generally difficult to solve, and are $\\mathcal{NP}$-hard problems. QPs are somewhere in between, some are easy to solve and some are hard to solve. You have already been solving QPs in this course! The least squares method (from linear and logistic regression) is a QP, since you are minimizing the *squared* residual errors.\n",
        "\n",
        "\n",
        "To begin this lab, let us first import the essential tools. We will be using a solver called CVXPY to solve all our optimization problems. If you would like more practice, or would like to see how cvxpy can be used to solve more complicated optimization problems than those presented in this lab, please visit the [website](https://www.cvxpy.org/) where there are lots of resources and example codes. There are many other open-source solvers and packages available (e.g., [OR-Tools](https://developers.google.com/optimization/introduction/overview), [PuLP](https://coin-or.github.io/pulp/)) that are more powerful than CVXPY, however, CVXPY has more friendly syntax. "
      ]
    },
    {
      "cell_type": "code",
      "metadata": {
        "id": "316A40hsKfo1"
      },
      "source": [
        "import matplotlib\n",
        "import matplotlib.pyplot as plt\n",
        "import numpy as np\n",
        "import pandas as pd\n",
        "import cvxpy as cp\n",
        "\n",
        "# Extra packages for scraping data (details not covered in course)\n",
        "import datetime  \n",
        "import bs4 as bs\n",
        "import pandas_datareader as web  \n",
        "import requests"
      ],
      "execution_count": null,
      "outputs": []
    },
    {
      "cell_type": "markdown",
      "metadata": {
        "id": "6xXn87eB---q"
      },
      "source": [
        "# Knapsack Problems\n",
        "\n",
        "The first problem we will study is called the Knapsack Problem. The general idea is as follows. You have a knapsack with some capacity and you want to put a set of items into it. You generally cannot fit all of the items into the knapsack, so you have to decide which items to pick. Each item has a weight and a value, and you want to find the subset of items of maximum total value such that its total weight does not exceed the capacity. The knapsack problem is an integer programming problem because the variables take on binary values; you either pick an item or you don't. Mathematically, the knapsack problem is as follows:\n",
        "\n",
        "\n",
        "\\begin{align*}\n",
        "        \\max_{\\bf{x}} \\quad    & \\sum_{j=1}^n v_j x_j \\\\\n",
        "        s.t. \\quad           & \\sum_{j=1}^n w_{j} x_j \\leq C \\\\\n",
        "\t\t\\quad & x_j \\in \\{0,1\\},  \\quad \\forall j \\in \\{1,\\dots,n\\}.\n",
        "\\end{align*}\n",
        "\n",
        "In the above formulation $v_j$ represents the value of item $j$, $x_j$ is our decision variable representing whether or not we put item $j$ in the knapsack, $w_j$ is the weight of item $j$, and $C$ is the capacity of our knapsack. The first constraint ensures the total weight of our items does not exceed the knapsack, and it is called a *knapsack constraint*. \n",
        "\n",
        "In certain problems, we may want to consider *fractional knapsack problems*, which is simply the formulation above without the integrality constraints, i.e., the vector $\\bf{x}$ is continuous and can include any values between 0 and 1. The fractional knapsack problem is an LP, whereas the general knapsack problem is an IP. \n",
        "\n"
      ]
    },
    {
      "cell_type": "markdown",
      "metadata": {
        "id": "BbYNRtUO-0eN"
      },
      "source": [
        "##Application\n",
        "\n",
        "Many problems can be formulated as knapsack problems. Below we present an application of building an itinerary.\n",
        "\n",
        "Katie is visiting Toronto. She has 8 hours to explore the city and wants to make the most use of her time. She has marked a total of 10 places/attractions that she would like to visit in her guidebook. Furthermore, the guidebook provides a suggestion for the amount of time to spend at each attaction. For any place she visits, Katie plans to spend the amount of time suggested by the guidebook. She prefers some attractions more than others. Suppose her preference for each attraction is described using a **utility** score between 0-1. \n",
        "\n",
        "We use the following dictionary to define the 10 sites, their scores and the estimated time that Katie should spend at each site. \n"
      ]
    },
    {
      "cell_type": "code",
      "metadata": {
        "id": "iGaYST8DKfo9",
        "outputId": "e0404421-35d3-456a-a80d-726a2e1a2323",
        "colab": {
          "base_uri": "https://localhost:8080/",
          "height": 106
        }
      },
      "source": [
        "# Initialize dictionary of scores\n",
        "K_dict = {'CN Tower': [0.8, 2], 'ROM': [0.43,3], 'AGO': [ 0.56, 2.5], 'UofT': [0.46,1.5], 'K. Market': [0.4,1],\n",
        "          'Casa Loma': [0.6, 1.5], 'Ripleys': [0.75,2.5], 'High Park': [0.68, 2], 'NP Square': [0.42, 1], 'Island': [0.71,2.5]}\n",
        "          \n",
        "# Convert ditionary to DataFrame\n",
        "df = pd.DataFrame(K_dict, index = ['utility', 'time'])\n",
        "df.head()"
      ],
      "execution_count": null,
      "outputs": [
        {
          "output_type": "execute_result",
          "data": {
            "text/html": [
              "<div>\n",
              "<style scoped>\n",
              "    .dataframe tbody tr th:only-of-type {\n",
              "        vertical-align: middle;\n",
              "    }\n",
              "\n",
              "    .dataframe tbody tr th {\n",
              "        vertical-align: top;\n",
              "    }\n",
              "\n",
              "    .dataframe thead th {\n",
              "        text-align: right;\n",
              "    }\n",
              "</style>\n",
              "<table border=\"1\" class=\"dataframe\">\n",
              "  <thead>\n",
              "    <tr style=\"text-align: right;\">\n",
              "      <th></th>\n",
              "      <th>CN Tower</th>\n",
              "      <th>ROM</th>\n",
              "      <th>AGO</th>\n",
              "      <th>UofT</th>\n",
              "      <th>K. Market</th>\n",
              "      <th>Casa Loma</th>\n",
              "      <th>Ripleys</th>\n",
              "      <th>High Park</th>\n",
              "      <th>NP Square</th>\n",
              "      <th>Island</th>\n",
              "    </tr>\n",
              "  </thead>\n",
              "  <tbody>\n",
              "    <tr>\n",
              "      <th>utility</th>\n",
              "      <td>0.8</td>\n",
              "      <td>0.43</td>\n",
              "      <td>0.56</td>\n",
              "      <td>0.46</td>\n",
              "      <td>0.4</td>\n",
              "      <td>0.6</td>\n",
              "      <td>0.75</td>\n",
              "      <td>0.68</td>\n",
              "      <td>0.42</td>\n",
              "      <td>0.71</td>\n",
              "    </tr>\n",
              "    <tr>\n",
              "      <th>time</th>\n",
              "      <td>2.0</td>\n",
              "      <td>3.00</td>\n",
              "      <td>2.50</td>\n",
              "      <td>1.50</td>\n",
              "      <td>1.0</td>\n",
              "      <td>1.5</td>\n",
              "      <td>2.50</td>\n",
              "      <td>2.00</td>\n",
              "      <td>1.00</td>\n",
              "      <td>2.50</td>\n",
              "    </tr>\n",
              "  </tbody>\n",
              "</table>\n",
              "</div>"
            ],
            "text/plain": [
              "         CN Tower   ROM   AGO  UofT  ...  Ripleys  High Park  NP Square  Island\n",
              "utility       0.8  0.43  0.56  0.46  ...     0.75       0.68       0.42    0.71\n",
              "time          2.0  3.00  2.50  1.50  ...     2.50       2.00       1.00    2.50\n",
              "\n",
              "[2 rows x 10 columns]"
            ]
          },
          "metadata": {
            "tags": []
          },
          "execution_count": 2
        }
      ]
    },
    {
      "cell_type": "markdown",
      "metadata": {
        "id": "vufvZuq2UB9w"
      },
      "source": [
        "### Exercises\n"
      ]
    },
    {
      "cell_type": "markdown",
      "metadata": {
        "id": "sQuH4aeCU6DM"
      },
      "source": [
        "1. Suppose Katie started adding destinations to her itinerary in a greedy manner, which means she begins by adding the location giving her the highest utility, followed by the location with the second highest utility and so on, until she can't fit anymore destinations into her itinerary. \n",
        "\n",
        "  - 1a. What would her *greedy-optimal* itinerary look like? \n",
        "\n",
        "  - 1b. How much total utility would it give her?\n",
        "\n",
        "  - 1c. Does she have any free time?\n",
        "\n",
        "  - 1d. While you can compute this solution by hand, can you write code (hint: use a for/while loop) to compute this greedy solution?\n"
      ]
    },
    {
      "cell_type": "markdown",
      "metadata": {
        "id": "Jo9_ElgB91yS"
      },
      "source": [
        "2. Do you think this is a good approach to constructing an itinerary? Why or why not?"
      ]
    },
    {
      "cell_type": "markdown",
      "metadata": {
        "id": "r-3Lf1sx9VBE"
      },
      "source": [
        "### Answers\n",
        "\n",
        "1a.  ['CN Tower', 'Ripleys', 'Island', 'NP Square']\n",
        "\n",
        "1b. This itinerary gives her a total utility of: 2.68\n",
        "\n",
        "1c. No\n"
      ]
    },
    {
      "cell_type": "code",
      "metadata": {
        "id": "VBsxYK4ryv7W",
        "outputId": "f820dac5-598c-48d2-ba69-6002263d5a4b",
        "colab": {
          "base_uri": "https://localhost:8080/",
          "height": 84
        }
      },
      "source": [
        "# 1d. Write your code here\n",
        "\n",
        "# Example of one approach\n",
        "\n",
        "df_remaining = df.loc['utility'].copy() \n",
        "remaining_cap = 8\n",
        "itinerary = []\n",
        "for i in range(len(df.loc['utility'])):\n",
        "  if (remaining_cap - df[df_remaining.idxmax()].loc['time']) >= 0:\n",
        "    remaining_cap -= df[df_remaining.idxmax()].loc['time']\n",
        "    itinerary.append(df_remaining.idxmax())\n",
        "  df_remaining.drop(df_remaining.idxmax(), inplace = True)\n",
        "\n",
        "total_util = sum([df.loc['utility', s] for s in itinerary])\n",
        "\n",
        "\n",
        "print('When constructed in a greedy fashion, Katie\\'s itinerary is: \\n {}.'.format(itinerary))\n",
        "print('This itinerary gives her a total utility of: {}.'.format(total_util))\n",
        "print('She has a total of {} hour(s) that did not get used.'.format(remaining_cap))"
      ],
      "execution_count": null,
      "outputs": [
        {
          "output_type": "stream",
          "text": [
            "When constructed in a greedy fashion, Katie's itinerary is: \n",
            " ['CN Tower', 'Ripleys', 'Island', 'NP Square'].\n",
            "This itinerary gives her a total utility of: 2.6799999999999997.\n",
            "She has a total of 0.0 hour(s) that did not get used.\n"
          ],
          "name": "stdout"
        }
      ]
    },
    {
      "cell_type": "markdown",
      "metadata": {
        "id": "Vo0M7B8H-c8N"
      },
      "source": [
        "2. No, this is not a good approach because we don't consider the time (weight) of each location when adding it to the itinerary. An attraction Z might give high utility but take a significant amount of time. Other attractions could give slightly less utility but take much less time. We could piece together many different attractions that take less time and make an itinerary that gives much higher total utility than that of location Z. "
      ]
    },
    {
      "cell_type": "markdown",
      "metadata": {
        "id": "WwMDif2kQnq6"
      },
      "source": [
        "## Coding the optimization model"
      ]
    },
    {
      "cell_type": "markdown",
      "metadata": {
        "id": "f7ZDHdd6MML-"
      },
      "source": [
        "We will define a knapsack problem according to the problem description above and use `cvxpy` to formulate and solve this problem. We'll start with the variables. To define a variable or a set of variables, we use the function `cp.Variable()`. If you input a number, the function will create a *set* of variables as shown below.  By default a variable is continuous, but you can use the parameters (`boolean = True`) or (`integer = True`) to create binary or integer variables, respectively."
      ]
    },
    {
      "cell_type": "code",
      "metadata": {
        "id": "LwvU81CwqupQ"
      },
      "source": [
        "num_locations = len(df.columns)   # number of possible sites to visit\n",
        "x = cp.Variable(num_locations,boolean=True)  # x is a vector of binary variables of size num_locations."
      ],
      "execution_count": null,
      "outputs": []
    },
    {
      "cell_type": "markdown",
      "metadata": {
        "id": "dPMc2aM3rczd"
      },
      "source": [
        "Next we'll define the objective function. Because we are maximizing the total utility that Katie wants to get out of her itinerary, we use the function `cp.Maximize()`, where we input the objective function $\\sum^n_{i =1} v_i x_i$. "
      ]
    },
    {
      "cell_type": "code",
      "metadata": {
        "id": "x6NolE9fsFkP"
      },
      "source": [
        "utility_values = df.loc['utility']   # utility for each site\n",
        "obj = cp.Maximize(x*utility_values)   # x*utility_values multiplies the utility of each site with a variable corresponding to the site"
      ],
      "execution_count": null,
      "outputs": []
    },
    {
      "cell_type": "markdown",
      "metadata": {
        "id": "TY_S1y2oswzb"
      },
      "source": [
        "Next, we will define the constraints. We begin by initializing an empty list of constraints, within which we can append all of the constraints we want to define. For now, we only consider the single knapsack capacity constraint. "
      ]
    },
    {
      "cell_type": "code",
      "metadata": {
        "id": "NbAUd5OKuyFq"
      },
      "source": [
        "cons = [] #initialize constraint list\n",
        "\n",
        "time_values = df.loc['time']  # cost coefficient for the knapsack constraint\n",
        "cons.append(x*time_values <= 8)  # keep your total hours less than 8"
      ],
      "execution_count": null,
      "outputs": []
    },
    {
      "cell_type": "markdown",
      "metadata": {
        "id": "emjxHAJLYQTb"
      },
      "source": [
        "Finally, we put the model together."
      ]
    },
    {
      "cell_type": "code",
      "metadata": {
        "id": "h5eTk7hSYVJf"
      },
      "source": [
        "prob = cp.Problem(obj,cons)"
      ],
      "execution_count": null,
      "outputs": []
    },
    {
      "cell_type": "markdown",
      "metadata": {
        "id": "4VFYADGBQ3IV"
      },
      "source": [
        "## Solving the model"
      ]
    },
    {
      "cell_type": "markdown",
      "metadata": {
        "id": "nxBXPd0ww-tA"
      },
      "source": [
        "Now that the variables, objective and constraints are defined we can solve the problem."
      ]
    },
    {
      "cell_type": "code",
      "metadata": {
        "id": "QApI9p_6xPJz",
        "outputId": "b00d4cc7-a551-4545-d0e5-8ffe242858ad",
        "colab": {
          "base_uri": "https://localhost:8080/"
        }
      },
      "source": [
        "prob.solve(verbose=False)  # verbose = True allows you to see the solution process\n",
        "print('The objective value is {}.'.format(obj.value))  # gives you the objective value"
      ],
      "execution_count": null,
      "outputs": [
        {
          "output_type": "stream",
          "text": [
            "The objective value is 2.97.\n"
          ],
          "name": "stdout"
        }
      ]
    },
    {
      "cell_type": "markdown",
      "metadata": {
        "id": "mvWmWjXOQEgx"
      },
      "source": [
        "To extract the values of the variables, you can use the following code. The code is written compactly. Make sure to understand what each piece of the code is doing."
      ]
    },
    {
      "cell_type": "code",
      "metadata": {
        "id": "2mN0ufjHxxUu",
        "outputId": "a29de6b1-9771-4dab-e3ca-a768fae95b47",
        "colab": {
          "base_uri": "https://localhost:8080/"
        }
      },
      "source": [
        "#Extract the solution of the IP into a dataframe\n",
        "x_np_array = x.value.astype(int)  # extract the x values as a np array\n",
        "x_values = pd.Series(x_np_array, index = df.columns)  # convert the np array to a Dataframe\n",
        "selected = x_values[x_values == 1].index.values  # get assignments\n",
        "\n",
        "# Print outputs\n",
        "print(x_values)\n",
        "print(selected)"
      ],
      "execution_count": null,
      "outputs": [
        {
          "output_type": "stream",
          "text": [
            "CN Tower     1\n",
            "ROM          0\n",
            "AGO          0\n",
            "UofT         0\n",
            "K. Market    1\n",
            "Casa Loma    1\n",
            "Ripleys      1\n",
            "High Park    0\n",
            "NP Square    1\n",
            "Island       0\n",
            "dtype: int64\n",
            "['CN Tower' 'K. Market' 'Casa Loma' 'Ripleys' 'NP Square']\n"
          ],
          "name": "stdout"
        }
      ]
    },
    {
      "cell_type": "markdown",
      "metadata": {
        "id": "pWxBkgEsXp8I"
      },
      "source": [
        "## Model Variant\n",
        "\n",
        "Suppose Katie is traveling with her brother Chris, who would like to see UofT, and also does not want to visit more than 3 locations. The complete code with Chris's conditions is presented below:"
      ]
    },
    {
      "cell_type": "code",
      "metadata": {
        "id": "N4xoY5ldX7pW",
        "outputId": "32121340-e576-4637-efc6-7afc1663e2ed",
        "colab": {
          "base_uri": "https://localhost:8080/"
        }
      },
      "source": [
        "# Define variables\n",
        "x_2 = cp.Variable(len(df.columns), boolean=True) \n",
        "# Define objective\n",
        "obj_2 = cp.Maximize(x_2*df.loc['utility'])\n",
        "\n",
        "# Define constraints\n",
        "cons_2 = []  # Initialize constraint list\n",
        "cons_2.append(x_2*df.loc['time'] <= 8)  # time constraint\n",
        "cons_2.append(x_2[list(df.columns).index('UofT')] >= 1)  # must visit UofT constraint\n",
        "cons_2.append(cp.sum(x_2)<=3)  # must not visit more than 3 locations\n",
        "prob_2 = cp.Problem(obj_2,cons_2)\n",
        "prob_2.solve()"
      ],
      "execution_count": null,
      "outputs": [
        {
          "output_type": "execute_result",
          "data": {
            "text/plain": [
              "2.01"
            ]
          },
          "metadata": {
            "tags": []
          },
          "execution_count": 31
        }
      ]
    },
    {
      "cell_type": "markdown",
      "metadata": {
        "id": "euduIaktZ3q0"
      },
      "source": [
        "## Exercises"
      ]
    },
    {
      "cell_type": "markdown",
      "metadata": {
        "id": "BLn9Ag0NRW0Y"
      },
      "source": [
        "\n",
        "1. Suppose that Katie is traveling alone. If Katie wanted to visit at least one of the two museums (AGO or ROM), what constraint would we add into the model? \n",
        "\n",
        "2. Suppose again that Katie is traveling alone. We now consider the case where, for each destination, Katie is willing to spend *less* time that the guidebook suggests. Code up this fractional knapsack problem. Add the subscript _lp to names of variables, objective, constraints and the model, so that your code doesn't overlap with the models defined above. Hint: `x_lp >= 0` and `x_lp <= 1` ensures that all of the variables are between 0 and 1.\n",
        "\n",
        " - 2a. What is her total utility?\n",
        "\n",
        " - 2b. How did her itinerary change?\n",
        "\n",
        " - 2c. What would we have to assume about Katie's utility function for this model to make sense? Hint: if Katie spends 50% of the estimated time at a location, how much utility would she get? \n",
        "\n",
        "\n"
      ]
    },
    {
      "cell_type": "markdown",
      "metadata": {
        "id": "AzzE7FirnXTj"
      },
      "source": [
        " 3. Consider Katie's original problem, but now suppose that she has only 7.75 free hours. Do you expect the LP relaxation (i.e., the fractional knapsack problem in the previous question) to give lower, the same, or higher total utility? Why?"
      ]
    },
    {
      "cell_type": "markdown",
      "metadata": {
        "id": "cmKdnVcPcmC3"
      },
      "source": [
        "### Answers"
      ]
    },
    {
      "cell_type": "code",
      "metadata": {
        "id": "8vgWxtPBi37G"
      },
      "source": [
        "#Question 1 answer \n",
        "# x[list(df.columns).index('AGO')] + x[list(df.columns).index('ROM')] >= 1"
      ],
      "execution_count": null,
      "outputs": []
    },
    {
      "cell_type": "code",
      "metadata": {
        "id": "trffOWUNcQo8",
        "outputId": "5cc52459-04e6-42b9-8419-402c3a2fba78",
        "colab": {
          "base_uri": "https://localhost:8080/"
        }
      },
      "source": [
        "# Question 2 answer\n",
        "# write code here\n",
        "# use new variable name for the problem: prob_lp = cp.Problem(obj,cons)\n",
        "\n",
        "x_lp = cp.Variable(len(df.columns), boolean = False) \n",
        "obj_lp = cp.Maximize(x_lp*df.loc['utility'])\n",
        "cons_lp = []\n",
        "\n",
        "cons_lp.append(x_lp*df.loc['time'] <= 8) \n",
        "cons_lp.append(x_lp >= 0)\n",
        "cons_lp.append(x_lp <= 1)\n",
        "prob_lp = cp.Problem(obj_lp,cons_lp)\n",
        "prob_lp.solve()\n",
        "print(obj_lp.value)\n",
        "x_values = pd.Series(np.round(x_lp.value,2), index = df.columns) \n",
        "print(x_values)"
      ],
      "execution_count": null,
      "outputs": [
        {
          "output_type": "stream",
          "text": [
            "3.053333333303351\n",
            "CN Tower     1.00\n",
            "ROM          0.00\n",
            "AGO          0.00\n",
            "UofT         0.33\n",
            "K. Market    1.00\n",
            "Casa Loma    1.00\n",
            "Ripleys      0.00\n",
            "High Park    1.00\n",
            "NP Square    1.00\n",
            "Island       0.00\n",
            "dtype: float64\n"
          ],
          "name": "stdout"
        }
      ]
    },
    {
      "cell_type": "markdown",
      "metadata": {
        "id": "WfDjOYd3f5Xj"
      },
      "source": [
        " - 2a. Katie gets a total utility score of 3.0533.\n",
        "\n",
        "- 2b. Katie spends 0.5 hours at UofT and 2 hours at High park, instead of 2.5 hours at Ripleys.\n",
        "\n",
        "- 2c. For each location, Katie's utility must be a linear function of the time spent at the location. "
      ]
    },
    {
      "cell_type": "markdown",
      "metadata": {
        "id": "monXR1jZm1tJ"
      },
      "source": [
        "3. I expect the fractional knapsack problem to give higher utility. When we are solving the integer programming problem, there will be at least 0.25 hours that cannot be used since all activity/location times are in increments of 0.5 hours. The fractional knapsack will allocate the free time to another location.  "
      ]
    },
    {
      "cell_type": "markdown",
      "metadata": {
        "id": "QCeLftIGR_D9"
      },
      "source": [
        "#Portfolio Optimization\n",
        "\n",
        "In this section, we will study another type of optimization problem, called portfolio optimization. The problem will be presented in the context of stock investing, although it can be applied to other settings (e.g., funding and investing in projects or medical research).\n",
        "\n",
        "In porfolio optimization, we are given a set of assets, and we are trying to decide on an *portfolio allocation vector* which represents the fraction of our total wealth that we are investing in each asset. Mathematically, suppose there are $n$ different assets, and we have to decide on a vector $\\mathbf{x} = [x_1, x_2, \\ldots , x_n]$ such that $\\sum_{i = 1}^n x_i = 1$ and $x_i \\geq 0 \\ \\forall i \\in \\{0,1,.\\ldots,n\\}$. The objective of the portfolio optimization problem is to invest in assets that have high *return* but low *risk*. \n",
        "\n"
      ]
    },
    {
      "cell_type": "markdown",
      "metadata": {
        "id": "BDqq8fpQapW8"
      },
      "source": [
        "## Model\n",
        "\n",
        "We define the portfolio optimization problem below.\n",
        "\n",
        "\n",
        "\\begin{array}{ll} \\underset{\\bf{x}}{\\mbox{maximize}} & \\boldsymbol{\\mu}^T {\\bf x} - \\gamma {\\bf x}^T\\Sigma {\\bf x}\\\\\n",
        "\\mbox{subject to} & {\\bf 1}^T {\\bf x = 1},\\\\\n",
        "& \\mathbf{x} \\geq \\mathbf{0}.\n",
        "\\end{array}\n",
        "\n",
        "The vector of $\\boldsymbol{\\mu}$ = $[\\mu_1, \\mu_2, ... \\mu_n]$ defines the *expected return* of each stock. That is, given a \\$100 dollar investment today in stock $i$ today, we expect to make $\\$100\\mu_i$ in the next period. Intuitively, we want to maximize our total expected return, represented by $\\boldsymbol{\\mu}^\\top \\bf{x}$. \n",
        "\n",
        "Secondly, we want to minimize the *risk* of the portfolio. Risk is defined by the variance of the portfolio. The higher the variance, the more likely you are to lose a lot of money. The variance of a portfolio is defined by the variance of each individual stock in your portfolio as well as the co-variance between the stocks in your portfolio. The risk is given by the term ${\\bf{x}}^\\top \\Sigma {\\bf{x}}$. Since we want to minimize risk, we use the negative term $-{\\bf{x}}^\\top \\Sigma {\\bf{x}}$ in the objective function.\n",
        "\n",
        "Finally, the value of $\\gamma \\geq 0$ is the *risk aversion parameter*. This value helps decide how much emphasis we want to put on minimizing risk, which generally comes at a cost of lowering expected return. For example, if we set $\\gamma = 0$, then we would be building a portfolio without considering risk at all. We call the objective $\\mu^T\\mathbf{x} - \\gamma \\mathbf{x}^T\\Sigma \\mathbf{x}$ the *risk-adjusted return*. \n",
        "\n"
      ]
    },
    {
      "cell_type": "markdown",
      "metadata": {
        "id": "yc-frbTuYZaZ"
      },
      "source": [
        "## Return and Risk in Detail\n",
        "\n",
        "In this section, we will elaborate a bit more on the ideas of expected return and risk. While you will not be expected to understand the math in detail, it should serve to give a better idea of portfolio optimization for those who are interested. \n",
        "\n",
        "First, we discuss the topic of *expected* return. If we buy a stock at price $p_i$ and sell it at $p^*_i$ in the next period, we will make a return of $r_i = (p^*_i - p_i)/p_i$. At the time of buying stocks, however, we will not know exactly what the return of each stock will be. Nonetheless, we can estimate the *expected return* $\\mathbb{E}[r_i]$, which is denoted by $\\mu_i$. The first objective of portfolio optimization is to find a portfolio allocation vector $\\mathbf{x}$ such that the expected return $\\mathbb{E}[\\mathbf{R}] = \\sum^n_{i = 1} \\mu_i x_i$ is maximized. \n",
        "\n",
        "The second objective of portfolio optimization is to minimize the *risk* of the portfolio, which is represented by the *variance* of the portfolio $\\mathbf{x}^\\top \\Sigma \\mathbf{x}$, where $\\Sigma$ represents the covariance matrix. In particular, portfolio optimization assumes that investors are *risk averse*. That is, for the same expected return, investors would prefer a portfolio with very low variance (for example, where the expected return is guaranteed) rather than a portfolio with high variance (there's a chance you lose all your money).\n",
        "\n",
        "The term $\\mathbf{x}^\\top \\Sigma \\mathbf{x}$ might look mysterious or complicated, but it easy to explain (and python packages will take care of the complicated operations :)). If we write out $\\mathbf{x}^\\top \\Sigma \\mathbf{x}$, we get $\\sum _{i}x_{i}^{2}\\sigma _{i}^{2}+\\sum _{i}\\sum _{j\\neq i}x_{i}x_{j}\\sigma _{i}\\sigma _{j}\\rho _{ij}$, where $\\sigma_i$ is the standard deviation of a stock $i$ and $\\rho_{ij}$ is the correlation coefficient between stock $i$ and $j$. The first term ($\\sum _{i}x_{i}^{2}\\sigma _{i}^{2}$) captures the *variance* of each stock, i.e., how volatile stock $i$ is. The second term ($\\sum _{i}\\sum _{j\\neq i}x_{i}x_{j}\\sigma _{i}\\sigma _{j}\\rho _{ij}$) captures the *co-variance* between stocks, i.e., how closely stock $i$ moves with respect to stock $j$. Naturally, we want to build a portfolio with stocks that have low volatility, as well as a diversified portfolio so that not all stocks follow the same trajectory.\n"
      ]
    },
    {
      "cell_type": "markdown",
      "metadata": {
        "id": "0QiNxb_iKliC"
      },
      "source": [
        "### Exercise\n",
        "\n",
        "1. Suppose $\\bf{x}_1$ and $\\bf{x}_2$ corresponds to two portolios built using $\\gamma_1$ and $\\gamma_2$, respectively. If $\\gamma_1 > \\gamma_2$, would I expect the variance of the portfolio $\\bf{x}_1$ to be higher or lower than $\\bf{x}_2$?\n",
        "\n"
      ]
    },
    {
      "cell_type": "markdown",
      "metadata": {
        "id": "swNoQAuRLRdX"
      },
      "source": [
        "### Answer\n",
        "\n",
        "1. We would expect the variance of portfolio 1 to be lower than that of portfolio 2."
      ]
    },
    {
      "cell_type": "markdown",
      "metadata": {
        "id": "lJKjhJ6QBwzk"
      },
      "source": [
        "## Getting Data\n",
        "\n",
        "In this lab, we will assume that $\\mu$ and $\\Sigma$ is the mean and covariance of the historical returns of assets, respectively. The following code will scrape the ticker symbols (i.e., their abbreviation in the stock market) S&P 500 companies from Wikipedia, and the daily stock prices from Yahoo Finance. We will use daily returns from Sept 1, 2019 to Sept 1, 2020 to calculate our $\\mu$ and $\\Sigma$. Because these are average daily returns, the numbers will appear quite small. \n",
        "\n",
        "Scraping data takes time. To make sure the code can run quickly, we only consider the first 30 companies in the S&P 500 list. The code may take up to a minute to run. \n",
        "\n",
        "Finally, note that you **do not** have to understand or reproduce the following code, you will not be tested on it. We included it here simply for your own interest. \n"
      ]
    },
    {
      "cell_type": "code",
      "metadata": {
        "id": "AJIxAL8RYZG4",
        "outputId": "554a4c54-fae3-42e1-d1ff-ff7bcea50fa1",
        "colab": {
          "base_uri": "https://localhost:8080/"
        }
      },
      "source": [
        "# import datetime  # Package for making dates\n",
        "# import bs4 as bs\n",
        "# import pandas_datareader as web  #\n",
        "# import requests\n",
        "\n",
        "# datetime.datetime is a data type within the datetime module\n",
        "start = datetime.datetime(2019, 9, 1)\n",
        "end = datetime.datetime(2020, 9, 1)\n",
        "\n",
        "# Get tickers for S&P 500 stocks\n",
        "resp = requests.get('http://en.wikipedia.org/wiki/List_of_S%26P_500_companies')\n",
        "soup = bs.BeautifulSoup(resp.text, 'lxml')\n",
        "table = soup.find('table', {'class': 'wikitable sortable'})\n",
        "tickers = []\n",
        "for row in table.findAll('tr')[1:30]:\n",
        "    ticker = row.findAll('td')[0].text\n",
        "    tickers.append(ticker.split('\\n')[0])\n",
        "\n",
        "# Load data from yahoo\n",
        "df = web.DataReader(tickers, 'yahoo', start, end)\n",
        "daily_gains = (df.Close - df.Open) / df.Open\n",
        "# Get close prices\n",
        "average_return = daily_gains.mean()\n",
        "covariance = daily_gains.cov()\n",
        "\n",
        "# Print summary of data\n",
        "print(average_return.head())  \n",
        "print(covariance.head())\n",
        "\n",
        "# Estimate parameters for portfolio optimization model\n",
        "mu = average_return.values    #convert dataframe to array\n",
        "Sigma = covariance.values    #convert dataframe to matrix\n"
      ],
      "execution_count": null,
      "outputs": [
        {
          "output_type": "stream",
          "text": [
            "Symbols\n",
            "MMM    -0.000419\n",
            "ABT     0.000469\n",
            "ABBV    0.000568\n",
            "ABMD    0.002764\n",
            "ACN     0.001249\n",
            "dtype: float64\n",
            "Symbols       MMM       ABT      ABBV  ...      AMCR       AEE       AAL\n",
            "Symbols                                ...                              \n",
            "MMM      0.000334  0.000166  0.000109  ...  0.000170  0.000177  0.000236\n",
            "ABT      0.000166  0.000386  0.000115  ...  0.000047  0.000209  0.000124\n",
            "ABBV     0.000109  0.000115  0.000255  ...  0.000105  0.000098 -0.000049\n",
            "ABMD     0.000133  0.000218  0.000067  ...  0.000098  0.000109  0.000110\n",
            "ACN      0.000139  0.000163  0.000106  ...  0.000134  0.000146  0.000141\n",
            "\n",
            "[5 rows x 29 columns]\n"
          ],
          "name": "stdout"
        }
      ]
    },
    {
      "cell_type": "markdown",
      "metadata": {
        "id": "y88k0GfWiYGw"
      },
      "source": [
        "### Exercises\n",
        "\n",
        "1. What is the stock with the highest mean return? What is its expected return?\n",
        "\n",
        "2. What is the stock with the lowest mean return? What is its expected return?\n",
        "\n",
        "3. Do you observe any negative values in the covariance matrix? What does a negative value mean?\n",
        "\n",
        "4. Assume that you are already holding a stock (stock A), and have to choose one more stock to invest in. Suppose stock B and C both have the same expected return and variance, but stock B has a higher covariance with A. Which stock (B or C) would you invest in, assuming you are risk-averse?"
      ]
    },
    {
      "cell_type": "markdown",
      "metadata": {
        "id": "VRAYbOy1q7Bx"
      },
      "source": [
        "### Answers"
      ]
    },
    {
      "cell_type": "code",
      "metadata": {
        "id": "xDLCA3beq9SU",
        "outputId": "da7e7867-9be3-469d-fb63-e83995a121e3",
        "colab": {
          "base_uri": "https://localhost:8080/"
        }
      },
      "source": [
        "print('The stock with highest mean return is {} with a return of {}.'.format(average_return.idxmax(), average_return[average_return.idxmax()]))\n",
        "print('The stock with lowest mean return is {} with a return of {}.'.format(average_return.idxmin(), average_return[average_return.idxmin()]))"
      ],
      "execution_count": null,
      "outputs": [
        {
          "output_type": "stream",
          "text": [
            "The stock with highest mean return is ALB with a return of 0.003027043103356948.\n",
            "The stock with lowest mean return is AAL with a return of -0.00495631914657829.\n"
          ],
          "name": "stdout"
        }
      ]
    },
    {
      "cell_type": "markdown",
      "metadata": {
        "id": "2Sak6XvpuLgb"
      },
      "source": [
        "3. When two stocks tend to move in opposite directions, i.e., when they move inversely, the covariance is negative. \n",
        "\n",
        "4. You would invest in the stock with lower covariance (i.e., stock C) if you are risk-averse."
      ]
    },
    {
      "cell_type": "markdown",
      "metadata": {
        "id": "0Z9npq3Cic4q"
      },
      "source": [
        "## Setting up CVXPY model\n",
        "\n"
      ]
    },
    {
      "cell_type": "markdown",
      "metadata": {
        "id": "N3xYrn6j8mch"
      },
      "source": [
        "In this section, we will show you how to code up and solve the portfolio optimization problem in `cvxpy`. The notation is almost identical to the linear and integer programming model, except we require a new function to formulate the quadratic objective function. The code is shown below:"
      ]
    },
    {
      "cell_type": "code",
      "metadata": {
        "id": "CLQH8NYqigUo"
      },
      "source": [
        "# import cvxpy as cp\n",
        "\n",
        "#variable and parameter definitions\n",
        "x = cp.Variable(len(mu))\n",
        "gamma = cp.Parameter(nonneg = True)\n",
        "\n",
        "#objective definition\n",
        "ret = mu.T*x\n",
        "risk = cp.quad_form(x, Sigma)\n",
        "obj = cp.Maximize(ret - gamma*risk)\n",
        "\n",
        "#constraint definition\n",
        "cons = []\n",
        "cons.append(cp.sum(x) == 1)\n",
        "cons.append(x >= 0)\n",
        "\n",
        "#formulating the problem\n",
        "prob = cp.Problem(obj, cons)"
      ],
      "execution_count": null,
      "outputs": []
    },
    {
      "cell_type": "markdown",
      "metadata": {
        "id": "o1RJ-0gkjhgp"
      },
      "source": [
        "To solve the problem for a given gamma, we can simply just set gamma equal to some value and then apply the prob.solve() command. However, as a decision-maker, we may not be sure what the most preferred gamma is. Instead, we can use the code below to compute the *trade-off curve* between return and risk, which plots the return and risk for a large set of gammas. The curve can be interpreted as: for each level of risk (x-axis), the maxmimum return possible is shown (y-axis).  As is often the case in modern portfolio theory, we will plot the standard deviation of a porfolio rather than the variance on the x-axis. Both concepts capture the notion of risk, since the standard deviation is simply the square root of variance. The larger the standard deviation, the larger the variance, and vice versa. "
      ]
    },
    {
      "cell_type": "code",
      "metadata": {
        "id": "BiKuTP0VigMR",
        "outputId": "3bcf7bf3-2ce3-4a13-dd35-98176853eab2",
        "colab": {
          "base_uri": "https://localhost:8080/",
          "height": 279
        }
      },
      "source": [
        "# Initialize values\n",
        "SAMPLES = 100   #number of gammas we will use\n",
        "risk_data = np.zeros(SAMPLES)  #creating list of zeros\n",
        "ret_data = np.zeros(SAMPLES)  #creating list of zeros\n",
        "gamma_vals = np.logspace(-2,3, num = SAMPLES)  #creating a list of different gamma values\n",
        "\n",
        "# Loop through different gamma values/samples\n",
        "for i in range(SAMPLES):\n",
        "  gamma.value = gamma_vals[i]\n",
        "  prob.solve()\n",
        "  risk_data[i] = cp.sqrt(risk).value  #square root of elements of covariance matrix\n",
        "  ret_data[i] = ret.value   #expected return of stocks\n",
        "\n",
        "# Plot the trade-off curve\n",
        "markers_on = [1,40,60]\n",
        "fig = plt.figure()\n",
        "ax = fig.add_subplot(111)\n",
        "plt.plot(risk_data, ret_data, 'g-')\n",
        "for marker in markers_on:\n",
        "    plt.plot(risk_data[marker], ret_data[marker], 'bs')\n",
        "    ax.annotate(r\"$\\gamma = %.2f$\" % gamma_vals[marker], xy=(risk_data[marker], ret_data[marker]-.00025))\n",
        "plt.xlabel('Standard deviation')\n",
        "plt.ylabel('Return')\n",
        "plt.show()"
      ],
      "execution_count": null,
      "outputs": [
        {
          "output_type": "display_data",
          "data": {
            "image/png": "[encoded data removed]",
            "text/plain": [
              "<Figure size 432x288 with 1 Axes>"
            ]
          },
          "metadata": {
            "tags": [],
            "needs_background": "light"
          }
        }
      ]
    },
    {
      "cell_type": "markdown",
      "metadata": {
        "id": "tL8MSrrjRWPF"
      },
      "source": [
        "## Conceptual Exercises\n",
        "\n",
        "1. Why does the curve go to the bottom left corner as we increase gamma?\n",
        "\n",
        "2. If our current (optimally constructed) portfolio has an expected standard deviation of 0.02, and we want to reduce the standard deviation to be 0.012, what is the expected *loss* in returns? A rough approximation is fine, this is just to get you familiar with interpreting the graph. \n",
        "\n",
        "3. Why do you think the expected return of the portfolio plateaus at the top right corner? What is the bound on the expected return of a portfolio?"
      ]
    },
    {
      "cell_type": "markdown",
      "metadata": {
        "id": "VbzkoOnPVAAJ"
      },
      "source": [
        "### Answers\n",
        "\n",
        "1. As we increase gamma, we are putting more emphasis on minimizing the risk (i.e., variance) of the portfolio, and thus the optimal portfolios will increasingly go to the left of the graph. Because there is a trade-off between return and risk, as we decrease risk the expected returns are decreased. \n",
        "\n",
        "2. We lose about 0.001 dollars on every dollar invested. \n",
        "\n",
        "3. The maximum expected return of the portfolio can only be as high as the maximum expected return of any one stock. This extreme case is where you invest all of your money in a single stock without diversifying. "
      ]
    },
    {
      "cell_type": "markdown",
      "metadata": {
        "id": "bduq0CvG9_M4"
      },
      "source": [
        "## Coding Exercises\n",
        "\n",
        "Now it's time for you to practice coding! Try coding up the following problem:\n",
        "\n",
        "1. Suppose we want to build a portfolio where the expected return is at least 0.001. Solve for the portfolio with the lowest possible variance in this setting. \n",
        "  - What is the portfolio allocation vector, the expected return, and the variance? \n",
        "  - How many stocks are you investing in?\n",
        "\n",
        "2. Suppose we want to build a portfolio using *only* stocks that have an expected return of at least 0.001. Solve for the portfolio with the lowest possible variance in this setting.    \n",
        " - What is the portfolio allocation vector, the expected return, and the variance? \n",
        "  - How many stocks are you investing in? \n",
        "\n",
        "3. The variance of the first portfolio ($1.061 \\times 10^{-4}$) is lower than the second portfolio ($1.264 \\times 10^{-4}$). Why do you think that is?"
      ]
    },
    {
      "cell_type": "markdown",
      "metadata": {
        "id": "i75aus3AfY1u"
      },
      "source": [
        "### Answers\n",
        "\n",
        "1. See below.\n",
        "\n",
        "2. See below.\n",
        "\n",
        "3. In the second portfolio, you are constraining which assets you can use to build the portfolio. In particular, the feasible region of the second problem is smaller than that of the first problem, since you are restricting a subset of the asset investments to be zero. As this is a minimization problem, a smaller feasible region results in a larger objective value."
      ]
    },
    {
      "cell_type": "code",
      "metadata": {
        "id": "YohX0fQnbxVR",
        "outputId": "bc333586-6030-4e2e-d2ba-034dc3ebcd4d",
        "colab": {
          "base_uri": "https://localhost:8080/"
        }
      },
      "source": [
        "#First Portfolio Problem\n",
        "# Hint: you can use np.round() and np.count_nonzero() functions.\n",
        "\n",
        "#variable and parameter definition\n",
        "x = cp.Variable(len(mu))\n",
        "ret = mu.T*x\n",
        "risk = cp.quad_form(x, Sigma)\n",
        "\n",
        "#objective definition\n",
        "obj = cp.Minimize(risk)\n",
        "\n",
        "#constraint definition\n",
        "cons = []\n",
        "cons.append(cp.sum(x) == 1)\n",
        "cons.append(x >= 0)\n",
        "cons.append(ret >= 0.001)  #new constraint\n",
        "\n",
        "#problem definition\n",
        "prob = cp.Problem(obj, cons)\n",
        "\n",
        "prob.solve()\n",
        "print(np.round(x.value,3))\n",
        "print('We are investing in {} stocks.'.format(np.count_nonzero(np.round(x.value,3))))\n",
        "print('The expected return of this portfolio is {}'.format(ret.value))\n",
        "print('The variance of this portfolio is {}'.format(obj.value))"
      ],
      "execution_count": null,
      "outputs": [
        {
          "output_type": "stream",
          "text": [
            "[-0.    -0.     0.162  0.037 -0.     0.076 -0.    -0.    -0.     0.045\n",
            "  0.047  0.049  0.055  0.028  0.038  0.     0.018 -0.     0.    -0.\n",
            "  0.032 -0.    -0.    -0.     0.103  0.231  0.081  0.     0.   ]\n",
            "We are investing in 14 stocks.\n",
            "The expected return of this portfolio is 0.0009999999999999998\n",
            "The variance of this portfolio is 0.00010606095905166694\n"
          ],
          "name": "stdout"
        }
      ]
    },
    {
      "cell_type": "code",
      "metadata": {
        "id": "SK_-kwMSdJwZ",
        "outputId": "36688d95-db95-4f17-a8b9-bae66360aefc",
        "colab": {
          "base_uri": "https://localhost:8080/"
        }
      },
      "source": [
        "#Second Portfolio Problem\n",
        "# Hint: you can use np.round() and np.count_nonzero() functions.\n",
        "\n",
        "#variable and parameter definitions\n",
        "x = cp.Variable(len(mu))\n",
        "\n",
        "#objective definition\n",
        "ret = mu.T*x\n",
        "risk = cp.quad_form(x, Sigma)\n",
        "obj = cp.Minimize(risk)\n",
        "\n",
        "#constraint definition\n",
        "cons = []\n",
        "cons.append(cp.sum(x) == 1)\n",
        "cons.append(x >= 0)\n",
        "for index,value in enumerate(mu):   #new set of constraints\n",
        "  if value <= 0.0009999:\n",
        "    cons.append(x[index] <= 0)\n",
        "\n",
        "#formulating the problem\n",
        "prob = cp.Problem(obj, cons)\n",
        "\n",
        "#solve the problem \n",
        "prob.solve()\n",
        "print(np.round(x.value,3))\n",
        "print('We are investing in {} stocks.'.format(np.count_nonzero(np.round(x.value,3))))\n",
        "print('The expected return of this portfolio is {}'.format(ret.value))\n",
        "print('The variance of the portfolio is {}'.format(obj.value))"
      ],
      "execution_count": null,
      "outputs": [
        {
          "output_type": "stream",
          "text": [
            "[-0.    -0.     0.     0.039 -0.     0.138  0.    -0.    -0.     0.113\n",
            " -0.     0.158  0.093 -0.    -0.     0.035  0.     0.    -0.    -0.\n",
            " -0.    -0.     0.022 -0.    -0.     0.264  0.139  0.    -0.   ]\n",
            "We are investing in 9 stocks.\n",
            "The expected return of this portfolio is 0.0016281117530571195\n",
            "The variance of the portfolio is 0.0001264080130435936\n"
          ],
          "name": "stdout"
        }
      ]
    },
    {
      "cell_type": "markdown",
      "metadata": {
        "id": "nXlyI4bxPLSn"
      },
      "source": [
        "# Reflection\n",
        "\n",
        "In this lab, you learn how to model, code and solve optimization problems. A major assumption of this lab is that the parameters of the optimization problem are known. For example, we assumed that the expected return and covariance matrix of the stocks could be generated using historical estimates. \n",
        "\n",
        "In real-world applications, you not only have to solve optimization problems, but you also have the estimate the parameters of your optimization problem. In one of the future labs we will cover a *predict-and-optimize* process, where we use machine learning techniques to predict parameters which we can then feed into an optimization model. This approach combines predictive and prescriptive analytics. "
      ]
    }
  ]
}