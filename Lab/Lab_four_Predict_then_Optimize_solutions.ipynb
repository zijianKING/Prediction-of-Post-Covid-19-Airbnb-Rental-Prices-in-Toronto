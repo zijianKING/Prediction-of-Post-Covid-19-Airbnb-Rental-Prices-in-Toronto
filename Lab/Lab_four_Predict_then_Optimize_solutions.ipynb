{
  "nbformat": 4,
  "nbformat_minor": 0,
  "metadata": {
    "kernelspec": {
      "display_name": "Python 3",
      "language": "python",
      "name": "python3"
    },
    "language_info": {
      "codemirror_mode": {
        "name": "ipython",
        "version": 3
      },
      "file_extension": ".py",
      "mimetype": "text/x-python",
      "name": "python",
      "nbconvert_exporter": "python",
      "pygments_lexer": "ipython3",
      "version": "3.7.2"
    },
    "colab": {
      "name": "Lab_four_Predict_then_Optimize_solutions.ipynb",
      "provenance": [],
      "collapsed_sections": [],
      "toc_visible": true
    },
    "pycharm": {
      "stem_cell": {
        "cell_type": "raw",
        "source": [],
        "metadata": {
          "collapsed": false
        }
      }
    }
  },
  "cells": [
    {
      "cell_type": "markdown",
      "metadata": {
        "id": "qJO6wLqtku-o"
      },
      "source": [
        "<center>\n",
        "    <h3>University of Toronto</h3>\n",
        "    <h3>Department of Mechanical and Industrial Engineering</h3>\n",
        "    <h3>MIE368 Analytics in Action </h3>\n",
        "    <h3>(Fall 2020)</h3>\n",
        "    <hr>\n",
        "    <h1>Lab 4: Predict then Optimize </h1>\n",
        "    <h3>October 21, 2020</h3>\n",
        "</center>\n"
      ]
    },
    {
      "cell_type": "markdown",
      "metadata": {
        "id": "BgIYDa5lku-p"
      },
      "source": [
        "# Introduction\n",
        "In this lab we investigate how we can combine prediction models (predictive analytics) with optimization models (prescriptive analytics). The power of prescriptive analytics is that we can begin to influence decision-making! In this lab, we will look at a real world application of combining these two approaches. \n",
        "\n",
        "There are two high level modelling choices we can follow when designing a predict-then-optimize pipeline:\n",
        "\n",
        "\n",
        "1.   Use the $\\beta$ values from a model such as linear regression as coefficients in an optimization model\n",
        "2.   Use the actual predicted values, i.e. $\\hat{y}$, from a model like logistic regression as coefficients in an optimization model\n",
        "\n",
        "\n",
        "\n",
        "\n"
      ]
    },
    {
      "cell_type": "markdown",
      "metadata": {
        "id": "Hxn2Pp8oku-w"
      },
      "source": [
        "### Exercises\n",
        "\n",
        "1. Concisely explain the difference between predictive and prescriptive analytics."
      ]
    },
    {
      "cell_type": "markdown",
      "metadata": {
        "id": "kbKMbB1-ku-w"
      },
      "source": [
        "___\n",
        "__Question 1 Answer__:\n",
        "Predictive analytics just seeks to determine what may happen in the future, while prescriptive analytics seeks to determine what decisions should be made to best guarantee that desired future events take place. \n",
        "\n",
        "___"
      ]
    },
    {
      "cell_type": "markdown",
      "metadata": {
        "id": "n0uA9FD5zQzT"
      },
      "source": [
        "2. You create a model that *determines how much traffic will be present during your drive to work.* Would that model fall under predictive or prescriptive analytics? Why?"
      ]
    },
    {
      "cell_type": "markdown",
      "metadata": {
        "id": "xF50NlV6zx7P"
      },
      "source": [
        "___\n",
        "__Question 2 Answer__:\n",
        "This would fall under predictive analytics as we are just trying to predict traffic levels, not make any explicit decisions.\n",
        "\n",
        "___"
      ]
    },
    {
      "cell_type": "markdown",
      "metadata": {
        "id": "sXiCHNayzHxl"
      },
      "source": [
        "3. You create a model that *determines the best route to take to work by avoiding traffic*. Would that model fall under predictive or prescriptive analytics? Why? "
      ]
    },
    {
      "cell_type": "markdown",
      "metadata": {
        "id": "IqZXsLHczmFR"
      },
      "source": [
        "___\n",
        "__Question 3 Answer__:\n",
        "This would fall under prescriptive analytics as we are trying to influence optimal decision making.\n",
        "\n",
        "___"
      ]
    },
    {
      "cell_type": "markdown",
      "metadata": {
        "id": "UtZtfRO0ku-4"
      },
      "source": [
        "# Application: Wheelchair Rugby (WCR)\n",
        "\n",
        "In this lab, we will use a dataset describing Canada's paralympic wheelchair rugby team. It became an official paralympic sport in Sydney in 2000, and was originally called \"*murder ball*\"! It is highly recommended that you watch the following short 2 minute video going over the rules of wheelchair rugby. This should provide a good understanding for the lab, while also being quite interesting :)\n",
        "\n",
        "\n",
        "<a href=\"https://www.youtube.com/watch?v=tSzFmlWgVsM&feature=emb_logo&ab_channel=ParalympicGames\" target=\"\"><img src=\"http://i3.ytimg.com/vi/tSzFmlWgVsM/hqdefault.jpg\" \n",
        "alt=\"\" width=\"240\" height=\"180\" border=\"10\" /></a>\n",
        "\n",
        "\n",
        "There are two main features to wheelchair rugby that are important to highlight:\n",
        "\n",
        "\n",
        "1.   Each player on the team will have a phyical ability rating of one of the following values: {3.5, 3.0, 2.5, 2.0, 1.5, 1.0, 0.5, 0.0}. Note, this takes into account men's and women's slightly different rating systems. The higher the rating, the more mobility they have with their body.\n",
        "2.   Teams must have four players on the court at any time. The sum of the physical ability ratings of those players on the court cannot exceed 8. \n",
        "\n",
        "\n",
        "\n"
      ]
    },
    {
      "cell_type": "markdown",
      "metadata": {
        "id": "ppHDBE2hENLh"
      },
      "source": [
        "### Exercises\n",
        "\n",
        "1. Based on the video, which physical rating is more likely to be the goal scorers on a wheelchair rugby team?"
      ]
    },
    {
      "cell_type": "markdown",
      "metadata": {
        "id": "QbkRyhCUEcuq"
      },
      "source": [
        "  ___\n",
        " __Question 1 Answer__:\n",
        "\n",
        "Players with a higher physical rating.\n",
        "___"
      ]
    },
    {
      "cell_type": "markdown",
      "metadata": {
        "id": "Clwz5bvNVkUJ"
      },
      "source": [
        "The second important feature we highlighted above should remind us of an optimization concept we learned recently: knapsack constraints. At first glance, it seems like there is room to gain a competitive advantage by building optimal lineups that maximize value while adhering to this enforced knapsack constraint. \n",
        "\n",
        "What exactly is the value/metric that we should try to optimize though? Lets do a quick review on *adjusted plus/minus per 100 possessions*, a metric frequently used in sports statistics. "
      ]
    },
    {
      "cell_type": "markdown",
      "metadata": {
        "id": "4Py1rZvXNkQ4"
      },
      "source": [
        "# Adjusted Plus/Minus per 100 possessions ($APM_{100}$)\n",
        "\n",
        "The adjusted plus/minus per 100 possessions ($APM_{100}$) is a metric that measures how much impact a particular player has in the game. There are two usages of the term $APM_{100}$ that is important to differentiate:\n",
        "\n",
        "1.   $APM_{100}$ for a ***stint***: which is the score differential divided by the number of possession for a particular stint multiplied by 100.\n",
        "2.   $APM_{100}$ for a ***player***: which is a players contribution to achieving the $APM_{100}$ for a stint.\n",
        "\n",
        "Note, a stint is defined as a portion of a game in which the same players were on the court throughout, i.e., there were no substitutions.\n",
        "\n",
        "For example, lets say theres two teams, each of which had two players on the court for a particular stint. Lets call the players A1, A2, B1 and B2. Lets say the scoring for that stint was 11-5 in favour of team A, over 15 possessions. Therefore, the $APM_{100}$ for that **stint** is $(11-5)/15 *100 = +40$.\n",
        "\n",
        "What we are interested in is the $APM_{100}$ for each of the **players** to see how they contributed to that +40. To get these values, we solve the following regression equation:\n",
        "\n",
        "$\\beta_{A1} + \\beta_{A2} + \\beta_{B1} + \\beta_{B2} + \\beta_{0} = +40$\n",
        "\n",
        "Where $\\beta_i$ is the $APM_{100}$ for **player** $i$, and $\\beta_0$ is just an intercept term.\n",
        "\n",
        "We would have an equation like the one above for **every** stint in a game, and this way, get accurate measures of the $\\beta$'s for each **player**, aka, their impact in the game! \n",
        "\n",
        "A more comprehensive explanation and intuition behind $APM_{100}$ is found in the appendix. Note, you will not be quizzed on $APM_{100}$.\n"
      ]
    },
    {
      "cell_type": "markdown",
      "metadata": {
        "id": "kguaMv6zRLR5"
      },
      "source": [
        "# Exploratory Data Analysis\n",
        "\n",
        "We now import and explore the stint data for the Canadian paralympic WCR team. Each row of the data describes one stint. There are indicators for which team Canada played against, as well as how many of each type of physical rated player was on the court for the home and away team. Lastly, the final column has the $APM_{100}$ value for that stint."
      ]
    },
    {
      "cell_type": "code",
      "metadata": {
        "id": "j7Lp6oiaku-5",
        "outputId": "e30fdae3-1f6f-4b42-cfef-e2d8a21a2647",
        "colab": {
          "base_uri": "https://localhost:8080/",
          "height": 215
        }
      },
      "source": [
        "# Import packages\n",
        "import matplotlib.pyplot as plt\n",
        "import numpy as np\n",
        "import pandas as pd\n",
        "import seaborn as sns\n",
        "from sklearn.model_selection import train_test_split\n",
        "from sklearn.linear_model import RidgeCV\n",
        "import cvxpy as cp\n",
        "\n",
        "\n",
        "# Load dataset\n",
        "df = pd.read_csv('https://docs.google.com/uc?export=download&id=1LfmtKomWZO_1gd2O751GqMrLfpi8pBFo') \n",
        "df.head() # prints the first 5 rows of the dataframe \n"
      ],
      "execution_count": 1,
      "outputs": [
        {
          "output_type": "execute_result",
          "data": {
            "text/html": [
              "<div>\n",
              "<style scoped>\n",
              "    .dataframe tbody tr th:only-of-type {\n",
              "        vertical-align: middle;\n",
              "    }\n",
              "\n",
              "    .dataframe tbody tr th {\n",
              "        vertical-align: top;\n",
              "    }\n",
              "\n",
              "    .dataframe thead th {\n",
              "        text-align: right;\n",
              "    }\n",
              "</style>\n",
              "<table border=\"1\" class=\"dataframe\">\n",
              "  <thead>\n",
              "    <tr style=\"text-align: right;\">\n",
              "      <th></th>\n",
              "      <th>Home</th>\n",
              "      <th>Away</th>\n",
              "      <th>Away_Argentina</th>\n",
              "      <th>Away_Brazil</th>\n",
              "      <th>Away_Chile</th>\n",
              "      <th>Away_Colombia</th>\n",
              "      <th>Away_Denmark</th>\n",
              "      <th>Away_France</th>\n",
              "      <th>Away_Great_Britain</th>\n",
              "      <th>Away_Japan</th>\n",
              "      <th>Away_Poland</th>\n",
              "      <th>Away_Sweden</th>\n",
              "      <th>Away_USA</th>\n",
              "      <th>home_3_5</th>\n",
              "      <th>home_3_0</th>\n",
              "      <th>home_2_5</th>\n",
              "      <th>home_2_0</th>\n",
              "      <th>home_1_5</th>\n",
              "      <th>home_1_0</th>\n",
              "      <th>home_0_5</th>\n",
              "      <th>home_0_0</th>\n",
              "      <th>away_3_5</th>\n",
              "      <th>away_3_0</th>\n",
              "      <th>away_2_5</th>\n",
              "      <th>away_2_0</th>\n",
              "      <th>away_1_5</th>\n",
              "      <th>away_1_0</th>\n",
              "      <th>away_0_5</th>\n",
              "      <th>away_0_0</th>\n",
              "      <th>APM_100</th>\n",
              "    </tr>\n",
              "  </thead>\n",
              "  <tbody>\n",
              "    <tr>\n",
              "      <th>0</th>\n",
              "      <td>Canada</td>\n",
              "      <td>Poland</td>\n",
              "      <td>0</td>\n",
              "      <td>0</td>\n",
              "      <td>0</td>\n",
              "      <td>0</td>\n",
              "      <td>0</td>\n",
              "      <td>0</td>\n",
              "      <td>0</td>\n",
              "      <td>0</td>\n",
              "      <td>1</td>\n",
              "      <td>0</td>\n",
              "      <td>0</td>\n",
              "      <td>0</td>\n",
              "      <td>1</td>\n",
              "      <td>0</td>\n",
              "      <td>2</td>\n",
              "      <td>0</td>\n",
              "      <td>1</td>\n",
              "      <td>0</td>\n",
              "      <td>0</td>\n",
              "      <td>1</td>\n",
              "      <td>0</td>\n",
              "      <td>0</td>\n",
              "      <td>2</td>\n",
              "      <td>0</td>\n",
              "      <td>0</td>\n",
              "      <td>1</td>\n",
              "      <td>0</td>\n",
              "      <td>-16.666667</td>\n",
              "    </tr>\n",
              "    <tr>\n",
              "      <th>1</th>\n",
              "      <td>Canada</td>\n",
              "      <td>Poland</td>\n",
              "      <td>0</td>\n",
              "      <td>0</td>\n",
              "      <td>0</td>\n",
              "      <td>0</td>\n",
              "      <td>0</td>\n",
              "      <td>0</td>\n",
              "      <td>0</td>\n",
              "      <td>0</td>\n",
              "      <td>1</td>\n",
              "      <td>0</td>\n",
              "      <td>0</td>\n",
              "      <td>1</td>\n",
              "      <td>1</td>\n",
              "      <td>0</td>\n",
              "      <td>0</td>\n",
              "      <td>0</td>\n",
              "      <td>1</td>\n",
              "      <td>1</td>\n",
              "      <td>0</td>\n",
              "      <td>1</td>\n",
              "      <td>0</td>\n",
              "      <td>0</td>\n",
              "      <td>2</td>\n",
              "      <td>0</td>\n",
              "      <td>0</td>\n",
              "      <td>1</td>\n",
              "      <td>0</td>\n",
              "      <td>4.638615</td>\n",
              "    </tr>\n",
              "    <tr>\n",
              "      <th>2</th>\n",
              "      <td>Canada</td>\n",
              "      <td>Poland</td>\n",
              "      <td>0</td>\n",
              "      <td>0</td>\n",
              "      <td>0</td>\n",
              "      <td>0</td>\n",
              "      <td>0</td>\n",
              "      <td>0</td>\n",
              "      <td>0</td>\n",
              "      <td>0</td>\n",
              "      <td>1</td>\n",
              "      <td>0</td>\n",
              "      <td>0</td>\n",
              "      <td>1</td>\n",
              "      <td>1</td>\n",
              "      <td>0</td>\n",
              "      <td>0</td>\n",
              "      <td>0</td>\n",
              "      <td>1</td>\n",
              "      <td>1</td>\n",
              "      <td>0</td>\n",
              "      <td>1</td>\n",
              "      <td>0</td>\n",
              "      <td>0</td>\n",
              "      <td>2</td>\n",
              "      <td>0</td>\n",
              "      <td>0</td>\n",
              "      <td>1</td>\n",
              "      <td>0</td>\n",
              "      <td>4.253957</td>\n",
              "    </tr>\n",
              "    <tr>\n",
              "      <th>3</th>\n",
              "      <td>Canada</td>\n",
              "      <td>Poland</td>\n",
              "      <td>0</td>\n",
              "      <td>0</td>\n",
              "      <td>0</td>\n",
              "      <td>0</td>\n",
              "      <td>0</td>\n",
              "      <td>0</td>\n",
              "      <td>0</td>\n",
              "      <td>0</td>\n",
              "      <td>1</td>\n",
              "      <td>0</td>\n",
              "      <td>0</td>\n",
              "      <td>1</td>\n",
              "      <td>1</td>\n",
              "      <td>0</td>\n",
              "      <td>0</td>\n",
              "      <td>0</td>\n",
              "      <td>1</td>\n",
              "      <td>1</td>\n",
              "      <td>0</td>\n",
              "      <td>0</td>\n",
              "      <td>0</td>\n",
              "      <td>0</td>\n",
              "      <td>4</td>\n",
              "      <td>0</td>\n",
              "      <td>0</td>\n",
              "      <td>0</td>\n",
              "      <td>0</td>\n",
              "      <td>0.557469</td>\n",
              "    </tr>\n",
              "    <tr>\n",
              "      <th>4</th>\n",
              "      <td>Canada</td>\n",
              "      <td>Poland</td>\n",
              "      <td>0</td>\n",
              "      <td>0</td>\n",
              "      <td>0</td>\n",
              "      <td>0</td>\n",
              "      <td>0</td>\n",
              "      <td>0</td>\n",
              "      <td>0</td>\n",
              "      <td>0</td>\n",
              "      <td>1</td>\n",
              "      <td>0</td>\n",
              "      <td>0</td>\n",
              "      <td>1</td>\n",
              "      <td>1</td>\n",
              "      <td>0</td>\n",
              "      <td>0</td>\n",
              "      <td>0</td>\n",
              "      <td>1</td>\n",
              "      <td>1</td>\n",
              "      <td>0</td>\n",
              "      <td>0</td>\n",
              "      <td>0</td>\n",
              "      <td>0</td>\n",
              "      <td>4</td>\n",
              "      <td>0</td>\n",
              "      <td>0</td>\n",
              "      <td>0</td>\n",
              "      <td>0</td>\n",
              "      <td>-5.970548</td>\n",
              "    </tr>\n",
              "  </tbody>\n",
              "</table>\n",
              "</div>"
            ],
            "text/plain": [
              "     Home    Away  Away_Argentina  ...  away_0_5  away_0_0    APM_100\n",
              "0  Canada  Poland               0  ...         1         0 -16.666667\n",
              "1  Canada  Poland               0  ...         1         0   4.638615\n",
              "2  Canada  Poland               0  ...         1         0   4.253957\n",
              "3  Canada  Poland               0  ...         0         0   0.557469\n",
              "4  Canada  Poland               0  ...         0         0  -5.970548\n",
              "\n",
              "[5 rows x 30 columns]"
            ]
          },
          "metadata": {
            "tags": []
          },
          "execution_count": 1
        }
      ]
    },
    {
      "cell_type": "markdown",
      "metadata": {
        "id": "kSDeVuBpku_A"
      },
      "source": [
        "The table below contains the data dictionary.\n",
        "\n",
        "|Feature          |Definition                                             |\n",
        "|:---------------:|:------------------------------------------------------|\n",
        "|Home           | The home team (always Canada)                  |\n",
        "|Away            |The away team Canada played against |    \n",
        "|Away_Argentina      |1 if the away team was Argentina, 0 o/w |\n",
        "|...             |              | \n",
        "|Away_USA    |1 if the away team was USA, 0 o/w |\n",
        "|home_3_5  |The number of 3.5 rated players on the court for the home team                        \n",
        "|...             |              | \n",
        "|home_0_0  |The number of 0.0 rated players on the court for the home team\n",
        "|away_3_5  |The number of 3.5 rated players on the court for the away team                        \n",
        "|...             |              | \n",
        "|away_0_0  |The number of 0.0 rated players on the court for the away team\n",
        "|APM_100 | $APM_{100}$ for that stint \n",
        "\n"
      ]
    },
    {
      "cell_type": "markdown",
      "metadata": {
        "id": "GffnCG6MMOVM"
      },
      "source": [
        "### Exercises\n",
        "\n",
        "1. How many stints are in the dataset?"
      ]
    },
    {
      "cell_type": "code",
      "metadata": {
        "id": "RSVrjsynMaFy",
        "outputId": "4cdbfdca-1775-4169-8b4a-76ba2f1c7820",
        "colab": {
          "base_uri": "https://localhost:8080/",
          "height": 34
        }
      },
      "source": [
        "# Write your code here.  \n",
        "\n",
        "# -------------------\n",
        "\n",
        "df.shape[0]\n",
        "\n",
        "# -------------------"
      ],
      "execution_count": 2,
      "outputs": [
        {
          "output_type": "execute_result",
          "data": {
            "text/plain": [
              "334"
            ]
          },
          "metadata": {
            "tags": []
          },
          "execution_count": 2
        }
      ]
    },
    {
      "cell_type": "markdown",
      "metadata": {
        "id": "KIpwaHgGM1Om"
      },
      "source": [
        "2. How many stints did Canada play against each country?"
      ]
    },
    {
      "cell_type": "code",
      "metadata": {
        "id": "d4iSqDe1Msx-",
        "outputId": "5046de7b-168a-41ba-c7c1-14f3f4a82ab4",
        "colab": {
          "base_uri": "https://localhost:8080/",
          "height": 218
        }
      },
      "source": [
        "# Write your code here.  \n",
        "\n",
        "# -------------------\n",
        "\n",
        "df['Away'].value_counts()\n",
        "\n",
        "# -------------------"
      ],
      "execution_count": 3,
      "outputs": [
        {
          "output_type": "execute_result",
          "data": {
            "text/plain": [
              "Japan            62\n",
              "France           54\n",
              "Denmark          47\n",
              "USA              45\n",
              "Colombia         28\n",
              "Sweden           23\n",
              "Brazil           21\n",
              "Chile            15\n",
              "Poland           13\n",
              "Argentina        13\n",
              "Great_Britain    13\n",
              "Name: Away, dtype: int64"
            ]
          },
          "metadata": {
            "tags": []
          },
          "execution_count": 3
        }
      ]
    },
    {
      "cell_type": "markdown",
      "metadata": {
        "id": "wo1UkrdmMmNt"
      },
      "source": [
        "3. What is the average $APM_{100}$ over all stints?"
      ]
    },
    {
      "cell_type": "code",
      "metadata": {
        "id": "40ZhOsrKM5l4",
        "outputId": "f3bba5c6-e103-4651-f795-4fcdff363ca0",
        "colab": {
          "base_uri": "https://localhost:8080/",
          "height": 34
        }
      },
      "source": [
        "# Write your code here.  \n",
        "\n",
        "# -------------------\n",
        "\n",
        "df['APM_100'].mean()\n",
        "\n",
        "# -------------------"
      ],
      "execution_count": 4,
      "outputs": [
        {
          "output_type": "execute_result",
          "data": {
            "text/plain": [
              "6.018087546661678"
            ]
          },
          "metadata": {
            "tags": []
          },
          "execution_count": 4
        }
      ]
    },
    {
      "cell_type": "markdown",
      "metadata": {
        "id": "jAguYpT8Ocq0"
      },
      "source": [
        "4. What is the average $APM_{100}$ for each country Canada faced?\n",
        "\n",
        "\n"
      ]
    },
    {
      "cell_type": "code",
      "metadata": {
        "id": "S8BHO5iiOgxg",
        "outputId": "c176289e-d881-4de8-8c8b-6b61d5f47551",
        "colab": {
          "base_uri": "https://localhost:8080/",
          "height": 235
        }
      },
      "source": [
        "# Write your code here.  \n",
        "\n",
        "# -------------------\n",
        "\n",
        "df.groupby('Away')['APM_100'].mean()\n",
        "\n",
        "# -------------------"
      ],
      "execution_count": 5,
      "outputs": [
        {
          "output_type": "execute_result",
          "data": {
            "text/plain": [
              "Away\n",
              "Argentina        38.252628\n",
              "Brazil            9.450532\n",
              "Chile            27.255230\n",
              "Colombia         11.768853\n",
              "Denmark           0.457460\n",
              "France           -3.333349\n",
              "Great_Britain   -15.351736\n",
              "Japan             7.283580\n",
              "Poland           -1.021517\n",
              "Sweden           32.226771\n",
              "USA              -5.455680\n",
              "Name: APM_100, dtype: float64"
            ]
          },
          "metadata": {
            "tags": []
          },
          "execution_count": 5
        }
      ]
    },
    {
      "cell_type": "markdown",
      "metadata": {
        "id": "eAcSRnE8PBXV"
      },
      "source": [
        "5. Based on the average $APM_{100}$ by country, which country does Canada perform the best against? What about the worst against?"
      ]
    },
    {
      "cell_type": "markdown",
      "metadata": {
        "id": "Qh_cLU0bPJ9j"
      },
      "source": [
        "___\n",
        "__Question 5 Answer__:\n",
        "\n",
        "It seems that Canada performs best against Argentina (average $APM_{100}$ = 38.25) and worst against Great_Britain (average $APM_{100}$ = -15.35).\n",
        "___"
      ]
    },
    {
      "cell_type": "markdown",
      "metadata": {
        "id": "QLL2yQluRQJB"
      },
      "source": [
        "# Phase One: Prediction\n",
        "\n",
        "We now begin the first phase of our predict-then-optimize framework. We will use the loaded data to regress on the $APM_{100}$ for each stint. Since we don't have data on the actual players on the court, we'll use the available data to learn the $\\beta$ values for each physical ability rating. \n",
        "\n",
        "To solve for the $\\beta$ values in $APM_{100}$ calculations, it is common practice to use Ridge regression (i.e., L-2 Regularization, see Lab One for more information). If you are curious as to why we choose Ridge regression, the last few sections of [this blog post](https://squared2020.com/2017/09/18/deep-dive-on-regularized-adjusted-plus-minus-i-introductory-example/) provides the rationale. \n",
        "\n",
        "Note that we will face two major limitations. First, models that use $APM_{100}$ generally suffer from multicollinearity. We will ignore that issue for the sake of brevity, however, it is something you should consider more seriously in your projects. Second, we are violating the general rule of thumb that for a dataset with $N$ samples, we should use no more than $\\sqrt{N}$ features. This is the reality of building models with real world data, it is never perfect!\n",
        "\n",
        "\n",
        "The following code splits the data into a training and testing set and builds the model to estimate the $\\beta$ values based on the home and away player's physical ratings."
      ]
    },
    {
      "cell_type": "code",
      "metadata": {
        "id": "8un1N5xpRuig",
        "outputId": "c1ecf211-9426-4280-af5b-25ddc95136ca",
        "colab": {
          "base_uri": "https://localhost:8080/",
          "height": 34
        }
      },
      "source": [
        "# from sklearn.linear_model import RidgeCV\n",
        "# from sklearn.model_selection import train_test_split\n",
        "\n",
        "# Split the data into the training and testing set\n",
        "X_train, X_test, y_train, y_test = train_test_split(df.drop('APM_100',1),  # all X data\n",
        "                                                    df['APM_100'],  # All y data\n",
        "                                                    test_size=0.30,  # Fraction of data in test set\n",
        "                                                    shuffle=True,  # Randomly splits the data\n",
        "                                                    random_state = 3  # Sets random seed for reproducability \n",
        "                                                    )\n",
        "\n",
        "# Only look at the home and away physical ratings as dependent features\n",
        "X_train = X_train.loc[:, 'home_3_5':'away_0_0']\n",
        "X_test = X_test.loc[:, 'home_3_5':'away_0_0']\n",
        "\n",
        "# Initialize and fit the cross-validated Ridge model\n",
        "ridge = RidgeCV()\n",
        "ridge.fit(X_train, y_train)\n",
        "\n",
        "# Score the model\n",
        "train_score = ridge.score(X_train, y_train)\n",
        "test_score = ridge.score(X_test, y_test)\n",
        "print(f'The train score is {train_score:.3f} and the test score is {test_score:.3f}')\n"
      ],
      "execution_count": 6,
      "outputs": [
        {
          "output_type": "stream",
          "text": [
            "The train score is 0.311 and the test score is 0.176\n"
          ],
          "name": "stdout"
        }
      ]
    },
    {
      "cell_type": "markdown",
      "metadata": {
        "id": "g-dD7xlpeiMJ"
      },
      "source": [
        "### Exercises\n",
        "\n",
        "The training and testing score for the above model performs very poorly. Thinking back to our EDA, we discovered that the $APM_{100}$ greatly varies depending on which team Canada was playing against. Since we don't have data for individual players, which would be ideal, lets incorporate the away teams into the model. This should allow us to determine a $\\beta$ for each physical rating, but scaled to that particular away team. \n",
        "\n",
        "1. Fill in the following code block to build a `RidgeCV` model that uses the columns from `'Away_Argentina':'away_0_0'` and call the model `ridge_teams`. Report the training and testing score. "
      ]
    },
    {
      "cell_type": "code",
      "metadata": {
        "id": "OG7v3eVWdMPr",
        "outputId": "beef2133-b295-4860-a184-4e57d651a7ad",
        "colab": {
          "base_uri": "https://localhost:8080/",
          "height": 34
        }
      },
      "source": [
        "# Split the data into the training and testing set\n",
        "X_train, X_test, y_train, y_test = train_test_split(df.drop('APM_100',1), df['APM_100'], test_size=0.30, shuffle=True, random_state = 3)\n",
        "\n",
        "# Write your code here. \n",
        "\n",
        "# -------------------\n",
        "\n",
        "X_train = X_train.loc[:, 'Away_Argentina':'away_0_0']\n",
        "X_test = X_test.loc[:, 'Away_Argentina':'away_0_0']\n",
        "\n",
        "# Initialize and fit the cross-validated Ridge model\n",
        "ridge_teams = RidgeCV()\n",
        "ridge_teams.fit(X_train, y_train)\n",
        "\n",
        "# Score the model\n",
        "train_score = ridge_teams.score(X_train, y_train)\n",
        "test_score = ridge_teams.score(X_test, y_test)\n",
        "print(f'The train score is {train_score:.3f} and the test score is {test_score:.3f}')\n",
        "\n",
        "# -------------------\n"
      ],
      "execution_count": 7,
      "outputs": [
        {
          "output_type": "stream",
          "text": [
            "The train score is 0.862 and the test score is 0.830\n"
          ],
          "name": "stdout"
        }
      ]
    },
    {
      "cell_type": "markdown",
      "metadata": {
        "id": "VipqDRSWe3Uy"
      },
      "source": [
        "This model performs much better! Lets take a look at the computed $\\beta$'s to gain further insight. \n",
        "\n",
        "2. Print out the $\\beta$'s for the model using `coef_` and `intercept_` attributes, stored in out `ridge_teams` model."
      ]
    },
    {
      "cell_type": "code",
      "metadata": {
        "id": "jScn-Kz-fUI5",
        "outputId": "ad4ec151-2687-4eef-8a97-1c92346f0e39",
        "colab": {
          "base_uri": "https://localhost:8080/",
          "height": 504
        }
      },
      "source": [
        "# Write your code here.  \n",
        "\n",
        "# -------------------\n",
        "\n",
        "betas = pd.Series(ridge_teams.coef_, index=X_train.columns)\n",
        "betas = betas.append(pd.Series({\"Intercept\": ridge_teams.intercept_}))\n",
        "print(betas)\n",
        "\n",
        "# -------------------"
      ],
      "execution_count": 8,
      "outputs": [
        {
          "output_type": "stream",
          "text": [
            "Away_Argentina        30.293304\n",
            "Away_Brazil           -0.279836\n",
            "Away_Chile            27.849132\n",
            "Away_Colombia          1.108798\n",
            "Away_Denmark         -10.020181\n",
            "Away_France          -11.689986\n",
            "Away_Great_Britain   -22.734909\n",
            "Away_Japan            -7.886676\n",
            "Away_Poland          -20.489744\n",
            "Away_Sweden           28.733298\n",
            "Away_USA             -14.883201\n",
            "home_3_5              41.583884\n",
            "home_3_0              24.072339\n",
            "home_2_5              17.103739\n",
            "home_2_0               5.443597\n",
            "home_1_5             -10.411467\n",
            "home_1_0             -13.110144\n",
            "home_0_5             -30.804578\n",
            "home_0_0             -33.877371\n",
            "away_3_5              -1.221446\n",
            "away_3_0               0.313877\n",
            "away_2_5              -3.499498\n",
            "away_2_0               2.394348\n",
            "away_1_5              -1.145152\n",
            "away_1_0              -4.184837\n",
            "away_0_5              -1.042160\n",
            "away_0_0               8.384869\n",
            "Intercept             -8.053351\n",
            "dtype: float64\n"
          ],
          "name": "stdout"
        }
      ]
    },
    {
      "cell_type": "markdown",
      "metadata": {
        "id": "IOb8QXsVfvCm"
      },
      "source": [
        "3. Based on the $\\beta$'s for the away teams, which team does Canada perform the best against, and which one do they perform the worst against? Do these values match our insight found in the above EDA? "
      ]
    },
    {
      "cell_type": "markdown",
      "metadata": {
        "id": "8q2p6E8Vf7or"
      },
      "source": [
        "___\n",
        "__Question 3 Answer__:\n",
        "\n",
        "It seems that Canada performs best against Argentina ($\\beta_{Away\\_Argentina} = +30.29$) and worst against Great_Britain ($\\beta_{Away\\_Great\\_Britain} = -22.73$). This matches what we discovered in our EDA above.\n",
        "___"
      ]
    },
    {
      "cell_type": "markdown",
      "metadata": {
        "id": "skmV0vYhgi6K"
      },
      "source": [
        "4. Looking at just the $\\beta$'s for the home player physical ratings, which rating is the best for Canada in terms of $APM_{100}$? Which rating is the worst?"
      ]
    },
    {
      "cell_type": "markdown",
      "metadata": {
        "id": "akVTsY_pg7sn"
      },
      "source": [
        "___\n",
        "__Question 4 Answer__:\n",
        "\n",
        "Canada's best performing physical rating is home_3_5 ($\\beta_{home\\_3\\_5} = +41.58$) and worst is home_0_0 ($\\beta_{home\\_0\\_0} = -33.88$).\n",
        "___"
      ]
    },
    {
      "cell_type": "markdown",
      "metadata": {
        "id": "t-rTQEXhjSX4"
      },
      "source": [
        "Now that we have a strongly fit model and $\\beta$ coefficients, what should we do with them? Lets pretend that their was no knapsack constraint limiting the sum of the physical ratings of the players on the court to 8. Which four players would we always choose to play? We can easily say we'd always play 3.5 rated players, as they have the highest $\\beta$. However, in reality, we cannot ignore this knapsack constraint, and this is where optimization comes in handy. Lets start using these $\\beta$'s to build optimal lineups!  "
      ]
    },
    {
      "cell_type": "markdown",
      "metadata": {
        "id": "_-VaQhVoku_h"
      },
      "source": [
        "# Phase Two: Optimization\n",
        "\n",
        "We will now use the outputs derived from our prediction model, namely the $\\beta$'s, as inputs in optimization models. Remember, the $\\beta_i$'s can be seen as the value that players with physical rating $i$ provide to the game. We will build two different models, each with a different goal in mind. \n",
        "\n"
      ]
    },
    {
      "cell_type": "markdown",
      "metadata": {
        "id": "9TXQzM0ogXGI"
      },
      "source": [
        "## IP Knapsack Model: Optimal Lineups\n",
        "\n",
        "We formulate the model as a simple knapsack problem. The model will choose the number of players for every rating that we should put on the court in order to maximize our objective (i.e., maximize $APM_{100}$) while adhering to the knapsack constraint (i.e., the sum of physical rating $\\leq8$). \n",
        "\n",
        "We define the integer decision variable, $x_i$, as the number of players on the court with rating $i$, $\\forall\\ i \\in \\{3.5, 3.0, 2.5, 2.0, 1.5, 1.0, 0.5, 0.0\\}.$ \n",
        "\n",
        "We also know about the following parameters. Let $R_i$ be the physical rating of a player with rating $i$. Lastly, we incorporate the outputs of the prediction model, namely, we let $\\beta_i$ be the $APM_{100}$ for home players with physical rating $i$. Putting it all together, the model is as follows:\n",
        "\n",
        "\\begin{aligned}\n",
        "        \\max  & \\sum_{i} \\beta_i x_i  \\\\\n",
        "        s.t.  & \\sum_{i} R_ix_i \\leq 8\\\\\n",
        "              & \\sum_{i} x_i = 4\\\\\n",
        "              & x_i \\in \\mathbb{Z} \\quad \\forall i\\\\\n",
        "\\end{aligned}\n",
        "\n",
        "Why don't we include any decision variables based on the away_team, or the physical ratings of players on the away team? The general tip when it comes to optimization models, and prescriptive analytics as a whole, is it is best to put ourselves into the position of the key decision maker of the problem. In this context, we are thinking through the lens of the head coach of Canada's WCR team. Since we can only make decisions about what our team does, we do not include any decision variables about the away team. By maximizing what our players do, we will be maximizing over the set of decisions we actually have control over. \n",
        "\n",
        "We formulate this optimization model with cvxpy in the following code block."
      ]
    },
    {
      "cell_type": "code",
      "metadata": {
        "id": "iWHp5EGxZ_vx",
        "outputId": "f29d8b28-cc87-4037-90ad-dbb592131e59",
        "colab": {
          "base_uri": "https://localhost:8080/",
          "height": 202
        }
      },
      "source": [
        "\n",
        "# Vector for the physical ratings and beta's\n",
        "ratings = [3.5, 3.0, 2.5, 2.0, 1.5, 1.0, 0.5, 0.0]\n",
        "betas = betas['home_3_5':'home_0_0']\n",
        "\n",
        "# Define the variable of how many players of each physical rating we choose\n",
        "x = cp.Variable(len(ratings), integer=True)\n",
        "\n",
        "# Create the objective of maximizing APM_100\n",
        "obj = cp.Maximize(x*betas) \n",
        "\n",
        "# Create the constraints\n",
        "cons = []\n",
        "cons.append(x*ratings <= 8) # knapsack constraint on max physical rating sum\n",
        "cons.append(sum(x) == 4)    # 4 players on the court\n",
        "cons.append(x >= 0)         # non-negativity of x\n",
        "\n",
        "# Solve the model\n",
        "prob = cp.Problem(obj,cons)\n",
        "prob.solve()\n",
        "\n",
        "# Print the objective value\n",
        "prob.solve(verbose=False)  # verbose = True allows you to see the solution process\n",
        "print('The maximum APM_100 is {:.3f}'.format(obj.value))  # gives you the objective value\n",
        "\n",
        "#Extract the optimal starting lineup\n",
        "x_np_array = x.value.astype(int)  # extract the x values as a np array\n",
        "x_values = pd.Series(x_np_array, index = betas.index)  # convert the np array to a series\n",
        "print('The optimal lineup is: \\n', x_values)\n"
      ],
      "execution_count": 9,
      "outputs": [
        {
          "output_type": "stream",
          "text": [
            "The maximum APM_100 is 36.180\n",
            "The optimal lineup is: \n",
            " home_3_5    2\n",
            "home_3_0    0\n",
            "home_2_5    0\n",
            "home_2_0    0\n",
            "home_1_5    0\n",
            "home_1_0    1\n",
            "home_0_5    0\n",
            "home_0_0    1\n",
            "dtype: int64\n"
          ],
          "name": "stdout"
        }
      ]
    },
    {
      "cell_type": "markdown",
      "metadata": {
        "id": "8Hvtd5NHmOc7"
      },
      "source": [
        "### Exercises\n",
        "\n",
        "There is one issue with this model, it assumes we have as many players with each physical rating that we could want. Let us constrain this problem knowing that we only have the following breakdown of 12 player on our roster to choose from.\n",
        "\n",
        "\n",
        "|Physical Rating | # of Players on Roster ($P$)|\n",
        "|:---------------:|:--------------------:|\n",
        "| 3.5    | 1   |          \n",
        "| 3.0    | 2   |          \n",
        "| 2.5    | 0   |          \n",
        "| 2.0    | 2   |          \n",
        "| 1.5    | 2   |           \n",
        "| 1.0    | 1   |           \n",
        "| 0.5    | 3   |           \n",
        "| 0.0    | 1   |     \n",
        "\n",
        "Therefore, we need to add the following constraints to the model: $ \\quad  x_i \\leq P_i \\quad \\forall i $\n",
        "\n",
        "1. Add this constraint to the model by `cons.append()` and re-solve for the optimal objective value and optimal lineup."
      ]
    },
    {
      "cell_type": "code",
      "metadata": {
        "id": "fXtyUfs1aAWY",
        "outputId": "d023b13b-fa60-4d7a-899a-32f9b9cf4528",
        "colab": {
          "base_uri": "https://localhost:8080/",
          "height": 202
        }
      },
      "source": [
        "# The following vector represents how many players of each physical rating we have on our roster\n",
        "# Use this vector in your new constraint.\n",
        "roster = [1,2,0,2,2,1,3,1]\n",
        "\n",
        "# Write your code here.  \n",
        "\n",
        "# -------------------\n",
        "\n",
        "# Add the new roster constraint\n",
        "cons.append(x <= roster)\n",
        "\n",
        "# Solve the model\n",
        "prob = cp.Problem(obj,cons)\n",
        "prob.solve()\n",
        "\n",
        "# Print the objective value\n",
        "prob.solve(verbose=False)  # verbose = True allows you to see the solution process\n",
        "print('The new maximum APM_100 is {:.3f}'.format(obj.value))  # gives you the objective value\n",
        "\n",
        "#Extract the optimal starting lineup\n",
        "x_np_array = x.value.astype(int)  # extract the x values as a np array\n",
        "x_values = pd.Series(x_np_array, index = betas.index)  # convert the np array to a series\n",
        "print('The new optimal lineup is: \\n', x_values)\n",
        "\n",
        "# -------------------\n"
      ],
      "execution_count": 10,
      "outputs": [
        {
          "output_type": "stream",
          "text": [
            "The new maximum APM_100 is 23.506\n",
            "The new optimal lineup is: \n",
            " home_3_5    1\n",
            "home_3_0    0\n",
            "home_2_5    0\n",
            "home_2_0    1\n",
            "home_1_5    1\n",
            "home_1_0    1\n",
            "home_0_5    0\n",
            "home_0_0    0\n",
            "dtype: int64\n"
          ],
          "name": "stdout"
        }
      ]
    },
    {
      "cell_type": "markdown",
      "metadata": {
        "id": "wsa5ap4uhBK_"
      },
      "source": [
        "We just solved for the optimal lineup that will maximize our $APM_{100}$. However, there is a large drawback to this approach, namely, this lineup couldn't possibly play for the entire 32 minutes, so we'll need to incorporate substitutions! This makes the problem more nuanced but also more useful.\n",
        "\n",
        "Lets state a simplifying assumption that we will only make a substitution at the beginning of each quarter, and no players from the previous quarter can play in the current quarter. With this information, we can state that the lineup we solved above would be the optimal lineup we would choose for the *1st quarter*, i.e., the *starting lineup*.\n",
        "\n",
        "2. What is the objective value and optimal lineup for the 2nd quarter? Note: CVXPY doesn't let you modify/delete old constraints so you will have to reformulate an entirely new model. Add \"_2Q\" to all your model definitions, i.e., `x_2Q`, `obj_2Q`, `cons_2Q` and `prob_2Q`.  \n",
        "(Hint: you will also have to modify your `roster` vector.)"
      ]
    },
    {
      "cell_type": "code",
      "metadata": {
        "id": "txV_ZxsCaAEm",
        "outputId": "12164276-7ef5-4c90-bf61-6aaf8d8ad806",
        "colab": {
          "base_uri": "https://localhost:8080/",
          "height": 202
        }
      },
      "source": [
        "# Write your code here.  \n",
        "\n",
        "# -------------------\n",
        "\n",
        "# adjusted roster, subtracting a 3.5, 2.0, 1.5 and 1.0 rated player from our 1st quarter lineup\n",
        "roster_2Q = roster - x_np_array\n",
        "\n",
        "\n",
        "# Define the variable of how many players of each physical rating we choose\n",
        "x_2Q = cp.Variable(len(ratings), integer=True)\n",
        "\n",
        "# Create the objective of maximizing APM_100\n",
        "obj_2Q = cp.Maximize(x_2Q*betas) \n",
        "\n",
        "# Create the constraints\n",
        "cons_2Q = []\n",
        "cons_2Q.append(x_2Q*ratings <= 8) # knapsack constraint on max physical rating sum\n",
        "cons_2Q.append(sum(x_2Q) == 4)    # 4 players on the court\n",
        "cons_2Q.append(x_2Q >= 0)         # non-negativity of x\n",
        "cons_2Q.append(x_2Q <= roster_2Q)    # new roster constraint for the 2nd quarter\n",
        "\n",
        "\n",
        "# Solve the model\n",
        "prob_2Q = cp.Problem(obj_2Q,cons_2Q)\n",
        "prob_2Q.solve()\n",
        "\n",
        "# Print the objective value\n",
        "prob.solve(verbose=False)  # verbose = True allows you to see the solution process\n",
        "print('The maximum APM_100 for the 2nd quarter is {:.3f}'.format(obj_2Q.value))  # gives you the objective value\n",
        "\n",
        "#Extract the optimal starting lineup\n",
        "x_2Q_np_array = x_2Q.value.astype(int)  # extract the x values as a np array\n",
        "x_2Q_values = pd.Series(x_2Q_np_array, index = betas.index)  # convert the np array to a series\n",
        "print('The optimal lineup for the 2nd quarter is: \\n', x_2Q_values)"
      ],
      "execution_count": 11,
      "outputs": [
        {
          "output_type": "stream",
          "text": [
            "The maximum APM_100 for the 2nd quarter is 19.711\n",
            "The optimal lineup for the 2nd quarter is: \n",
            " home_3_5    0\n",
            "home_3_0    2\n",
            "home_2_5    0\n",
            "home_2_0    1\n",
            "home_1_5    0\n",
            "home_1_0    0\n",
            "home_0_5    0\n",
            "home_0_0    1\n",
            "dtype: int64\n"
          ],
          "name": "stdout"
        }
      ]
    },
    {
      "cell_type": "markdown",
      "metadata": {
        "id": "BYCCfOE9n_T-"
      },
      "source": [
        "3. Lets suppose we only wanted to substitute two players when we begin the 2nd quarter. What is one approach to determine the best two players to swap? You don't need to code up this answer, just provide some discussion."
      ]
    },
    {
      "cell_type": "markdown",
      "metadata": {
        "id": "j43BK2TBoQAD"
      },
      "source": [
        "___\n",
        "__Question 3 Answer__:\n",
        "\n",
        "A brute force approach would be to try all the combinations of subbing out two players and building the new lineup, and picking the substitution decision that led to the best new objective value. There would be ${4 \\choose 2} = 6$ times we'd have to run the model.\n",
        "___"
      ]
    },
    {
      "cell_type": "markdown",
      "metadata": {
        "id": "S4h0xFRGpcyt"
      },
      "source": [
        "\n",
        "Lets say that now we want to make the optimal lineup for the 3rd quarter without using any players for the 2nd quarter. If we were to adjust our roster accordingly, our model would once again choose the original 4 players from the 1st quarter to play in the 3rd quarter. (Similarly, the 2nd quarter lineup would play in the 4th quarter). What crucial component of a player's reality are we neglecting here?\n",
        "\n",
        "We are not accounting for player fatigue and how that will impact a player's value/$APM_{100}$. We need a way to model the decrease in a player's acheivable APM as a function of their total playing time. Lets explore that with our next optimization model!\n"
      ]
    },
    {
      "cell_type": "markdown",
      "metadata": {
        "id": "CFrFG_iLpqJi"
      },
      "source": [
        "## LP Model: Optimal Play Time Allocation (Theory)\n",
        "\n",
        "Lets try to develop a model that will make some assumptions on how a player's $APM_{100}$ deteriorates as a function of their playing time and see if we can create optimal playing time allocations for each player. Its important to understand how the results of this model will be utilized, namely, it will tell us how many total minutes each player should play. This doesn't tell us anything about what lineup they should be on or when they should be on the court. We leave it up to the coach to design their lineups while adhering to this maximum time limit that this model will recommend. \n",
        "\n",
        "This model will be a bit more complicated, so take your time understanding each of the following pieces. We skip certain details of this formulation in the main body of the lab, but the full discussion is found in the appendix.\n",
        "\n",
        "The following function (derived fully in the appendix), $C(t)$, represents how much value, or $APM_{100}$, a player will achieve by playing for a total time $t$. \n",
        "\n",
        "Its important to notice the decreasing slope as the time $t$ increases. This can intuitively be understood that as a player begins to fatigue, their ability to earn value per minute of playing time is decreasing. \n",
        "\n",
        "\\begin{aligned}\n",
        "  C(t) =\n",
        "  \\begin{cases}\n",
        "          \\beta t  && 0 \\leq t < 6 \\\\\n",
        "          0.75\\beta t + 1.5\\beta  && 6 \\leq t < 12 \\\\\n",
        "          0.50\\beta t + 4.5\\beta && 12 \\leq t < 24 \\\\\n",
        "          0.25\\beta t + 10.5\\beta  && 24 \\leq t \\leq 32 \\\\\n",
        "  \\end{cases}\n",
        "\\end{aligned}\n",
        "\n",
        "We can plot this piece-wise function, $C(t)$, below. Note that the bolded sections of the plot is what we are most concerned with, as these sections are where each $y = mt + b$ line falls under its appropriate interval. \n",
        "\n",
        "<figure>\n",
        "<img src=\"https://docs.google.com/uc?export=view&id=1izWlZtip_51Q6PBhufB1sdaWQKEMEQ_W\"\n",
        "alt=\"\" />\n",
        "<figcaption>Relationship between Cumulative APM and Playing Time with a $\\beta = 12$.</figcaption>\n",
        "</figure>\n",
        "\n",
        "Note, this function takes the form of a **concave** piece-wise linear function due to its concavity. These types of functions have a special property that allows us to write them as:\n",
        "\n",
        "\\begin{aligned}\n",
        "C(t) = \\min_{i = i,...,k} \\{m_it + b_i\\}\n",
        "\\end{aligned}\n",
        "\n",
        "\n",
        "Where $k$ equals the number of \"segments\" of the function. In our case, $k=4$. Also noting that the $m$'s and the $b$'s are the slopes and intercepts of each line segment.\n",
        "\n",
        "Why is it a minimum over each segment? Lets take a look at what $C(t=3)$ would be. Looking at the grey dotted line in the graph above, this line intersects each of the 4 line segments at different $y$ values. However, for the interval of $[0,6]$, we should only look at the red, bolded segment. By choosing the minumum of these 4 intersection points, we're gauranteed to stay on the correct segment for each $t$, depending on which interval $t$ lies on! \n",
        "\n",
        "We run into an issue with the players who have a negative $\\beta$. For this, we define the following concace piece-wise function to model how their $APM_{100}$ gets more negative, i.e., *worse* over time (more discussion on this in the appendix):\n",
        "\n",
        "\\begin{aligned}\n",
        "  D(t) =\n",
        "  \\begin{cases}\n",
        "          \\beta t  && 0 \\leq t < 6 \\\\\n",
        "          1.25\\beta t - 1.5\\beta  && 6 \\leq t < 12 \\\\\n",
        "          1.50\\beta t - 4.5\\beta && 12 \\leq t < 24 \\\\\n",
        "          1.75\\beta t - 10.5\\beta  && 24 \\leq t \\leq 32 \\\\\n",
        "  \\end{cases}\n",
        "\\end{aligned}\n",
        "\n",
        "These functions are also concave, so we can express $D(t)$ as: \n",
        "\n",
        "\\begin{aligned}\n",
        "D(t) = \\min_{i = i,...,k} \\{c_it + d_i\\}\n",
        "\\end{aligned}\n",
        "\n",
        "---------\n",
        "\n",
        "Lets start defining our model now!\n",
        "\n",
        "First lets define our decision variable $t_i$ as the number of minutes player $i$ will play in the game. We want to $\\max C_i(t_i)$ or $D_i(t_i)$ for each player depending on the sign of their $\\beta$ value. Lets define the players with a positive $\\beta$ as belonging to the set $P$ and those with negative $\\beta$ as belonging to the set $N$. This results in the following objective function: $ \\max \\left( \\sum_{i \\in P} C_i(t_i) + \\sum_{i \\in N} D_i(t_i) \\right)$. Exploiting the concave piece-wise form of these functions, we can transform $C_i(t_i)$ and $D_i(t_i)$ so the objective function becomes: \n",
        "\n",
        "\\begin{aligned}\n",
        "\\max \\left( \\sum_{i \\in P} \\min_{k=1,2,3,4} (m^k_it_i + b^k_i) + \\sum_{i \\in N} \\min_{k=1,2,3,4} (c^k_it_i + d^k_i) \\right)\n",
        "\\end{aligned}\n",
        "\n",
        "This current objective function isn't linear yet, so we can't use linear programming as is. However, we can define a new variable $Z_i$ which will capture the APM value for the players with positive $\\beta$ and similarly define $Q_i$ for players with negative $\\beta$. You don't need to understand how this transformation works, but this makes the model linear!. (If you are curious, we can explain it in the lab session). The objective function becomes \n",
        "\n",
        "\\begin{aligned}\n",
        "\\max \\left( \\sum_{i \\in P} Z_i + \\sum_{i \\in N} Q_i \\right)\n",
        "\\end{aligned}\n",
        "\n",
        "and we add the following constraints to \"capture\" the correct objective value:\n",
        "\n",
        "\\begin{aligned}\n",
        "Z_i \\leq (m^k_it_i + b^k_i) \\quad \\forall i \\in P,k \\\\\n",
        "Q_i \\leq (c^k_it_i + d^k_i) \\quad \\forall i \\in N,k \\\\\n",
        "\\end{aligned}\n",
        "\n",
        "Lastly, we need constraints to keep $t$ nonnegative. We also need a constraint to ensure a player doesn't play for more time than the entire game ($32$ minutes). Lastly, the sum of all the playing times need to equal $128$, since there will always be $4$ players on the court, and $4*32 = 128$. Therefore, we add the following constraints:\n",
        "\n",
        "\\begin{aligned}\n",
        "t_i \\geq 0 \\quad \\forall i  \\\\\n",
        "t_i \\leq 32 \\quad \\forall i  \\\\\n",
        "\\sum_{i} t_i = 128 \\\\\n",
        "\\end{aligned}\n",
        "\n",
        "\n",
        "Putting it all together, we have the following **linear** program:\n",
        "\n",
        "\\begin{aligned}\n",
        "        \\max & \\left( \\sum_{i \\in P} Z_i + \\sum_{i \\in N} Q_i \\right) \\\\\n",
        "        s.t. \\quad & Z_i \\leq (m^k_it_i + d^k_i) \\quad \\forall i \\in P,k \\\\\n",
        "        & Q_i \\leq (c^k_it_i + d^k_i) \\quad \\forall i \\in N,k \\\\\n",
        "        & t_i \\geq 0 \\quad \\forall i \\\\\n",
        "        & t_i \\leq 32 \\quad \\forall i \\\\\n",
        "        & \\sum_{i} t_i = 128\\\\\n",
        "\\end{aligned}\n",
        "\n",
        "\n"
      ]
    },
    {
      "cell_type": "markdown",
      "metadata": {
        "id": "lidITpamgqzd"
      },
      "source": [
        "## LP Model: Optimal Play Time Allocation (Coding)\n",
        "\n",
        "Lets now code up this model! We'll start by defining `df_players`, which stores every players' rating and appropriate $\\beta$ value."
      ]
    },
    {
      "cell_type": "code",
      "metadata": {
        "id": "rIos1-87iZ7c",
        "outputId": "4c769ec6-06fb-4297-c8f9-abb39d7ff4c6",
        "colab": {
          "base_uri": "https://localhost:8080/",
          "height": 106
        }
      },
      "source": [
        "# Create the player info df_players\n",
        "player_dict = {'Player1': [3.5, betas['home_3_5']], 'Player2': [3.0, betas['home_3_0']],\n",
        "               'Player3': [3.0, betas['home_3_0']], 'Player4': [2.0, betas['home_2_0']],\n",
        "               'Player5': [2.0, betas['home_2_0']], 'Player6': [1.5, betas['home_1_5']], \n",
        "               'Player7': [1.5, betas['home_1_5']], 'Player8': [1.0, betas['home_1_0']],\n",
        "               'Player9': [0.5, betas['home_0_5']], 'Player10': [0.5, betas['home_0_5']], \n",
        "               'Player11': [0.5, betas['home_0_5']], 'Player12': [0.0, betas['home_0_0']]}\n",
        "df_players = pd.DataFrame(player_dict, index = ['rating', 'beta'])\n",
        "df_players.head()"
      ],
      "execution_count": 12,
      "outputs": [
        {
          "output_type": "execute_result",
          "data": {
            "text/html": [
              "<div>\n",
              "<style scoped>\n",
              "    .dataframe tbody tr th:only-of-type {\n",
              "        vertical-align: middle;\n",
              "    }\n",
              "\n",
              "    .dataframe tbody tr th {\n",
              "        vertical-align: top;\n",
              "    }\n",
              "\n",
              "    .dataframe thead th {\n",
              "        text-align: right;\n",
              "    }\n",
              "</style>\n",
              "<table border=\"1\" class=\"dataframe\">\n",
              "  <thead>\n",
              "    <tr style=\"text-align: right;\">\n",
              "      <th></th>\n",
              "      <th>Player1</th>\n",
              "      <th>Player2</th>\n",
              "      <th>Player3</th>\n",
              "      <th>Player4</th>\n",
              "      <th>Player5</th>\n",
              "      <th>Player6</th>\n",
              "      <th>Player7</th>\n",
              "      <th>Player8</th>\n",
              "      <th>Player9</th>\n",
              "      <th>Player10</th>\n",
              "      <th>Player11</th>\n",
              "      <th>Player12</th>\n",
              "    </tr>\n",
              "  </thead>\n",
              "  <tbody>\n",
              "    <tr>\n",
              "      <th>rating</th>\n",
              "      <td>3.500000</td>\n",
              "      <td>3.000000</td>\n",
              "      <td>3.000000</td>\n",
              "      <td>2.000000</td>\n",
              "      <td>2.000000</td>\n",
              "      <td>1.500000</td>\n",
              "      <td>1.500000</td>\n",
              "      <td>1.000000</td>\n",
              "      <td>0.500000</td>\n",
              "      <td>0.500000</td>\n",
              "      <td>0.500000</td>\n",
              "      <td>0.000000</td>\n",
              "    </tr>\n",
              "    <tr>\n",
              "      <th>beta</th>\n",
              "      <td>41.583884</td>\n",
              "      <td>24.072339</td>\n",
              "      <td>24.072339</td>\n",
              "      <td>5.443597</td>\n",
              "      <td>5.443597</td>\n",
              "      <td>-10.411467</td>\n",
              "      <td>-10.411467</td>\n",
              "      <td>-13.110144</td>\n",
              "      <td>-30.804578</td>\n",
              "      <td>-30.804578</td>\n",
              "      <td>-30.804578</td>\n",
              "      <td>-33.877371</td>\n",
              "    </tr>\n",
              "  </tbody>\n",
              "</table>\n",
              "</div>"
            ],
            "text/plain": [
              "          Player1    Player2    Player3  ...   Player10   Player11   Player12\n",
              "rating   3.500000   3.000000   3.000000  ...   0.500000   0.500000   0.000000\n",
              "beta    41.583884  24.072339  24.072339  ... -30.804578 -30.804578 -33.877371\n",
              "\n",
              "[2 rows x 12 columns]"
            ]
          },
          "metadata": {
            "tags": []
          },
          "execution_count": 12
        }
      ]
    },
    {
      "cell_type": "markdown",
      "metadata": {
        "id": "gJbuuClLQkdS"
      },
      "source": [
        "Next, we formulate the linear program"
      ]
    },
    {
      "cell_type": "code",
      "metadata": {
        "id": "f7LUgRRRZ_-1",
        "outputId": "5ed5bfaf-646e-484d-84e8-6d96f1b432c4",
        "colab": {
          "base_uri": "https://localhost:8080/",
          "height": 269
        }
      },
      "source": [
        "# We define the m, c and d vectors for the piecewise linear segments of the cumulative graphs\n",
        "# We define these vectors independant of beta, since the beta value will differ for each player and can be linearly multipled on afterwards\n",
        "m = [1, 0.75, 0.5, 0.25]\n",
        "b = [0, 1.5, 4.5, 10.5]\n",
        "c = [1, 1.25, 1.5, 1.75]\n",
        "d = [0, -1.5, -4.5, -10.5]\n",
        "\n",
        "# This indexes the players into positive or negative beta values\n",
        "P = [0,1,2,3,4] # index of positive beta players\n",
        "N = [5,6,7,8,9,10,11] # index of negative beta players\n",
        "K = 4 # number of segments\n",
        "\n",
        "# Define the variable of how many players of each physical rating we choose\n",
        "x = cp.Variable(12)\n",
        "Z = cp.Variable(len(P)) # only need it for positive beta players\n",
        "Q = cp.Variable(len(N)) # only need it for negative beta players\n",
        "\n",
        "# Create the objective of maximizing APM_100\n",
        "obj = cp.Maximize(sum(Z) + sum(Q)) \n",
        "\n",
        "# Create the constraints\n",
        "cons = []\n",
        "cons.append(sum(x) == 128)    # Total sum of all players time is 128\n",
        "cons.append(x >= 0)         # non-negativity of time played\n",
        "cons.append(x <= 32)         # max play time per player\n",
        "\n",
        "# Piecewise constraints to capture objective value for positive players\n",
        "for i in P:\n",
        "  for k in range(K):\n",
        "    cons.append(Z[i] <= df_players.loc['beta'][i] * (m[k]*x[i] + b[k]))\n",
        "\n",
        "# Piecewise constraints to capture objective value for negative players\n",
        "for i in N:\n",
        "  for k in range(K):\n",
        "    cons.append(Q[i-len(P)] <= df_players.loc['beta'][i] * (c[k]*x[i] + d[k]))\n",
        "\n",
        "# Solve the model\n",
        "prob = cp.Problem(obj,cons)\n",
        "prob.solve()\n",
        "\n",
        "# Print the objective value\n",
        "prob.solve(verbose=False)  # verbose = True allows you to see the solution process\n",
        "print('The maximum APM_100 is {:.3f}'.format(obj.value))  # gives you the objective value\n",
        "\n",
        "#Extract the optimal playing time allocation\n",
        "x_np_array = x.value.astype(float)  # extract the x values as a np array\n",
        "x_values = pd.Series(np.round(x_np_array,2), index = df_players.columns)  # convert the np array to a series\n",
        "print('The optimal playing time allocation per player is: \\n', x_values)"
      ],
      "execution_count": 13,
      "outputs": [
        {
          "output_type": "stream",
          "text": [
            "The maximum APM_100 is 1796.068\n",
            "The optimal playing time allocation per player is: \n",
            " Player1     32.0\n",
            "Player2     32.0\n",
            "Player3     32.0\n",
            "Player4     16.0\n",
            "Player5     16.0\n",
            "Player6     -0.0\n",
            "Player7     -0.0\n",
            "Player8     -0.0\n",
            "Player9      0.0\n",
            "Player10     0.0\n",
            "Player11     0.0\n",
            "Player12     0.0\n",
            "dtype: float64\n"
          ],
          "name": "stdout"
        }
      ]
    },
    {
      "cell_type": "markdown",
      "metadata": {
        "id": "E-NrgZ76MPn9"
      },
      "source": [
        "### Exercises\n",
        "\n",
        "1. Based on the optimal play-time allocation solution above, how many minutes should player 1 play? How about players 5 and 10?"
      ]
    },
    {
      "cell_type": "markdown",
      "metadata": {
        "id": "6Pg05N2DMewE"
      },
      "source": [
        "___\n",
        "__Question 1 Answer__:\n",
        "\n",
        "Player 1 = 32 minutes.\n",
        "Player 5 = 16 minutes.\n",
        "Player 10 = 0 minutes.\n",
        "___"
      ]
    },
    {
      "cell_type": "markdown",
      "metadata": {
        "id": "nKHzVCp1Q0AN"
      },
      "source": [
        "2. What do you notice about the playing time allocation for players of the same physical rating?"
      ]
    },
    {
      "cell_type": "markdown",
      "metadata": {
        "id": "n4KrRwWPQ5Yc"
      },
      "source": [
        "___\n",
        "__Question 2 Answer__:\n",
        "\n",
        "They are all assigned the same playing time.\n",
        "___"
      ]
    },
    {
      "cell_type": "markdown",
      "metadata": {
        "id": "5JXzGwBLvcjN"
      },
      "source": [
        "3. Is it reasonable that every player has the same interval length for each fatigue threshold? If not, what would be more realistic?"
      ]
    },
    {
      "cell_type": "markdown",
      "metadata": {
        "id": "r_ug4sLLvnae"
      },
      "source": [
        "___\n",
        "__Question 3 Answer__:\n",
        "\n",
        "Its unlikely that people fatigue at the same time threshold. We imagine a higher rated $\\beta$ player to be able to last longer at that level before their decline. This would make the model more intersting!\n",
        "___"
      ]
    },
    {
      "cell_type": "markdown",
      "metadata": {
        "id": "4peSZeI0xDEg"
      },
      "source": [
        "4. By not explicitly considering the knapsack constraint, our current model suggests play time allocations that won't allow us to make feasible lineups. This is because the model is essentially saying to only play the best rated players, which makes it impossible to create lineups that have a physical rating $\\leq 8$. What are some constraints we can add that will result in more feasible play time allocations?"
      ]
    },
    {
      "cell_type": "markdown",
      "metadata": {
        "id": "YCM0Ruqnxaq5"
      },
      "source": [
        "___\n",
        "__Question 4 Answer__:\n",
        "\n",
        "There are two ideas we can readily implement:\n",
        "\n",
        "\n",
        "*   We can put a minimum playing time on every player, that way they are forced to play which can lead to feasible lineups\n",
        "*   We can enforce certain players to always play together. For example, adding a constraint that says whenever a 3.5 plays, a 0.5 also plays. Similarly for a 3.0 and 1.0.\n",
        "\n",
        "___"
      ]
    },
    {
      "cell_type": "markdown",
      "metadata": {
        "id": "RkUIuv-lx7cm"
      },
      "source": [
        "## LP Model: Optimal Play Time Allocation (More Feasible Model)\n",
        "\n",
        "As we may have realized, this optimal play time allocation model doesn't take into account the knapsack constraint. This leads to only assigning playing times to the highly rated players, which would lead to infeasible lineups. We can add some extra constraints that will enforce the optimal play time allocations to be more feasible. \n",
        "\n",
        "We note that historically, 3.5 rated players will be on the same lineup as 0.5 rated players. Similarly, 3.0 rated players are usually with 1.0 players. Lets add a constraint that says the playing time among players of these ratings are equal."
      ]
    },
    {
      "cell_type": "markdown",
      "metadata": {
        "id": "GApZDSOOzj9q"
      },
      "source": [
        "### Exercises\n",
        "\n",
        "1. Use the `cons.append()` feature to add two constraints. The first making the time for the 3.5 rated players equal the total time of all the 0.5 rated players. Note, player 1 is 3.5 and players 9-11 are 0.5. The second constraint should be similar, but for the 3.0 and 1.0 rated players. Solve the model and print the optimal lineup."
      ]
    },
    {
      "cell_type": "code",
      "metadata": {
        "id": "grDlsBE8z9eP",
        "outputId": "1659b500-71f3-4d2d-82dd-bb44dac3616f",
        "colab": {
          "base_uri": "https://localhost:8080/",
          "height": 269
        }
      },
      "source": [
        "# Write your code here.  \n",
        "\n",
        "# -------------------\n",
        "\n",
        "cons.append(x[0] == x[8] + x[9] + x[10])  # equal playing time for 3.5 and 0.5 players\n",
        "cons.append(x[1] + x[2] == x[7] )  # equal playing time for 3.0 and 1.0 players\n",
        "\n",
        "# Solve the model\n",
        "prob = cp.Problem(obj,cons)\n",
        "prob.solve()\n",
        "\n",
        "# Print the objective value\n",
        "prob.solve(verbose=False)  # verbose = True allows you to see the solution process\n",
        "print('The maximum APM_100 is {:.3f}'.format(obj.value))  # gives you the objective value\n",
        "\n",
        "#Extract the optimal playing time allocation\n",
        "x_np_array = x.value.astype(float)  # extract the x values as a np array\n",
        "x_values = pd.Series(np.round(x_np_array,2), index = df_players.columns)  # convert the np array to a series\n",
        "print('The optimal playing time allocation per player is: \\n', x_values)\n",
        "\n",
        "# -------------------"
      ],
      "execution_count": 14,
      "outputs": [
        {
          "output_type": "stream",
          "text": [
            "The maximum APM_100 is 367.382\n",
            "The optimal playing time allocation per player is: \n",
            " Player1     12.0\n",
            "Player2     10.0\n",
            "Player3     10.0\n",
            "Player4     32.0\n",
            "Player5     32.0\n",
            "Player6      0.0\n",
            "Player7      0.0\n",
            "Player8     20.0\n",
            "Player9      4.0\n",
            "Player10     4.0\n",
            "Player11     4.0\n",
            "Player12     0.0\n",
            "dtype: float64\n"
          ],
          "name": "stdout"
        }
      ]
    },
    {
      "cell_type": "markdown",
      "metadata": {
        "id": "-N-w6xyn0owk"
      },
      "source": [
        "2. We notice that some players get no playing time at all. Lets enforce another constraint that each player has to play at least 4 minutes. Add that constraint and re-solve the model and report the optimal lineup."
      ]
    },
    {
      "cell_type": "code",
      "metadata": {
        "id": "QHHtVopk0oOw",
        "outputId": "b6a760be-cfc3-4869-c8d9-e80e54c202c8",
        "colab": {
          "base_uri": "https://localhost:8080/",
          "height": 269
        }
      },
      "source": [
        "# Write your code here.  \n",
        "\n",
        "# -------------------\n",
        "\n",
        "cons.append(x >= 4)     # Each player plays at least 4 minutes\n",
        "\n",
        "# Solve the model\n",
        "prob = cp.Problem(obj,cons)\n",
        "prob.solve()\n",
        "\n",
        "# Print the objective value\n",
        "prob.solve(verbose=False)  # verbose = True allows you to see the solution process\n",
        "print('The maximum APM_100 is {:.3f}'.format(obj.value))  # gives you the objective value\n",
        "\n",
        "#Extract the optimal playing time allocation\n",
        "x_np_array = x.value.astype(float)  # extract the x values as a np array\n",
        "x_values = pd.Series(np.round(x_np_array,2), index = df_players.columns)  # convert the np array to a series\n",
        "print('The optimal playing time allocation per player is: \\n', x_values)\n",
        "\n",
        "# -------------------"
      ],
      "execution_count": 15,
      "outputs": [
        {
          "output_type": "stream",
          "text": [
            "The maximum APM_100 is 158.247\n",
            "The optimal playing time allocation per player is: \n",
            " Player1     12.0\n",
            "Player2      7.0\n",
            "Player3      7.0\n",
            "Player4     32.0\n",
            "Player5     32.0\n",
            "Player6      4.0\n",
            "Player7      4.0\n",
            "Player8     14.0\n",
            "Player9      4.0\n",
            "Player10     4.0\n",
            "Player11     4.0\n",
            "Player12     4.0\n",
            "dtype: float64\n"
          ],
          "name": "stdout"
        }
      ]
    },
    {
      "cell_type": "markdown",
      "metadata": {
        "id": "cba9Ae9h1EAz"
      },
      "source": [
        "3. These are our results based on our computed $\\beta$'s from the prediction model from phase one. Lets reformulate an entirely new model with new $\\beta$'s defined in `df_players_new`. You'll have to completely redefine the entire model and include all the constraints we added from exercises 1 and 2 because of how CVXPY works. Make sure to change your $P$ and $N$ sets. Re-solve and report the optimal lineup."
      ]
    },
    {
      "cell_type": "code",
      "metadata": {
        "id": "HCrqgGHo1bMP",
        "outputId": "408ae15c-ed9b-44c1-938f-d2bf23027afc",
        "colab": {
          "base_uri": "https://localhost:8080/",
          "height": 269
        }
      },
      "source": [
        "# Use this df_players_new\n",
        "player_dict_new = {'Player1': [3.5, 25], 'Player2': [3.0, 21], 'Player3': [3.0, 21], 'Player4': [2.0, 14],\n",
        "               'Player5': [2.0, 14], 'Player6': [1.5, 8], 'Player7': [1.5, 8], 'Player8': [1.0, 2],\n",
        "               'Player9': [0.5, -2], 'Player10': [0.5, -2], 'Player11': [0.5, -2], 'Player12': [0.0, -7]}\n",
        "df_players_new = pd.DataFrame(player_dict_new, index = ['rating', 'beta'])\n",
        "\n",
        "# Write your code here.  \n",
        "\n",
        "# -------------------\n",
        "\n",
        "m = [1, 0.75, 0.5, 0.25]\n",
        "b = [0, 1.5, 4.5, 10.5]\n",
        "c = [1, 1.25, 1.5, 1.75]\n",
        "d = [0, -1.5, -4.5, -10.5]\n",
        "\n",
        "# This indexes the players into positive or negative beta values\n",
        "P = [0,1,2,3,4,5,6,7] # index of positive beta players\n",
        "N = [8,9,10,11] # index of negative beta players\n",
        "K = 4\n",
        "\n",
        "# Define the variable of how many players of each physical rating we choose\n",
        "x = cp.Variable(12)\n",
        "Z = cp.Variable(len(P)) # only need it for positive beta players\n",
        "Q = cp.Variable(len(N)) # only need it for negative beta players\n",
        "\n",
        "# Create the objective of maximizing APM_100\n",
        "obj = cp.Maximize(sum(Z) + sum(Q)) \n",
        "\n",
        "# Create the constraints\n",
        "cons = []\n",
        "cons.append(sum(x) == 128)    # Total sum of all players time is 128\n",
        "cons.append(x >= 0)         # non-negativity of time played\n",
        "cons.append(x <= 32)         # max play time per player\n",
        "\n",
        "cons.append(x[0] == x[8] + x[9] + x[10]) # keep time equal for 3.5 and 0.5 players\n",
        "cons.append(x[1] + x[2] == x[7] )        # keep time equal for 3.0 and 1.0 players\n",
        "cons.append(x >= 4)                      # neach player gets at least 4 minutes\n",
        "\n",
        "\n",
        "# Piecewise constraints to capture objective value for positive players\n",
        "for i in P:\n",
        "  for k in range(K):\n",
        "    cons.append(Z[i] <= df_players_new.loc['beta'][i] * (m[k]*x[i] + b[k]))\n",
        "\n",
        "# Piecewise constraints to capture objective value for negative players\n",
        "for i in N:\n",
        "  for k in range(K):\n",
        "    cons.append(Q[i-len(P)] <= df_players_new.loc['beta'][i] * (c[k]*x[i] + d[k]))\n",
        "\n",
        "\n",
        "# Solve the model\n",
        "prob = cp.Problem(obj,cons)\n",
        "prob.solve()\n",
        "\n",
        "# Print the objective value\n",
        "prob.solve(verbose=False)  # verbose = True allows you to see the solution process\n",
        "print('The maximum APM_100 is {:.3f}'.format(obj.value))  # gives you the objective value\n",
        "\n",
        "#Extract the optimal playing time allocation\n",
        "x_np_array = x.value.astype(float)  # extract the x values as a np array\n",
        "x_values = pd.Series(np.round(x_np_array,2), index = df_players_new.columns)  # convert the np array to a series\n",
        "print('The optimal playing time allocation per player is: \\n', x_values)\n",
        "\n",
        "# -------------------"
      ],
      "execution_count": 16,
      "outputs": [
        {
          "output_type": "stream",
          "text": [
            "The maximum APM_100 is 1186.500\n",
            "The optimal playing time allocation per player is: \n",
            " Player1     12.0\n",
            "Player2     12.0\n",
            "Player3     12.0\n",
            "Player4     20.0\n",
            "Player5     20.0\n",
            "Player6      6.0\n",
            "Player7      6.0\n",
            "Player8     24.0\n",
            "Player9      4.0\n",
            "Player10     4.0\n",
            "Player11     4.0\n",
            "Player12     4.0\n",
            "dtype: float64\n"
          ],
          "name": "stdout"
        }
      ]
    },
    {
      "cell_type": "markdown",
      "metadata": {
        "id": "kGSfbSbr29pU"
      },
      "source": [
        "4. Did the optimal play time allocation change? Why do you think it did?"
      ]
    },
    {
      "cell_type": "markdown",
      "metadata": {
        "id": "ul5MZU5s3KWk"
      },
      "source": [
        "___\n",
        "__Question 4 Answer__:\n",
        "\n",
        "With the new $\\beta$ values, the value of each player has shifted, so the geometry of the piece-wise linear functions have changed. This means, that if we introduce better or worse players into our roster, everyones optimal play time allocation will change.\n",
        "\n",
        "___"
      ]
    },
    {
      "cell_type": "markdown",
      "metadata": {
        "id": "0MqoqOzNku_v"
      },
      "source": [
        "# Reflection\n",
        "As this is an _Analytics in Action_ course, we should think about how valuable our models are with respect to real-world applications. Position yourself as WCR coach or analytics staff and answer the following questions.\n",
        "\n",
        "1. What is the limitation of calculating $\\beta$'s for physical ratings, instead of individual players"
      ]
    },
    {
      "cell_type": "markdown",
      "metadata": {
        "id": "1J9nrGSAku_v"
      },
      "source": [
        "___\n",
        "__Question 1 Answer__:\n",
        "\n",
        "Players of the same physical rating can perform drastically differently. For example, maybe the average $\\beta_{3.5} = +30$, but we could have two players, say Bob and Jill, who could have very different levels of skill with a $\\beta_{bob} = +21$ and a $\\beta_{jill} = +39$.  \n",
        "___"
      ]
    },
    {
      "cell_type": "markdown",
      "metadata": {
        "id": "y9zPf1h8ku_v"
      },
      "source": [
        "2. What other ways could we include fatigue in the model that is more realistic than our concave piece-wise linear function?"
      ]
    },
    {
      "cell_type": "markdown",
      "metadata": {
        "id": "7cpL4Crfku_v"
      },
      "source": [
        "___\n",
        "__Question 2 Answer__:\n",
        "\n",
        "We could include how performance would fluctuate in and out of the intermissions and timeouts. For example, the performance of a player who played the 1st and 4th quarter, would be different than a player who played the 2nd and 4th quarters consecutively. Even though they played the same number of minutes, the concentration of those minutes vastly differ.\n",
        "___"
      ]
    },
    {
      "cell_type": "markdown",
      "metadata": {
        "id": "AaFDYdTV3bfm"
      },
      "source": [
        "3. Can you come up with one way in which the knapsack model and feasible play time allocation model could be used together? i.e. the results of one model would influence the other, making both of them more useful."
      ]
    },
    {
      "cell_type": "markdown",
      "metadata": {
        "id": "Z8P2eF9f32hI"
      },
      "source": [
        "___\n",
        "__Question 3 Answer__:\n",
        "\n",
        "One way to incorporate the models is we run the initial knapsack model to get the starting lineup. Then, as players in that lineup hit their maximum time allocation, we can take them off the roster, and reoptimize the knapsack model to find the second lineup. We can repeat this every time someone's time runs up!\n",
        "___"
      ]
    },
    {
      "cell_type": "markdown",
      "metadata": {
        "id": "e1hyRfTDiX9O"
      },
      "source": [
        "# Appendix A: Adjusted Plus/Minus (APM)\n",
        "\n",
        "Here are some important terms to know to help understand [adjusted plus/minus](https://www.agilesportsanalytics.com/sports-analytics-adjusted-plus-minus/#:~:text=Adjusted%20Plus%20Minus%20(APM)%20is,technique%20used%20for%20evaluating%20players.&text=The%20%2B%2F%2D%20stat%20is%20the,player%20was%20on%20the%20floor.) (APM) (note, you are not expected to know adjusted plus/minus for the quiz):\n",
        "\n",
        "\n",
        "*   **Stint:** A stint is a consecutive amount of playing time in which the same players on the court were present throughout (i.e. no substitutions were made). This allows us to analyze what took place in the game for that particular set of players (home and away). \n",
        "*   **Regular Plus/Minus:** For each stint, we can calculate the score differential, and assign that value to each player on the court for that stint. (We assign the negated value for the away players). To get a player's final plus/minus, we add up all their individual plus/minus values for each stint they were in. This approach, while useful, doesn't take into account player interactions. \n",
        "*   **Adjusted Plus/Minus:** Uses regression to determine which players in each stint most impacted the game. We don't simply add up the adjusted plus/minus values for each stint a particular player was in. We'll go through the calculations below.\n",
        "*   **Adjusted Plus/Minus per 100 Possesions:** Simply taking the adjusted plus/minus of a particular stint, dividing it by the number of possessions that took place during that stint, and multipling it by 100.\n",
        "\n",
        "As an illustrative example, consider the hypothetical sport comprised of 3 players, with only two players per team allowed on the court at any time. We will identify the players as A1, A2, and A3 for Team A, and B1, B2,and B3 for Team B. Consider the following 3 stints.\n",
        "\n",
        "*   A1, A2, vs. B1, B2 resulted in 11-5 over 15 possessions\n",
        "*   A1, A3, vs. B2, B3 resulted in 4-9 over 7 possessions\n",
        "*   A2, A3, vs. B1, B3 resulted in 8-10 over 13 possessions\n",
        "\n",
        "Lets consider the regular plus minus for just player A2. The first time A2 was on the court, stint 1, the plus/minus was +6. The second time was in stint 3, in which the plus/minue was -2. Therefore, the overall plus/minus for A2 is +4. We can see that the problem with this approach is we can't tell if A2 was really the driving factor to earn that +4, or just happened to be on the court when better players were on as well. \n",
        "\n",
        "Adjusted plus/minus per 100 possession ($APM_{100}$) considers the system of linear equations that represents players playing on a court for each stint. There is one equation for each stint. The target variable, $Y_j$, is the $APM_{100}$ for stint $j$. The independent variables are binary indicators, $A_{i,j}$, set to $1$, if player $i$ was on the court during stint $j$, $0$ otherwise. We are trying to solve for the $\\beta_i$'s, which is the $APM_{100}$ for player $i$. We also include a $\\beta_0$ as an intercept for each equation. \n",
        "\n",
        "To summarize, there is an $APM_{100}$ value for the entire stint. We are trying to distribute that value to each player on the court, to see how they contributed towards it. Therefore, the $\\beta$'s (aka the $APM_{100}$'s for each player) are additive, and sum up to the $APM_{100}$ of the entire stint. The following general system of equations can be use for our example: \n",
        "\n",
        "\\begin{array}{ll}\n",
        "Y_1 = \\beta_0 + \\beta_1A_{1,1} + \\beta_2A_{2,1} + \\beta_3A_{3,1} + \\beta_4B_{1,1}+ \\beta_5B_{2,1} + \\beta_6B_{3,1}\\\\\n",
        "Y_2 = \\beta_0 + \\beta_1A_{1,2} + \\beta_2A_{2,2} + \\beta_3A_{3,2} + \\beta_4B_{1,2}+ \\beta_5B_{2,2} + \\beta_6B_{3,2}\\\\\n",
        "Y_3 = \\beta_0 + \\beta_1A_{1,3} + \\beta_2A_{2,3} + \\beta_3A_{3,3} + \\beta_4B_{1,3}+ \\beta_5B_{2,3} + \\beta_6B_{3,3}\\\\\n",
        "\\end{array}\n",
        "\n",
        "Plugging in the exact values from the stint information, the equations boil down to the following (note $Y_1 = (11-5)/15 * 100 = +40$): \n",
        "\n",
        "\\begin{array}{ll}\n",
        "+40.00 = \\beta_0 + \\beta_1 + \\beta_2 + \\beta_4+ \\beta_5\\\\\n",
        "-71.43 = \\beta_0 + \\beta_1 + \\beta_3 + \\beta_5 + \\beta_6\\\\\n",
        "-15.38 = \\beta_0 + \\beta_2 + \\beta_3 + \\beta_4+ \\beta_6\\\\\n",
        "\\end{array}\n",
        "\n",
        "Solving for the $\\beta$'s will give us the adjusted plus/minus per 100 possessions for each player. This will lead to a better understanding of how each individual player impacted the game!"
      ]
    },
    {
      "cell_type": "markdown",
      "metadata": {
        "id": "Nkizlp0ruDtX"
      },
      "source": [
        "# Appendix B: $APM_{100}$ and Fatigue\n",
        "\n",
        "\n",
        "Lets assume that a players performance, or APM, starts off at their $\\beta$ value and then has incremental drops each time they cross a particular threshold of total playing time according to the function $f(t)$, defined below. (If we wanted to be more precise, we could have done a time-sensitivity anaysis to precisely see how APM fluctuates over time, but this was out of scope for the lab).\n",
        "\n",
        "\\begin{aligned}\n",
        "  f(t) =\n",
        "  \\begin{cases}\n",
        "          \\beta  && 0 \\leq t < 6 \\\\\n",
        "          0.75\\beta && 6 \\leq t < 12 \\\\\n",
        "          0.5\\beta && 12 \\leq t < 24 \\\\\n",
        "          0.25\\beta && 24 \\leq t \\leq 32 \\\\\n",
        "  \\end{cases}\n",
        "\\end{aligned}\n",
        "\n",
        "Lets take a look at what this plot would look like for a $\\beta = 12$:\n",
        "\n",
        "<figure>\n",
        "<img src=\"https://docs.google.com/uc?export=view&id=13qAl8-HEUnqhCN2x4q4nGbYZ_p3y_y8c\"\n",
        "alt=\"\" />\n",
        "<figcaption>Relationship between APM and Playing Time with a $\\beta = 12$.</figcaption>\n",
        "</figure>\n",
        "\n",
        "So now we know at what level they'll be playing at for each time $t$. But what we really want is their **cumulative** APM for their **total** playing time $t$. Going back to first year calculus, what we want is the area under the curve, so we need to integrate this piece-wise function. Luckily these are constant functions, so the integral is very easy to compute. We get the following function: \n",
        "\n",
        "\\begin{aligned}\n",
        "  C(t) =\n",
        "  \\begin{cases}\n",
        "          \\beta t  && 0 \\leq t < 6 \\\\\n",
        "          0.75\\beta t + 1.5\\beta  && 6 \\leq t < 12 \\\\\n",
        "          0.50\\beta t + 4.5\\beta && 12 \\leq t < 24 \\\\\n",
        "          0.25\\beta t + 10.5\\beta  && 24 \\leq t \\leq 32 \\\\\n",
        "  \\end{cases}\n",
        "\\end{aligned}\n",
        "\n",
        "We can plot this piece-wise function, $C(t)$, below. Note that the bolded sections of the plot is what we are most concerned with, as these sections are where each $y = mt + b$ line falls under its appropriate interval. \n",
        "\n",
        "<figure>\n",
        "<img src=\"https://docs.google.com/uc?export=view&id=1izWlZtip_51Q6PBhufB1sdaWQKEMEQ_W\"\n",
        "alt=\"\" />\n",
        "<figcaption>Relationship between Cumulative APM and Playing Time with a $\\beta = 12$.</figcaption>\n",
        "</figure>\n",
        "\n",
        "Note, this function takes the form of a **concave** piece-wise linear function due to its concavity. These types of functions have a special property that allows us to write them as:\n",
        "\n",
        "\\begin{aligned}\n",
        "C(t) = \\min_{i = i,...,k} \\{m_it + b_i\\}\n",
        "\\end{aligned}\n",
        "\n",
        "For players with negative $\\beta$ values, we use the following piecewise function to highlight how their $APM_{100}$ gets more negative, aka, worse, over time.\n",
        "\n",
        "\\begin{aligned}\n",
        "  g(t) =\n",
        "  \\begin{cases}\n",
        "          \\beta  && 0 \\leq t < 6 \\\\\n",
        "          1.25\\beta && 6 \\leq t < 12 \\\\\n",
        "          1.5\\beta && 12 \\leq t < 24 \\\\\n",
        "          1.75\\beta && 24 \\leq t \\leq 32 \\\\\n",
        "  \\end{cases}\n",
        "\\end{aligned}\n",
        "\n",
        "The cumulative function taken by integrating is: \n",
        "\n",
        "\\begin{aligned}\n",
        "  D(t) =\n",
        "  \\begin{cases}\n",
        "          \\beta t  && 0 \\leq t < 6 \\\\\n",
        "          1.25\\beta t - 1.5\\beta  && 6 \\leq t < 12 \\\\\n",
        "          1.50\\beta t - 4.5\\beta && 12 \\leq t < 24 \\\\\n",
        "          1.75\\beta t - 10.5\\beta  && 24 \\leq t \\leq 32 \\\\\n",
        "  \\end{cases}\n",
        "\\end{aligned}\n",
        "\n",
        "These functions are also concave, so we can express $D(t)$ as: \n",
        "\n",
        "\\begin{aligned}\n",
        "D(t) = \\min_{i = i,...,k} \\{c_it + d_i\\}\n",
        "\\end{aligned}\n",
        "\n"
      ]
    }
  ]
}