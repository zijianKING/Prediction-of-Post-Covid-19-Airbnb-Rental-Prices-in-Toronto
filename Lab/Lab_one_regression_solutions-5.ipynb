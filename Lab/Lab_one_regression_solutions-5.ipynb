{
  "nbformat": 4,
  "nbformat_minor": 0,
  "metadata": {
    "colab": {
      "name": "Lab_one_regression_solutions.ipynb",
      "provenance": [],
      "collapsed_sections": [],
      "toc_visible": true
    },
    "kernelspec": {
      "name": "python3",
      "display_name": "Python 3"
    },
    "pycharm": {
      "stem_cell": {
        "cell_type": "raw",
        "source": [],
        "metadata": {
          "collapsed": false
        }
      }
    }
  },
  "cells": [
    {
      "cell_type": "markdown",
      "metadata": {
        "id": "9_1GISKe768k",
        "colab_type": "text"
      },
      "source": [
        "<center>\n",
        "    <h3>University of Toronto</h3>\n",
        "    <h3>Department of Mechanical and Industrial Engineering</h3>\n",
        "    <h3>MIE368 Analytics in Action </h3>\n",
        "    <h3>(Fall 2020)</h3>\n",
        "    <hr>\n",
        "    <h1>Lab 1: Linear and Logistic Regression</h1>\n",
        "    <h3>September 23, 2020</h3>\n",
        "</center>\n"
      ]
    },
    {
      "cell_type": "markdown",
      "metadata": {
        "id": "soIx6yNt8SBd",
        "colab_type": "text"
      },
      "source": [
        " # Introduction\n",
        "\n",
        "Linear and logistic regression are two of the most widely used methods in analytics. They are used to model the relationship between a _target_ variable (i.e., dependent variable and one or more _features_ (i.e., independent variables). The application of these methods typically falls into one of two categories based on the end goal:\n",
        "\n",
        " 1. __Prediction:__ estimate the target based on given features. The goal is to obtain a model that performs well on out-of-sample data (i.e., data it hasn't seen before).\n",
        "\n",
        " 2. __Information extraction:__ reveal how the target is associated with the feature variables. Care is needed with respect to model assumptions when seeking to extract information.\n",
        "\n",
        "__By the end of this lab you will be able to:__\n",
        "> i) Apply linear regression to predict a continuous target.  \n",
        "> ii) Apply logistic regression to predict a binary target.  \n",
        "> iii) Apply feature selection and regularization to construct better models.  \n",
        "> iv) Evaluate model fitness using $R^2$, mean accuracy, precision-recall, confusion matrices, and ROC curves.\n",
        "\n",
        "\n",
        "\n",
        "\n",
        "\n",
        "\n",
        "\n"
      ]
    },
    {
      "cell_type": "markdown",
      "metadata": {
        "id": "2BgKbVT1UNzF",
        "colab_type": "text"
      },
      "source": [
        "# Application\n",
        "\n",
        "In this lab, we will use data from the National Basketball League (NBA). We have two goals: (1) to understand and predict the relationship between stats and total number of wins, and (2) to understand and predict the relationship between stats and whether a team will make the playoffs. \n",
        "Our data includes team data from all NBA seasons between 1980 and 2016 except for the two lockout seasons (1999 and 2012). For a brief introduction to basketball, please watch the first 95 seconds of the following video:\n",
        "\n",
        "<a href=\"https://www.youtube.com/watch?v=wYjp2zoqQrs\n",
        "\" target=\"\"><img src=\"http://img.youtube.com/vi/wYjp2zoqQrs/0.jpg\" \n",
        "alt=\"\" width=\"240\" height=\"180\" border=\"10\" /></a>"
      ]
    },
    {
      "cell_type": "markdown",
      "metadata": {
        "id": "9J-sgWRLxLwW",
        "colab_type": "text"
      },
      "source": [
        "## Imports and Data\n",
        "\n",
        "Lets start by importing the packages and data involved in this lab. "
      ]
    },
    {
      "cell_type": "code",
      "metadata": {
        "id": "ZJtPfP8A8O24",
        "colab_type": "code",
        "pycharm": {
          "is_executing": false
        },
        "colab": {
          "base_uri": "https://localhost:8080/",
          "height": 204
        },
        "outputId": "15edf358-f764-4a64-ccb8-601f9900cee6"
      },
      "source": [
        "# Import the packages for this lab\n",
        "import matplotlib.pyplot as plt\n",
        "import numpy as np\n",
        "import pandas as pd\n",
        "import seaborn as sns\n",
        "\n",
        "# Import linear regression models\n",
        "from sklearn.linear_model import LinearRegression, LassoCV, RidgeCV\n",
        "\n",
        "# Import logistic regression models\n",
        "from sklearn.linear_model import LogisticRegression, LogisticRegressionCV\n",
        "\n",
        "# Import confusion matrix function from sklearn\n",
        "from sklearn.metrics import confusion_matrix\n",
        "\n",
        "# Load all the data required for this lab\n",
        "df = pd.read_csv('https://docs.google.com/uc?export=download&id=1qCI6BGZpgenI0lLcBuJHTEst5PTIqXov')\n",
        "df.head()  # Visualize small portion of the data"
      ],
      "execution_count": null,
      "outputs": [
        {
          "output_type": "execute_result",
          "data": {
            "text/html": [
              "<div>\n",
              "<style scoped>\n",
              "    .dataframe tbody tr th:only-of-type {\n",
              "        vertical-align: middle;\n",
              "    }\n",
              "\n",
              "    .dataframe tbody tr th {\n",
              "        vertical-align: top;\n",
              "    }\n",
              "\n",
              "    .dataframe thead th {\n",
              "        text-align: right;\n",
              "    }\n",
              "</style>\n",
              "<table border=\"1\" class=\"dataframe\">\n",
              "  <thead>\n",
              "    <tr style=\"text-align: right;\">\n",
              "      <th></th>\n",
              "      <th>SeasonEnd</th>\n",
              "      <th>Team</th>\n",
              "      <th>W</th>\n",
              "      <th>PTS</th>\n",
              "      <th>oppPTS</th>\n",
              "      <th>FG</th>\n",
              "      <th>FGA</th>\n",
              "      <th>2P</th>\n",
              "      <th>2PA</th>\n",
              "      <th>3P</th>\n",
              "      <th>3PA</th>\n",
              "      <th>FT</th>\n",
              "      <th>FTA</th>\n",
              "      <th>ORB</th>\n",
              "      <th>DRB</th>\n",
              "      <th>AST</th>\n",
              "      <th>STL</th>\n",
              "      <th>BLK</th>\n",
              "      <th>TOV</th>\n",
              "      <th>Conference</th>\n",
              "      <th>Playoffs</th>\n",
              "    </tr>\n",
              "  </thead>\n",
              "  <tbody>\n",
              "    <tr>\n",
              "      <th>0</th>\n",
              "      <td>2014</td>\n",
              "      <td>Philadelphia 76ers</td>\n",
              "      <td>19</td>\n",
              "      <td>8155</td>\n",
              "      <td>9012</td>\n",
              "      <td>3108</td>\n",
              "      <td>7150</td>\n",
              "      <td>2531</td>\n",
              "      <td>5303</td>\n",
              "      <td>577</td>\n",
              "      <td>1847</td>\n",
              "      <td>1362</td>\n",
              "      <td>1918</td>\n",
              "      <td>949</td>\n",
              "      <td>2556</td>\n",
              "      <td>1791</td>\n",
              "      <td>765</td>\n",
              "      <td>330</td>\n",
              "      <td>1384</td>\n",
              "      <td>0</td>\n",
              "      <td>0</td>\n",
              "    </tr>\n",
              "    <tr>\n",
              "      <th>1</th>\n",
              "      <td>2004</td>\n",
              "      <td>Detroit Pistons</td>\n",
              "      <td>54</td>\n",
              "      <td>7388</td>\n",
              "      <td>6909</td>\n",
              "      <td>2747</td>\n",
              "      <td>6314</td>\n",
              "      <td>2414</td>\n",
              "      <td>5346</td>\n",
              "      <td>333</td>\n",
              "      <td>968</td>\n",
              "      <td>1561</td>\n",
              "      <td>2074</td>\n",
              "      <td>1014</td>\n",
              "      <td>2492</td>\n",
              "      <td>1702</td>\n",
              "      <td>659</td>\n",
              "      <td>570</td>\n",
              "      <td>1241</td>\n",
              "      <td>0</td>\n",
              "      <td>1</td>\n",
              "    </tr>\n",
              "    <tr>\n",
              "      <th>2</th>\n",
              "      <td>2004</td>\n",
              "      <td>San Antonio Spurs</td>\n",
              "      <td>57</td>\n",
              "      <td>7501</td>\n",
              "      <td>6909</td>\n",
              "      <td>2842</td>\n",
              "      <td>6434</td>\n",
              "      <td>2434</td>\n",
              "      <td>5294</td>\n",
              "      <td>408</td>\n",
              "      <td>1140</td>\n",
              "      <td>1409</td>\n",
              "      <td>2069</td>\n",
              "      <td>1029</td>\n",
              "      <td>2669</td>\n",
              "      <td>1676</td>\n",
              "      <td>661</td>\n",
              "      <td>537</td>\n",
              "      <td>1203</td>\n",
              "      <td>1</td>\n",
              "      <td>1</td>\n",
              "    </tr>\n",
              "    <tr>\n",
              "      <th>3</th>\n",
              "      <td>2004</td>\n",
              "      <td>Indiana Pacers</td>\n",
              "      <td>61</td>\n",
              "      <td>7493</td>\n",
              "      <td>7021</td>\n",
              "      <td>2753</td>\n",
              "      <td>6322</td>\n",
              "      <td>2304</td>\n",
              "      <td>5041</td>\n",
              "      <td>449</td>\n",
              "      <td>1281</td>\n",
              "      <td>1538</td>\n",
              "      <td>2014</td>\n",
              "      <td>965</td>\n",
              "      <td>2452</td>\n",
              "      <td>1774</td>\n",
              "      <td>726</td>\n",
              "      <td>411</td>\n",
              "      <td>1182</td>\n",
              "      <td>0</td>\n",
              "      <td>1</td>\n",
              "    </tr>\n",
              "    <tr>\n",
              "      <th>4</th>\n",
              "      <td>1997</td>\n",
              "      <td>Cleveland Cavaliers</td>\n",
              "      <td>42</td>\n",
              "      <td>7173</td>\n",
              "      <td>7022</td>\n",
              "      <td>2704</td>\n",
              "      <td>5972</td>\n",
              "      <td>2221</td>\n",
              "      <td>4688</td>\n",
              "      <td>483</td>\n",
              "      <td>1284</td>\n",
              "      <td>1282</td>\n",
              "      <td>1773</td>\n",
              "      <td>909</td>\n",
              "      <td>2159</td>\n",
              "      <td>1714</td>\n",
              "      <td>655</td>\n",
              "      <td>315</td>\n",
              "      <td>1188</td>\n",
              "      <td>0</td>\n",
              "      <td>0</td>\n",
              "    </tr>\n",
              "  </tbody>\n",
              "</table>\n",
              "</div>"
            ],
            "text/plain": [
              "   SeasonEnd                 Team   W   PTS  ...  BLK   TOV  Conference  Playoffs\n",
              "0       2014   Philadelphia 76ers  19  8155  ...  330  1384           0         0\n",
              "1       2004      Detroit Pistons  54  7388  ...  570  1241           0         1\n",
              "2       2004    San Antonio Spurs  57  7501  ...  537  1203           1         1\n",
              "3       2004       Indiana Pacers  61  7493  ...  411  1182           0         1\n",
              "4       1997  Cleveland Cavaliers  42  7173  ...  315  1188           0         0\n",
              "\n",
              "[5 rows x 21 columns]"
            ]
          },
          "metadata": {
            "tags": []
          },
          "execution_count": 88
        }
      ]
    },
    {
      "cell_type": "markdown",
      "metadata": {
        "id": "8JFxtBtoUr8r",
        "colab_type": "text"
      },
      "source": [
        "\n",
        "The columns in the dataset should be as follows (21 columns total):\n",
        "\n",
        "* **SeasonEnd**: season of play\n",
        "* **Team**: team name (categorical)\n",
        "* **W**: wins\n",
        "* **PTS**: points scored over the season\n",
        "* **oppPTS**: points scored on the team over the season\n",
        "* **FG**: field goals made\n",
        "* **FGA**: field goals attempted\n",
        "* **2P**: 2-point field goals made\n",
        "* **2PA**: 2-point field goals attempted\n",
        "* **3P**: 3-point field goals made\n",
        "* **3PA**: 3-point field goals attempted\n",
        "* **FT**: Free throws made\n",
        "* **FTA**: Free throws attempted\n",
        "* **ORB**: Offensive rebounds made\n",
        "* **DRB**: Defensive rebounds made\n",
        "* **AST**: Assists made\n",
        "* **STL**: Steals made\n",
        "* **BLK**: Blocks made\n",
        "* **TOV**: Turnovers made\n",
        "* **Conference**: NBA conference that team plays is (0 = eastern, 1 = western)\n",
        "* **Playoffs**: Whether or not team made playoffs (0 = missed, 1 = made)\n",
        "\n",
        "Before we do anything, we should always try some exploratory data analysis to better understand what we are dealing with. Answer the questions below.\n",
        "\n",
        "### Exercise\n",
        "\n",
        "1. Is there any missing data?\n",
        "2. Which team won the most games in a season?\n",
        "3. Which team was the best defensive team (based on points scored against the team)?\n",
        "4. Aside from playoffs, which feature is the most correlated with wins?"
      ]
    },
    {
      "cell_type": "code",
      "metadata": {
        "id": "wsphPBZBQ6Zd",
        "colab_type": "code",
        "pycharm": {
          "is_executing": false
        },
        "colab": {
          "base_uri": "https://localhost:8080/",
          "height": 34
        },
        "outputId": "4f181cbd-0217-4afc-fb9f-932320cb9460"
      },
      "source": [
        "# Question 1\n",
        "\n",
        "# Write your code here.\n",
        "\n",
        "# -------------------\n",
        "\n",
        "print(f'There are {df.isnull().sum().sum()} missing data points')\n",
        "\n",
        "# -------------------"
      ],
      "execution_count": null,
      "outputs": [
        {
          "output_type": "stream",
          "text": [
            "There are 0 missing data points\n"
          ],
          "name": "stdout"
        }
      ]
    },
    {
      "cell_type": "code",
      "metadata": {
        "id": "-DGdvAdGYsT-",
        "colab_type": "code",
        "pycharm": {
          "is_executing": false
        },
        "colab": {
          "base_uri": "https://localhost:8080/",
          "height": 37
        },
        "outputId": "182f3b65-d419-4fa1-946b-c4aba1ef102c"
      },
      "source": [
        "# Question 2\n",
        "\n",
        "# Write your code here.\n",
        "\n",
        "# -------------------\n",
        "\n",
        "df.loc[df.W.idxmax()].Team\n",
        "\n",
        "# -------------------"
      ],
      "execution_count": null,
      "outputs": [
        {
          "output_type": "execute_result",
          "data": {
            "application/vnd.google.colaboratory.intrinsic+json": {
              "type": "string"
            },
            "text/plain": [
              "'Golden State Warriors'"
            ]
          },
          "metadata": {
            "tags": []
          },
          "execution_count": 90
        }
      ]
    },
    {
      "cell_type": "code",
      "metadata": {
        "id": "kyJefMh1Zap1",
        "colab_type": "code",
        "colab": {
          "base_uri": "https://localhost:8080/",
          "height": 37
        },
        "outputId": "aae45d8e-3b0d-43ee-c6f0-90b4c88421df"
      },
      "source": [
        "# Question 3\n",
        "\n",
        "# Write your code here.\n",
        "\n",
        "# -------------------\n",
        "\n",
        "df.loc[df.oppPTS.idxmin()].Team\n",
        "\n",
        "# -------------------\n"
      ],
      "execution_count": null,
      "outputs": [
        {
          "output_type": "execute_result",
          "data": {
            "application/vnd.google.colaboratory.intrinsic+json": {
              "type": "string"
            },
            "text/plain": [
              "'Detroit Pistons'"
            ]
          },
          "metadata": {
            "tags": []
          },
          "execution_count": 91
        }
      ]
    },
    {
      "cell_type": "code",
      "metadata": {
        "id": "bxdpRx8oZtnt",
        "colab_type": "code",
        "colab": {
          "base_uri": "https://localhost:8080/",
          "height": 37
        },
        "outputId": "300c600f-1222-4aaf-bd3f-66a82c51b504"
      },
      "source": [
        "# Question 4\n",
        "\n",
        "# Write your code here.\n",
        "\n",
        "# -------------------\n",
        "\n",
        "df.corr().W.drop(['W', 'Playoffs']).abs().idxmax()\n",
        "\n",
        "# -------------------"
      ],
      "execution_count": null,
      "outputs": [
        {
          "output_type": "execute_result",
          "data": {
            "application/vnd.google.colaboratory.intrinsic+json": {
              "type": "string"
            },
            "text/plain": [
              "'DRB'"
            ]
          },
          "metadata": {
            "tags": []
          },
          "execution_count": 92
        }
      ]
    },
    {
      "cell_type": "markdown",
      "metadata": {
        "id": "j-J38pOLabG9",
        "colab_type": "text"
      },
      "source": [
        "## Feature engineering\n",
        "\n",
        "In this section, we're going to use our findings in the previous exercise to make a new feature out of the existing data using a process called feature engineering. Consider that (in addition to being great overall team) the Golden State Warriors (2016) and Detroit Pistons (2004) are widely regarded as the best offensive and defensive team of our time, respectively. If you look at the full correlation matrix it seems like PTS and oppPTS are correlated with winning, but not as much as DRB. This should seem surprising as you would expect that the points scored and allowed should be the best indicator of whether a team wins a game. \n",
        "\n",
        "By applying some domain knowledge to this problem, however, we might reason that it is not the individual two features that affect how often you win but rather the combination of those features. In the code below, we create a new feature called \"diffPTS\" (to represent difference in points scored by a team and points scored against a team), and then we check how it correlates with wins.\n"
      ]
    },
    {
      "cell_type": "code",
      "metadata": {
        "id": "1g1yj7_DfVZc",
        "colab_type": "code",
        "colab": {
          "base_uri": "https://localhost:8080/",
          "height": 51
        },
        "outputId": "d34a0dd4-0d2b-43e0-a633-3b0a4829be7c"
      },
      "source": [
        "# Make new column in df\n",
        "df['dffPTS'] = df.PTS - df.oppPTS  # new column data\n",
        "dffPTS_corr = df[['dffPTS', 'W']].corr().iloc[0,1]  # get correlation with wins\n",
        "\n",
        "# Get highest correlation coefficient from original data\n",
        "highest_orig_corr = df.corr().W.drop(['W', 'Playoffs', 'dffPTS']).abs().max()\n",
        "\n",
        "print(f'Using only the original features the highest correlation with wins was {highest_orig_corr:.3f},\\n \\\n",
        "but our new feature had a much higher correlation with wins of {dffPTS_corr:.3f}')"
      ],
      "execution_count": null,
      "outputs": [
        {
          "output_type": "stream",
          "text": [
            "Using only the original features the highest correlation with wins was 0.411,\n",
            " but our new feature had a much higher correlation with wins of 0.971\n"
          ],
          "name": "stdout"
        }
      ]
    },
    {
      "cell_type": "markdown",
      "metadata": {
        "id": "TrodQtgsxF3P",
        "colab_type": "text"
      },
      "source": [
        "By engineering this new feature dffPTS we have a feature that correlates with wins more than any of the original features! As a very brief aside (will not be tested), the `:.3f` in the print statment is called a format specifier, and the logic is explained [here.](https://www.python.org/dev/peps/pep-0498/#format-specifiers)"
      ]
    },
    {
      "cell_type": "markdown",
      "metadata": {
        "id": "GYaGkyBAiUqd",
        "colab_type": "text"
      },
      "source": [
        "# Linear Regression\n",
        "\n",
        "Linear regression can be used when the target (i.e., what you're trying to predict) is a continuous variable that can take any values from minus infinity to positive infinity. Let $y$ represent the target and $x_1,x_2,\\dots,x_K$ represent $K$ features (i.e., what you're using to predict the target). \n",
        "\n",
        "We use linear regression to find the best coefficients $\\beta_0,\\beta_1,\\dots,\\beta_K$, such that our predictions,\n",
        "\n",
        "$y = \\beta_0 + \\beta_1x_1 + \\beta_2x_2 + \\dots + \\beta_Kx_K,$\n",
        "\n",
        "are as close as possible to the true target values, $\\hat{y}$. We define the error (i.e., residual) for a given observation to be $(\\hat{y} -y)$. Then we choose our regression coefficients to minimize the mean squared error (MSE) between the true target values and the predicted target values across all data points. For example, suppose we observe $n$ data points of the form $(y_i,x_{i1},x_{i2},\\dots,x_{iK}), \\;i=1,\\dots,n$, then we would solve this optimization problem\n",
        "\n",
        "$$\n",
        "\\begin{aligned}\n",
        "\\min_{\\beta_0,\\beta_1,\\dots,\\beta_K} \\quad  & \\frac{1}{n}\\sum_{i=1}^n \\left( \\beta_0 + \\beta_1x_{i1} + \\beta_2x_{i2} + \\dots + \\beta_Kx_{iK} - y_i \\right)^2.     \\quad\\quad\\quad (1)\n",
        "\\end{aligned}\n",
        "$$\n",
        "\n",
        "We denote the coefficients that minimize (1) by $\\hat{\\beta}_0,\\hat{\\beta}_1,\\dots,\\hat{\\beta}_K$. "
      ]
    },
    {
      "cell_type": "markdown",
      "metadata": {
        "id": "JB2b2KyAxyGZ",
        "colab_type": "text"
      },
      "source": [
        "## Coding up the model\n",
        "\n",
        "In this course, we will mostly use the `scikit-learn` package to build predictive models. In `scikit-learn`, every model is defined as a class object that contains (amongst others), several standard methods:\n",
        "\n",
        "* **fit()**: Takes training features and target as input and uses that to fit the model (i.e., find the best parameters for a model).\n",
        "* **predict()**: Takes testing features as input and uses that to predict target values (i.e., use the model).\n",
        "* **score()**: Takes testing features and target as input and uses that to measure the error (i.e., evaluate model performance).\n",
        "\n",
        "\n",
        "We will now build a linear regression model to predict the total number of wins using all of the numerical features. When building any model, we make sure that we split the data into reasonable training and testing sets. We then use  [`LinearRegression`](https://scikit-learn.org/stable/modules/generated/sklearn.linear_model.LinearRegression.html) and fit our model on the training data and predict on the target data."
      ]
    },
    {
      "cell_type": "code",
      "metadata": {
        "id": "9F7TDV8MgxXk",
        "colab_type": "code",
        "colab": {}
      },
      "source": [
        "# Split the data into training and testing sets\n",
        "df_train = df[df.SeasonEnd<2012]\n",
        "df_test = df[df.SeasonEnd>=2012]\n",
        "\n",
        "# Define features to remove from the feature data (i.e., X)\n",
        "drop_for_X = ['W','Team','SeasonEnd','Playoffs']\n",
        "\n",
        "# Partition the training data into features and target\n",
        "X_train = df_train.drop(columns=drop_for_X)\n",
        "y_train = df_train.W\n",
        "\n",
        "# Fit the model\n",
        "linreg = LinearRegression()\n",
        "linreg.fit(X_train, y_train)\n",
        "\n",
        "# Partition the testing data into features and target\n",
        "X_test = df_test.drop(columns=drop_for_X)\n",
        "y_test = df_test.W\n",
        "\n",
        "# Predict the number of wins\n",
        "y_test_predictions = linreg.predict(X_test)"
      ],
      "execution_count": null,
      "outputs": []
    },
    {
      "cell_type": "markdown",
      "metadata": {
        "id": "brm2gfODmAAL",
        "colab_type": "text"
      },
      "source": [
        "In the codeblock above, we used the `predict()` method to predict $y$ for each data point (i.e., row) in `X_test`. To determine how _good_ those predictions were you should use the score function, as follows:"
      ]
    },
    {
      "cell_type": "code",
      "metadata": {
        "id": "XDMIWnXol_Hi",
        "colab_type": "code",
        "colab": {
          "base_uri": "https://localhost:8080/",
          "height": 34
        },
        "outputId": "7c52649e-e475-465a-9610-18e50be6fe8b"
      },
      "source": [
        "train_score = linreg.score(X_train, y_train)\n",
        "test_score = linreg.score(X_test, y_test)\n",
        "\n",
        "print(f'The train score is {train_score:.3f} and the test score is {test_score:.3f}')"
      ],
      "execution_count": null,
      "outputs": [
        {
          "output_type": "stream",
          "text": [
            "The train score is 0.944 and the test score is 0.888\n"
          ],
          "name": "stdout"
        }
      ]
    },
    {
      "cell_type": "markdown",
      "metadata": {
        "id": "GsXhqUp9oe1M",
        "colab_type": "text"
      },
      "source": [
        "The \"score\" for linear regression is the _coefficient of determination_ (i.e., $R^2$). In the space above, we calculated the score of the training and testing data, and we found that the model performed better on the training data ($R^2$=0.944) than it did on the testing data ($R^2=0.888). In general the model will perform better on the data it was trained on than data it is seeing for the first time (i.e., testing set). Although most (if not all) models in `scikit-learn` have a score method, the score that `score` evaluates depends on the model. Please keep this in mind when you write a report. \n",
        "\n",
        "In a `LinearRegression` model, the `coef_` attribute returns the values for $\\beta$ and the `intercept_` attribute stores the value fo $\\beta_0$."
      ]
    },
    {
      "cell_type": "code",
      "metadata": {
        "id": "4jLoNgNSoRdJ",
        "colab_type": "code",
        "colab": {
          "base_uri": "https://localhost:8080/",
          "height": 357
        },
        "outputId": "afb40ad1-bb29-471b-b580-0a122d1242b9"
      },
      "source": [
        "betas = pd.Series(linreg.coef_, index=X_train.columns)\n",
        "betas = betas.append(pd.Series({\"Intercept\": linreg.intercept_}))\n",
        "print(betas)"
      ],
      "execution_count": null,
      "outputs": [
        {
          "output_type": "stream",
          "text": [
            "PTS          -1.032659e+10\n",
            "oppPTS       -4.945743e+09\n",
            "FG            3.136950e+10\n",
            "FGA           1.995394e+10\n",
            "2P           -8.248390e+08\n",
            "2PA          -1.995394e+10\n",
            "3P            1.444749e+10\n",
            "3PA          -1.995394e+10\n",
            "FT            1.527233e+10\n",
            "FTA          -1.105242e-03\n",
            "ORB           1.955840e-03\n",
            "DRB           2.634602e-03\n",
            "AST           1.160074e-03\n",
            "STL           1.172673e-03\n",
            "BLK           3.770994e-03\n",
            "TOV          -2.041234e-03\n",
            "Conference    1.902110e-01\n",
            "dffPTS       -4.945743e+09\n",
            "Intercept     3.897555e+01\n",
            "dtype: float64\n"
          ],
          "name": "stdout"
        }
      ]
    },
    {
      "cell_type": "markdown",
      "metadata": {
        "id": "oLysXYhKpg9a",
        "colab_type": "text"
      },
      "source": [
        "You should observe that some of the beta coefficients (e.g., for `oppPTS` and `dffPTS`) are identical, which is the sign of a problem. The problem is that many of the features are highly correlated with each other, and we are therefore violating the assumption of no multi-collinearity!\n",
        "\n",
        "### Exercise\n",
        "1. In the space below, plot the correlation matrix. Which two features are the most correlated?"
      ]
    },
    {
      "cell_type": "code",
      "metadata": {
        "id": "9kTsqB-To1IO",
        "colab_type": "code",
        "colab": {
          "base_uri": "https://localhost:8080/",
          "height": 999
        },
        "outputId": "fc6e0a1c-7849-4f74-9705-3a5ec23f027c"
      },
      "source": [
        "# Write your code here.\n",
        "\n",
        "# -------------------\n",
        "\n",
        "sns.heatmap(df_train.corr())\n",
        "df_train.corr()[df_train.corr().abs() > 0.99]\n",
        "\n",
        "# -------------------"
      ],
      "execution_count": null,
      "outputs": [
        {
          "output_type": "execute_result",
          "data": {
            "text/html": [
              "<div>\n",
              "<style scoped>\n",
              "    .dataframe tbody tr th:only-of-type {\n",
              "        vertical-align: middle;\n",
              "    }\n",
              "\n",
              "    .dataframe tbody tr th {\n",
              "        vertical-align: top;\n",
              "    }\n",
              "\n",
              "    .dataframe thead th {\n",
              "        text-align: right;\n",
              "    }\n",
              "</style>\n",
              "<table border=\"1\" class=\"dataframe\">\n",
              "  <thead>\n",
              "    <tr style=\"text-align: right;\">\n",
              "      <th></th>\n",
              "      <th>SeasonEnd</th>\n",
              "      <th>W</th>\n",
              "      <th>PTS</th>\n",
              "      <th>oppPTS</th>\n",
              "      <th>FG</th>\n",
              "      <th>FGA</th>\n",
              "      <th>2P</th>\n",
              "      <th>2PA</th>\n",
              "      <th>3P</th>\n",
              "      <th>3PA</th>\n",
              "      <th>FT</th>\n",
              "      <th>FTA</th>\n",
              "      <th>ORB</th>\n",
              "      <th>DRB</th>\n",
              "      <th>AST</th>\n",
              "      <th>STL</th>\n",
              "      <th>BLK</th>\n",
              "      <th>TOV</th>\n",
              "      <th>Conference</th>\n",
              "      <th>Playoffs</th>\n",
              "      <th>dffPTS</th>\n",
              "    </tr>\n",
              "  </thead>\n",
              "  <tbody>\n",
              "    <tr>\n",
              "      <th>SeasonEnd</th>\n",
              "      <td>1.0</td>\n",
              "      <td>NaN</td>\n",
              "      <td>NaN</td>\n",
              "      <td>NaN</td>\n",
              "      <td>NaN</td>\n",
              "      <td>NaN</td>\n",
              "      <td>NaN</td>\n",
              "      <td>NaN</td>\n",
              "      <td>NaN</td>\n",
              "      <td>NaN</td>\n",
              "      <td>NaN</td>\n",
              "      <td>NaN</td>\n",
              "      <td>NaN</td>\n",
              "      <td>NaN</td>\n",
              "      <td>NaN</td>\n",
              "      <td>NaN</td>\n",
              "      <td>NaN</td>\n",
              "      <td>NaN</td>\n",
              "      <td>NaN</td>\n",
              "      <td>NaN</td>\n",
              "      <td>NaN</td>\n",
              "    </tr>\n",
              "    <tr>\n",
              "      <th>W</th>\n",
              "      <td>NaN</td>\n",
              "      <td>1.0</td>\n",
              "      <td>NaN</td>\n",
              "      <td>NaN</td>\n",
              "      <td>NaN</td>\n",
              "      <td>NaN</td>\n",
              "      <td>NaN</td>\n",
              "      <td>NaN</td>\n",
              "      <td>NaN</td>\n",
              "      <td>NaN</td>\n",
              "      <td>NaN</td>\n",
              "      <td>NaN</td>\n",
              "      <td>NaN</td>\n",
              "      <td>NaN</td>\n",
              "      <td>NaN</td>\n",
              "      <td>NaN</td>\n",
              "      <td>NaN</td>\n",
              "      <td>NaN</td>\n",
              "      <td>NaN</td>\n",
              "      <td>NaN</td>\n",
              "      <td>NaN</td>\n",
              "    </tr>\n",
              "    <tr>\n",
              "      <th>PTS</th>\n",
              "      <td>NaN</td>\n",
              "      <td>NaN</td>\n",
              "      <td>1.0</td>\n",
              "      <td>NaN</td>\n",
              "      <td>NaN</td>\n",
              "      <td>NaN</td>\n",
              "      <td>NaN</td>\n",
              "      <td>NaN</td>\n",
              "      <td>NaN</td>\n",
              "      <td>NaN</td>\n",
              "      <td>NaN</td>\n",
              "      <td>NaN</td>\n",
              "      <td>NaN</td>\n",
              "      <td>NaN</td>\n",
              "      <td>NaN</td>\n",
              "      <td>NaN</td>\n",
              "      <td>NaN</td>\n",
              "      <td>NaN</td>\n",
              "      <td>NaN</td>\n",
              "      <td>NaN</td>\n",
              "      <td>NaN</td>\n",
              "    </tr>\n",
              "    <tr>\n",
              "      <th>oppPTS</th>\n",
              "      <td>NaN</td>\n",
              "      <td>NaN</td>\n",
              "      <td>NaN</td>\n",
              "      <td>1.0</td>\n",
              "      <td>NaN</td>\n",
              "      <td>NaN</td>\n",
              "      <td>NaN</td>\n",
              "      <td>NaN</td>\n",
              "      <td>NaN</td>\n",
              "      <td>NaN</td>\n",
              "      <td>NaN</td>\n",
              "      <td>NaN</td>\n",
              "      <td>NaN</td>\n",
              "      <td>NaN</td>\n",
              "      <td>NaN</td>\n",
              "      <td>NaN</td>\n",
              "      <td>NaN</td>\n",
              "      <td>NaN</td>\n",
              "      <td>NaN</td>\n",
              "      <td>NaN</td>\n",
              "      <td>NaN</td>\n",
              "    </tr>\n",
              "    <tr>\n",
              "      <th>FG</th>\n",
              "      <td>NaN</td>\n",
              "      <td>NaN</td>\n",
              "      <td>NaN</td>\n",
              "      <td>NaN</td>\n",
              "      <td>1.0</td>\n",
              "      <td>NaN</td>\n",
              "      <td>NaN</td>\n",
              "      <td>NaN</td>\n",
              "      <td>NaN</td>\n",
              "      <td>NaN</td>\n",
              "      <td>NaN</td>\n",
              "      <td>NaN</td>\n",
              "      <td>NaN</td>\n",
              "      <td>NaN</td>\n",
              "      <td>NaN</td>\n",
              "      <td>NaN</td>\n",
              "      <td>NaN</td>\n",
              "      <td>NaN</td>\n",
              "      <td>NaN</td>\n",
              "      <td>NaN</td>\n",
              "      <td>NaN</td>\n",
              "    </tr>\n",
              "    <tr>\n",
              "      <th>FGA</th>\n",
              "      <td>NaN</td>\n",
              "      <td>NaN</td>\n",
              "      <td>NaN</td>\n",
              "      <td>NaN</td>\n",
              "      <td>NaN</td>\n",
              "      <td>1.0</td>\n",
              "      <td>NaN</td>\n",
              "      <td>NaN</td>\n",
              "      <td>NaN</td>\n",
              "      <td>NaN</td>\n",
              "      <td>NaN</td>\n",
              "      <td>NaN</td>\n",
              "      <td>NaN</td>\n",
              "      <td>NaN</td>\n",
              "      <td>NaN</td>\n",
              "      <td>NaN</td>\n",
              "      <td>NaN</td>\n",
              "      <td>NaN</td>\n",
              "      <td>NaN</td>\n",
              "      <td>NaN</td>\n",
              "      <td>NaN</td>\n",
              "    </tr>\n",
              "    <tr>\n",
              "      <th>2P</th>\n",
              "      <td>NaN</td>\n",
              "      <td>NaN</td>\n",
              "      <td>NaN</td>\n",
              "      <td>NaN</td>\n",
              "      <td>NaN</td>\n",
              "      <td>NaN</td>\n",
              "      <td>1.0</td>\n",
              "      <td>NaN</td>\n",
              "      <td>NaN</td>\n",
              "      <td>NaN</td>\n",
              "      <td>NaN</td>\n",
              "      <td>NaN</td>\n",
              "      <td>NaN</td>\n",
              "      <td>NaN</td>\n",
              "      <td>NaN</td>\n",
              "      <td>NaN</td>\n",
              "      <td>NaN</td>\n",
              "      <td>NaN</td>\n",
              "      <td>NaN</td>\n",
              "      <td>NaN</td>\n",
              "      <td>NaN</td>\n",
              "    </tr>\n",
              "    <tr>\n",
              "      <th>2PA</th>\n",
              "      <td>NaN</td>\n",
              "      <td>NaN</td>\n",
              "      <td>NaN</td>\n",
              "      <td>NaN</td>\n",
              "      <td>NaN</td>\n",
              "      <td>NaN</td>\n",
              "      <td>NaN</td>\n",
              "      <td>1.0</td>\n",
              "      <td>NaN</td>\n",
              "      <td>NaN</td>\n",
              "      <td>NaN</td>\n",
              "      <td>NaN</td>\n",
              "      <td>NaN</td>\n",
              "      <td>NaN</td>\n",
              "      <td>NaN</td>\n",
              "      <td>NaN</td>\n",
              "      <td>NaN</td>\n",
              "      <td>NaN</td>\n",
              "      <td>NaN</td>\n",
              "      <td>NaN</td>\n",
              "      <td>NaN</td>\n",
              "    </tr>\n",
              "    <tr>\n",
              "      <th>3P</th>\n",
              "      <td>NaN</td>\n",
              "      <td>NaN</td>\n",
              "      <td>NaN</td>\n",
              "      <td>NaN</td>\n",
              "      <td>NaN</td>\n",
              "      <td>NaN</td>\n",
              "      <td>NaN</td>\n",
              "      <td>NaN</td>\n",
              "      <td>1.000000</td>\n",
              "      <td>0.994511</td>\n",
              "      <td>NaN</td>\n",
              "      <td>NaN</td>\n",
              "      <td>NaN</td>\n",
              "      <td>NaN</td>\n",
              "      <td>NaN</td>\n",
              "      <td>NaN</td>\n",
              "      <td>NaN</td>\n",
              "      <td>NaN</td>\n",
              "      <td>NaN</td>\n",
              "      <td>NaN</td>\n",
              "      <td>NaN</td>\n",
              "    </tr>\n",
              "    <tr>\n",
              "      <th>3PA</th>\n",
              "      <td>NaN</td>\n",
              "      <td>NaN</td>\n",
              "      <td>NaN</td>\n",
              "      <td>NaN</td>\n",
              "      <td>NaN</td>\n",
              "      <td>NaN</td>\n",
              "      <td>NaN</td>\n",
              "      <td>NaN</td>\n",
              "      <td>0.994511</td>\n",
              "      <td>1.000000</td>\n",
              "      <td>NaN</td>\n",
              "      <td>NaN</td>\n",
              "      <td>NaN</td>\n",
              "      <td>NaN</td>\n",
              "      <td>NaN</td>\n",
              "      <td>NaN</td>\n",
              "      <td>NaN</td>\n",
              "      <td>NaN</td>\n",
              "      <td>NaN</td>\n",
              "      <td>NaN</td>\n",
              "      <td>NaN</td>\n",
              "    </tr>\n",
              "    <tr>\n",
              "      <th>FT</th>\n",
              "      <td>NaN</td>\n",
              "      <td>NaN</td>\n",
              "      <td>NaN</td>\n",
              "      <td>NaN</td>\n",
              "      <td>NaN</td>\n",
              "      <td>NaN</td>\n",
              "      <td>NaN</td>\n",
              "      <td>NaN</td>\n",
              "      <td>NaN</td>\n",
              "      <td>NaN</td>\n",
              "      <td>1.0</td>\n",
              "      <td>NaN</td>\n",
              "      <td>NaN</td>\n",
              "      <td>NaN</td>\n",
              "      <td>NaN</td>\n",
              "      <td>NaN</td>\n",
              "      <td>NaN</td>\n",
              "      <td>NaN</td>\n",
              "      <td>NaN</td>\n",
              "      <td>NaN</td>\n",
              "      <td>NaN</td>\n",
              "    </tr>\n",
              "    <tr>\n",
              "      <th>FTA</th>\n",
              "      <td>NaN</td>\n",
              "      <td>NaN</td>\n",
              "      <td>NaN</td>\n",
              "      <td>NaN</td>\n",
              "      <td>NaN</td>\n",
              "      <td>NaN</td>\n",
              "      <td>NaN</td>\n",
              "      <td>NaN</td>\n",
              "      <td>NaN</td>\n",
              "      <td>NaN</td>\n",
              "      <td>NaN</td>\n",
              "      <td>1.0</td>\n",
              "      <td>NaN</td>\n",
              "      <td>NaN</td>\n",
              "      <td>NaN</td>\n",
              "      <td>NaN</td>\n",
              "      <td>NaN</td>\n",
              "      <td>NaN</td>\n",
              "      <td>NaN</td>\n",
              "      <td>NaN</td>\n",
              "      <td>NaN</td>\n",
              "    </tr>\n",
              "    <tr>\n",
              "      <th>ORB</th>\n",
              "      <td>NaN</td>\n",
              "      <td>NaN</td>\n",
              "      <td>NaN</td>\n",
              "      <td>NaN</td>\n",
              "      <td>NaN</td>\n",
              "      <td>NaN</td>\n",
              "      <td>NaN</td>\n",
              "      <td>NaN</td>\n",
              "      <td>NaN</td>\n",
              "      <td>NaN</td>\n",
              "      <td>NaN</td>\n",
              "      <td>NaN</td>\n",
              "      <td>1.0</td>\n",
              "      <td>NaN</td>\n",
              "      <td>NaN</td>\n",
              "      <td>NaN</td>\n",
              "      <td>NaN</td>\n",
              "      <td>NaN</td>\n",
              "      <td>NaN</td>\n",
              "      <td>NaN</td>\n",
              "      <td>NaN</td>\n",
              "    </tr>\n",
              "    <tr>\n",
              "      <th>DRB</th>\n",
              "      <td>NaN</td>\n",
              "      <td>NaN</td>\n",
              "      <td>NaN</td>\n",
              "      <td>NaN</td>\n",
              "      <td>NaN</td>\n",
              "      <td>NaN</td>\n",
              "      <td>NaN</td>\n",
              "      <td>NaN</td>\n",
              "      <td>NaN</td>\n",
              "      <td>NaN</td>\n",
              "      <td>NaN</td>\n",
              "      <td>NaN</td>\n",
              "      <td>NaN</td>\n",
              "      <td>1.0</td>\n",
              "      <td>NaN</td>\n",
              "      <td>NaN</td>\n",
              "      <td>NaN</td>\n",
              "      <td>NaN</td>\n",
              "      <td>NaN</td>\n",
              "      <td>NaN</td>\n",
              "      <td>NaN</td>\n",
              "    </tr>\n",
              "    <tr>\n",
              "      <th>AST</th>\n",
              "      <td>NaN</td>\n",
              "      <td>NaN</td>\n",
              "      <td>NaN</td>\n",
              "      <td>NaN</td>\n",
              "      <td>NaN</td>\n",
              "      <td>NaN</td>\n",
              "      <td>NaN</td>\n",
              "      <td>NaN</td>\n",
              "      <td>NaN</td>\n",
              "      <td>NaN</td>\n",
              "      <td>NaN</td>\n",
              "      <td>NaN</td>\n",
              "      <td>NaN</td>\n",
              "      <td>NaN</td>\n",
              "      <td>1.0</td>\n",
              "      <td>NaN</td>\n",
              "      <td>NaN</td>\n",
              "      <td>NaN</td>\n",
              "      <td>NaN</td>\n",
              "      <td>NaN</td>\n",
              "      <td>NaN</td>\n",
              "    </tr>\n",
              "    <tr>\n",
              "      <th>STL</th>\n",
              "      <td>NaN</td>\n",
              "      <td>NaN</td>\n",
              "      <td>NaN</td>\n",
              "      <td>NaN</td>\n",
              "      <td>NaN</td>\n",
              "      <td>NaN</td>\n",
              "      <td>NaN</td>\n",
              "      <td>NaN</td>\n",
              "      <td>NaN</td>\n",
              "      <td>NaN</td>\n",
              "      <td>NaN</td>\n",
              "      <td>NaN</td>\n",
              "      <td>NaN</td>\n",
              "      <td>NaN</td>\n",
              "      <td>NaN</td>\n",
              "      <td>1.0</td>\n",
              "      <td>NaN</td>\n",
              "      <td>NaN</td>\n",
              "      <td>NaN</td>\n",
              "      <td>NaN</td>\n",
              "      <td>NaN</td>\n",
              "    </tr>\n",
              "    <tr>\n",
              "      <th>BLK</th>\n",
              "      <td>NaN</td>\n",
              "      <td>NaN</td>\n",
              "      <td>NaN</td>\n",
              "      <td>NaN</td>\n",
              "      <td>NaN</td>\n",
              "      <td>NaN</td>\n",
              "      <td>NaN</td>\n",
              "      <td>NaN</td>\n",
              "      <td>NaN</td>\n",
              "      <td>NaN</td>\n",
              "      <td>NaN</td>\n",
              "      <td>NaN</td>\n",
              "      <td>NaN</td>\n",
              "      <td>NaN</td>\n",
              "      <td>NaN</td>\n",
              "      <td>NaN</td>\n",
              "      <td>1.0</td>\n",
              "      <td>NaN</td>\n",
              "      <td>NaN</td>\n",
              "      <td>NaN</td>\n",
              "      <td>NaN</td>\n",
              "    </tr>\n",
              "    <tr>\n",
              "      <th>TOV</th>\n",
              "      <td>NaN</td>\n",
              "      <td>NaN</td>\n",
              "      <td>NaN</td>\n",
              "      <td>NaN</td>\n",
              "      <td>NaN</td>\n",
              "      <td>NaN</td>\n",
              "      <td>NaN</td>\n",
              "      <td>NaN</td>\n",
              "      <td>NaN</td>\n",
              "      <td>NaN</td>\n",
              "      <td>NaN</td>\n",
              "      <td>NaN</td>\n",
              "      <td>NaN</td>\n",
              "      <td>NaN</td>\n",
              "      <td>NaN</td>\n",
              "      <td>NaN</td>\n",
              "      <td>NaN</td>\n",
              "      <td>1.0</td>\n",
              "      <td>NaN</td>\n",
              "      <td>NaN</td>\n",
              "      <td>NaN</td>\n",
              "    </tr>\n",
              "    <tr>\n",
              "      <th>Conference</th>\n",
              "      <td>NaN</td>\n",
              "      <td>NaN</td>\n",
              "      <td>NaN</td>\n",
              "      <td>NaN</td>\n",
              "      <td>NaN</td>\n",
              "      <td>NaN</td>\n",
              "      <td>NaN</td>\n",
              "      <td>NaN</td>\n",
              "      <td>NaN</td>\n",
              "      <td>NaN</td>\n",
              "      <td>NaN</td>\n",
              "      <td>NaN</td>\n",
              "      <td>NaN</td>\n",
              "      <td>NaN</td>\n",
              "      <td>NaN</td>\n",
              "      <td>NaN</td>\n",
              "      <td>NaN</td>\n",
              "      <td>NaN</td>\n",
              "      <td>1.0</td>\n",
              "      <td>NaN</td>\n",
              "      <td>NaN</td>\n",
              "    </tr>\n",
              "    <tr>\n",
              "      <th>Playoffs</th>\n",
              "      <td>NaN</td>\n",
              "      <td>NaN</td>\n",
              "      <td>NaN</td>\n",
              "      <td>NaN</td>\n",
              "      <td>NaN</td>\n",
              "      <td>NaN</td>\n",
              "      <td>NaN</td>\n",
              "      <td>NaN</td>\n",
              "      <td>NaN</td>\n",
              "      <td>NaN</td>\n",
              "      <td>NaN</td>\n",
              "      <td>NaN</td>\n",
              "      <td>NaN</td>\n",
              "      <td>NaN</td>\n",
              "      <td>NaN</td>\n",
              "      <td>NaN</td>\n",
              "      <td>NaN</td>\n",
              "      <td>NaN</td>\n",
              "      <td>NaN</td>\n",
              "      <td>1.0</td>\n",
              "      <td>NaN</td>\n",
              "    </tr>\n",
              "    <tr>\n",
              "      <th>dffPTS</th>\n",
              "      <td>NaN</td>\n",
              "      <td>NaN</td>\n",
              "      <td>NaN</td>\n",
              "      <td>NaN</td>\n",
              "      <td>NaN</td>\n",
              "      <td>NaN</td>\n",
              "      <td>NaN</td>\n",
              "      <td>NaN</td>\n",
              "      <td>NaN</td>\n",
              "      <td>NaN</td>\n",
              "      <td>NaN</td>\n",
              "      <td>NaN</td>\n",
              "      <td>NaN</td>\n",
              "      <td>NaN</td>\n",
              "      <td>NaN</td>\n",
              "      <td>NaN</td>\n",
              "      <td>NaN</td>\n",
              "      <td>NaN</td>\n",
              "      <td>NaN</td>\n",
              "      <td>NaN</td>\n",
              "      <td>1.0</td>\n",
              "    </tr>\n",
              "  </tbody>\n",
              "</table>\n",
              "</div>"
            ],
            "text/plain": [
              "            SeasonEnd    W  PTS  oppPTS  ...  TOV  Conference  Playoffs  dffPTS\n",
              "SeasonEnd         1.0  NaN  NaN     NaN  ...  NaN         NaN       NaN     NaN\n",
              "W                 NaN  1.0  NaN     NaN  ...  NaN         NaN       NaN     NaN\n",
              "PTS               NaN  NaN  1.0     NaN  ...  NaN         NaN       NaN     NaN\n",
              "oppPTS            NaN  NaN  NaN     1.0  ...  NaN         NaN       NaN     NaN\n",
              "FG                NaN  NaN  NaN     NaN  ...  NaN         NaN       NaN     NaN\n",
              "FGA               NaN  NaN  NaN     NaN  ...  NaN         NaN       NaN     NaN\n",
              "2P                NaN  NaN  NaN     NaN  ...  NaN         NaN       NaN     NaN\n",
              "2PA               NaN  NaN  NaN     NaN  ...  NaN         NaN       NaN     NaN\n",
              "3P                NaN  NaN  NaN     NaN  ...  NaN         NaN       NaN     NaN\n",
              "3PA               NaN  NaN  NaN     NaN  ...  NaN         NaN       NaN     NaN\n",
              "FT                NaN  NaN  NaN     NaN  ...  NaN         NaN       NaN     NaN\n",
              "FTA               NaN  NaN  NaN     NaN  ...  NaN         NaN       NaN     NaN\n",
              "ORB               NaN  NaN  NaN     NaN  ...  NaN         NaN       NaN     NaN\n",
              "DRB               NaN  NaN  NaN     NaN  ...  NaN         NaN       NaN     NaN\n",
              "AST               NaN  NaN  NaN     NaN  ...  NaN         NaN       NaN     NaN\n",
              "STL               NaN  NaN  NaN     NaN  ...  NaN         NaN       NaN     NaN\n",
              "BLK               NaN  NaN  NaN     NaN  ...  NaN         NaN       NaN     NaN\n",
              "TOV               NaN  NaN  NaN     NaN  ...  1.0         NaN       NaN     NaN\n",
              "Conference        NaN  NaN  NaN     NaN  ...  NaN         1.0       NaN     NaN\n",
              "Playoffs          NaN  NaN  NaN     NaN  ...  NaN         NaN       1.0     NaN\n",
              "dffPTS            NaN  NaN  NaN     NaN  ...  NaN         NaN       NaN     1.0\n",
              "\n",
              "[21 rows x 21 columns]"
            ]
          },
          "metadata": {
            "tags": []
          },
          "execution_count": 97
        },
        {
          "output_type": "display_data",
          "data": {
            "image/png": "[encoded data removed]",
            "text/plain": [
              "<Figure size 432x288 with 2 Axes>"
            ]
          },
          "metadata": {
            "tags": [],
            "needs_background": "light"
          }
        }
      ]
    },
    {
      "cell_type": "markdown",
      "metadata": {
        "id": "sOZUiIS1vEyd",
        "colab_type": "text"
      },
      "source": [
        "___\n",
        "**Question 1 answer:** a quick spot-check shows that 3P and 3PA have a correlation of 0.99\n",
        "___\n",
        "\n",
        "## Correlated features\n",
        "Below we define a function and describe it with a [_doc string_](https://www.datacamp.com/community/tutorials/docstrings-python?utm_source=adwords_ppc&utm_campaignid=898687156&utm_adgroupid=48947256715&utm_device=c&utm_keyword=&utm_matchtype=b&utm_network=g&utm_adpostion=&utm_creative=332602034352&utm_targetid=aud-392016246653:dsa-429603003980&utm_loc_interest_ms=&utm_loc_physical_ms=9061009&gclid=Cj0KCQjwy8f6BRC7ARIsAPIXOjhfMN9Oj6QCqNfMMDgZYqFFwp7yv6P9V_agl4PtR3O6o95GidfErGYaAsSCEALw_wcB) (i.e., the string at the begining of the function). A doc string should be present at the begining of most functions contained in reputable python packages.  We'll use this function to go through every feature and count the number of times this feature is correlated or anti-correlated with another feature by more than `threshold`. We set the default value of `threshold` to 0.7.\n"
      ]
    },
    {
      "cell_type": "code",
      "metadata": {
        "id": "s5asXhxwqWl2",
        "colab_type": "code",
        "pycharm": {
          "is_executing": false
        },
        "colab": {
          "base_uri": "https://localhost:8080/",
          "height": 391
        },
        "outputId": "e5f4bd31-9886-4c98-dae3-461c8d0d223d"
      },
      "source": [
        "# Define a function\n",
        "def print_heavily_correlated_features(df, threshold=0.7):\n",
        "  \"\"\"\n",
        "  For each feature in \"df\", this function counts the number of features that \n",
        "  have a correlation coefficient with that is higher than \"threshold\".\n",
        "\n",
        "  Parameters\n",
        "  ----------\n",
        "    df: pandas DataFrame type \n",
        "        Contains the features for several data points\n",
        "    threshold: float type \n",
        "        he threshold for which \"heavily correlated\" is defined.\n",
        "  \"\"\"\n",
        "\n",
        "  corr = df.corr().abs()  # calculate the correlation matrix\n",
        "  corr = corr[corr > threshold]  # a mask of features that are heavily correlated\n",
        "\n",
        "  # Print out the \"heavily correlated\" counts\n",
        "  print(corr.count().sort_values(ascending=False) - 1)  \n",
        "\n",
        "# Execute the function\n",
        "print_heavily_correlated_features(df_train)  "
      ],
      "execution_count": null,
      "outputs": [
        {
          "output_type": "stream",
          "text": [
            "2P            9\n",
            "2PA           9\n",
            "SeasonEnd     7\n",
            "FG            7\n",
            "PTS           6\n",
            "FGA           6\n",
            "oppPTS        5\n",
            "3P            4\n",
            "3PA           4\n",
            "AST           3\n",
            "ORB           3\n",
            "W             2\n",
            "dffPTS        2\n",
            "Playoffs      2\n",
            "FTA           1\n",
            "TOV           1\n",
            "FT            1\n",
            "DRB           0\n",
            "STL           0\n",
            "BLK           0\n",
            "Conference    0\n",
            "dtype: int64\n"
          ],
          "name": "stdout"
        }
      ]
    },
    {
      "cell_type": "markdown",
      "metadata": {
        "id": "Ewnyfp_NzV1e",
        "colab_type": "text"
      },
      "source": [
        "### Exercise\n",
        "1. Why did we run the above function on df_train rather than df?\n",
        "\n",
        "2. In the codeblock below, we created a new DataFrame called `df_reduced`. Use it to fit a better regression model by following these steps: \n",
        "i)  From `df_reduced` remove the 5 features most heavily susceptible to multi-collinearity (i.e., 2P, 2PA, FG, PTS, FGPA).  \n",
        "ii) Then, fit a new linear regression model `linreg_reduced` to this data set using the same train-test split.  \n",
        "iii) Report the score and the beta coefficients.\n",
        "___\n",
        "**Question 1 answer:**\n",
        "We should be doing all analysis with respect to model fitting on our training set. The test set is used only to evaluate model quality.\n",
        "___\n"
      ]
    },
    {
      "cell_type": "code",
      "metadata": {
        "id": "rNmcVNYHqYZZ",
        "colab_type": "code",
        "colab": {
          "base_uri": "https://localhost:8080/",
          "height": 289
        },
        "outputId": "d8038bbf-8739-4f91-8cbf-efa99c12441f"
      },
      "source": [
        "# We have made a copy of the data frame\n",
        "df_reduced = df.copy()\n",
        "\n",
        "# REMEMBER: remove drop the features listed in drop_for_X from X_train and X_test\n",
        "\n",
        "# Write your code here.\n",
        "\n",
        "# -------------------\n",
        "\n",
        "# Step i starts here\n",
        "# Remove the correlated columns\n",
        "columns_to_remove = [ '2P', '2PA', 'FG', 'PTS', 'FGA']\n",
        "df_reduced = df_reduced.drop(columns=columns_to_remove)\n",
        "\n",
        "# Step ii starts here\n",
        "# Split the data into training and testing sets\n",
        "df_train = df_reduced[df_reduced.SeasonEnd<2012]\n",
        "df_test = df_reduced[df_reduced.SeasonEnd>=2012]\n",
        "\n",
        "# Partition the training data into features and target\n",
        "X_train = df_train.drop(columns=drop_for_X)\n",
        "y_train = df_train.W\n",
        "\n",
        "# Fit the model\n",
        "linreg_reduced = LinearRegression()\n",
        "linreg_reduced.fit(X_train, y_train)\n",
        "\n",
        "# Partition the testing data into features and target\n",
        "X_test = df_test.drop(columns=drop_for_X)\n",
        "y_test = df_test.W\n",
        "\n",
        "# Step iii starts here\n",
        "# calculate the score\n",
        "train_score = linreg_reduced.score(X_train, y_train)\n",
        "test_score = linreg_reduced.score(X_test, y_test)\n",
        "print(f'The train score is {train_score:.3f} and the test score is {test_score:.3f}')\n",
        "\n",
        "# calculate betas\n",
        "betas = pd.Series(linreg_reduced.coef_, index=X_train.columns)\n",
        "betas = betas.append(pd.Series({\"Intercept\": linreg_reduced.intercept_}))\n",
        "print(betas)\n",
        "\n",
        "# -------------------\n"
      ],
      "execution_count": null,
      "outputs": [
        {
          "output_type": "stream",
          "text": [
            "The train score is 0.944 and the test score is 0.932\n",
            "oppPTS        -0.000136\n",
            "3P            -0.007007\n",
            "3PA            0.002766\n",
            "FT             0.000195\n",
            "FTA           -0.000227\n",
            "ORB           -0.000462\n",
            "DRB            0.001097\n",
            "AST            0.001251\n",
            "STL           -0.000716\n",
            "BLK            0.003887\n",
            "TOV           -0.000670\n",
            "Conference     0.203804\n",
            "dffPTS         0.032004\n",
            "Intercept     37.067376\n",
            "dtype: float64\n"
          ],
          "name": "stdout"
        }
      ]
    },
    {
      "cell_type": "markdown",
      "metadata": {
        "id": "sZ2fOwIq16Fd",
        "colab_type": "text"
      },
      "source": [
        "You should notice that your model now gives a much higher score on the test set! Furthermore, the test score is more or less the same as the train score.\n",
        "\n",
        "## Overfitting\n",
        "\n",
        "In the first model that used all of the features (i.e., `linreg`), the train score was much higher than the test score. This means that the model was _overfitting_ to the training set. Overfitting occurs when the model identifies relationships that are unique to the training set and do not generalize to unseen (testing) data. Note that in the model with fewer features (i.e., the reduced model) actually performed much better on the out-of-sample data because it did not overfit. \n",
        "\n",
        "Multi-collinearity can cause overfitting, but there are other causes that we won't cover in this lab including:\n",
        "\n",
        "1. Small dataset\n",
        "2. Complex model \n",
        "3. Hidden biases in the data (e.g., multi-collinearity)\n",
        "\n",
        "Another important observation is that the $\\beta$ values make a lot more sense now in terms of how they would affect the number of wins of a given team.\n",
        "\n"
      ]
    },
    {
      "cell_type": "markdown",
      "metadata": {
        "id": "nvYb2dEc0h1D",
        "colab_type": "text"
      },
      "source": [
        "### Exercise\n",
        "1. How many more three point shots does a team need to score in a given season in order to win 1 additional game?\n",
        "\n",
        "2. According to your model, does having more offensive rebounds help or hurt a team's chances of winning games? Does this make sense? Why or why not?\n",
        "\n",
        "___\n",
        "**Question 1 answer**\n",
        "\n",
        "$$\n",
        "\\begin{align}\n",
        "1 &= \\beta_{3P}x + \\beta_{3PA}x + \\beta_{dffPTS} (3x)\\\\\n",
        "x &= 10.90\n",
        "\\end{align}\n",
        "$$\n",
        "___\n",
        "**Question 2 answer**:\n",
        "\n",
        "Offensive rebounds seem to hurt the chances of winning. This suggests that the model is still somewhat failing to characterize the effect of the features.\n",
        "___"
      ]
    },
    {
      "cell_type": "markdown",
      "metadata": {
        "id": "WxSmh7uk7vzh",
        "colab_type": "text"
      },
      "source": [
        "# Regularization\n",
        "\n",
        "Previously, we saw that the model was overfitting because it had too many features. To reduce overfitting, we used our domain knowledge to remove features from the model using a process called _manual feature selection_. If we have a poor understanding of the problem domain and/or we suspect our model is overfitting then doing manual feature selection is difficult. \n",
        "\n",
        "A more automated way to reduce overfitting that requires no domain knowledge is _regularization_. This technique is especially useful in applications with a _relatively large_ number of features ($K$) compared to the number of samples ($N$) in the training dataset. A __very rough__ rule of thumb is that you should have no more than $\\sqrt N$ features in your model (i.e., $K\\le\\sqrt N$). Regularization is a very general operation that can be applied to most models. In this section, we'll explain regularization in the context of linear regression.\n",
        "\n",
        "In regularized linear regression, we add the term $\\frac{1}{C}\\sum_{k=1}^K |\\beta_k|^p$ to the objective of Equation (1), where $p$ is a number that denotes the type of regularization (e.g., L1, L2) and $\\frac{1}{C}$ is a parameter learned by the model (or occasionally selected by the user). The parameter $\\frac{1}{C}$ controls the _strength of regularization_. Intuitively, you can think of regularization as a process that penalizes non-zero regression coefficients (i.e., $\\beta > 0$), but keep in mind that different types of regularization produce different results. There are two common types of regularization:\n",
        "\n",
        " 1. __L1-regularization ($p=1$):__ Also called _LASSO_ regression, is frequently used for feature selection because it implicitly produces a sparse solution, i.e., only a small portion of the regression coefficients will be non-zero. Using L1-regularization, we can rewrite (1) as             \n",
        "    \\begin{aligned} \n",
        "        \\min_{\\beta_0,\\beta_1,\\dots,\\beta_K} \\quad  & \\frac{1}{n}\\sum_{i=1}^n \\left( \\beta_0 + \\beta_1x_{i1} + \\beta_2x_{i2} + \\dots + \\beta_Kx_{iK} - y_i \\right)^2 + \\frac{1}{C} \\sum_{k=1}^K |\\beta_k|.\n",
        "    \\end{aligned}\n",
        "               \n",
        " 2.  __L2-regularization ($p=2$):__ Also called _ridge_ regression, is frequently used to produce a model that tries to use all of the available features. Using L2-regularization, we can rewrite (1) as\n",
        "        \\begin{aligned}\n",
        "            \\min_{\\beta_0,\\beta_1,\\dots,\\beta_K} \\quad  & \\frac{1}{n}\\sum_{i=1}^n \\left( \\beta_0 + \\beta_1x_{i1} + \\beta_2x_{i2} + \\dots + \\beta_Kx_{iK} - y_i \\right)^2 + \\frac{1}{C} \\sum_{k=1}^K |\\beta_k|^2.\n",
        "        \\end{aligned}\n",
        "        \n",
        "\n",
        "Both methods reduce the sum of coefficients and prevent overfitting, however, in general each methods has different use cases. Also, note that L2-regularization is more computationally efficient than L1-regularization.\n"
      ]
    },
    {
      "cell_type": "markdown",
      "metadata": {
        "id": "2QckZK337QNN",
        "colab_type": "text"
      },
      "source": [
        "\n",
        "## Cross-validation\n",
        "_Cross-validation_ is a process for selecting model hyper-parameters (e.g., $C$) that generalize to out-of-sample data. Cross-validation is performed in $m$ rounds. In each round the training set is split into two subsets (1) a subset that the model is trained on, and (2) a subset that the model is evaluated on. After the rounds are complete, an aggregate measure of performance (e.g., average score) is used to measure model performance. \n",
        "\n",
        "We can use cross validation to search for the best parameter out of a list. For example, we could look for the best parameter $C$ for a regression model out of the list [0.1, 1, 10, 100]. Cross-validation would perform $m$ rounds ($m=4$ in this example) for each element in that list, and give us the best performing model (i.e., the best available $C$). \n",
        "\n",
        "Let's try building a new linear regression model with regularization. We'll pretend that we know nothing about basketball. In this case we use the [`LassoCV` model from scikit-learn](https://scikit-learn.org/stable/modules/generated/sklearn.linear_model.LassoCV.html#sklearn.linear_model.LassoCV) to build an L1-regularized linear regression model. The `LassoCV` model automatically applies cross-validation to find the best value for $C$."
      ]
    },
    {
      "cell_type": "code",
      "metadata": {
        "id": "IA1hpWmf1i_J",
        "colab_type": "code",
        "colab": {
          "base_uri": "https://localhost:8080/",
          "height": 391
        },
        "outputId": "df9cb634-fc1d-4941-a81e-a1433604c627"
      },
      "source": [
        "# Let's go back to the original data set without the removed features\n",
        "# Split the data into training and testing sets\n",
        "df_train = df[df_reduced.SeasonEnd<2012]\n",
        "df_test = df[df.SeasonEnd>=2012]\n",
        "\n",
        "# Partition the training data into features and target\n",
        "X_train = df_train.drop(columns=['W','Team','SeasonEnd'])\n",
        "y_train = df_train.W\n",
        "\n",
        "# Fit the model\n",
        "lasso = LassoCV()\n",
        "lasso.fit(X_train, y_train)\n",
        "\n",
        "# Partition the testing data into features and target\n",
        "X_test = df_test.drop(columns=['W','Team','SeasonEnd'])\n",
        "y_test = df_test.W\n",
        "\n",
        "# calculate the score\n",
        "train_score = lasso.score(X_train, y_train)\n",
        "test_score = lasso.score(X_test, y_test)\n",
        "print(f'The train score is {train_score:.3} and the test score is {test_score:.3}')\n",
        "\n",
        "# calculate betas\n",
        "betas = pd.Series(lasso.coef_, index=X_train.columns)\n",
        "betas = betas.append(pd.Series({\"Intercept\": lasso.intercept_}))\n",
        "print(betas)"
      ],
      "execution_count": null,
      "outputs": [
        {
          "output_type": "stream",
          "text": [
            "The train score is 0.942 and the test score is 0.949\n",
            "PTS            0.000000\n",
            "oppPTS        -0.000000\n",
            "FG             0.000000\n",
            "FGA           -0.000000\n",
            "2P            -0.000000\n",
            "2PA           -0.000000\n",
            "3P             0.000000\n",
            "3PA            0.000000\n",
            "FT            -0.000000\n",
            "FTA           -0.000000\n",
            "ORB           -0.000000\n",
            "DRB            0.000000\n",
            "AST            0.000000\n",
            "STL           -0.000000\n",
            "BLK            0.000000\n",
            "TOV           -0.000000\n",
            "Conference     0.000000\n",
            "Playoffs       0.000000\n",
            "dffPTS         0.032282\n",
            "Intercept     41.000000\n",
            "dtype: float64\n"
          ],
          "name": "stdout"
        }
      ]
    },
    {
      "cell_type": "markdown",
      "metadata": {
        "id": "RNs2xQTp4Qwi",
        "colab_type": "text"
      },
      "source": [
        "You should observe that the LASSO model performs better than our manually reduced model! Remember that the model automatically performed cross-validation to get the best regularization strength. Also notice that the beta values are approximately zero for nearly every feature except for dffPTS. \n",
        "\n",
        "### Exercise\n",
        "1. Use the attribute `alpha_` to find the regularization strength (i.e., $\\frac{1}{C}$) for the model `lasso`. Keep in mind that the attribute `alpha_` returns $\\alpha = \\frac{1}{C}$.\n",
        "\n",
        "2. Would you prefer this model (`lasso`) or the one with manual feature selection (`linreg_reduced`) to better understand what it takes to win?\n",
        "\n",
        "3. Try building a LASSO model with the reduced data set (`df_reduced`). Do you expect it to differ from the above LASSO model? How does it perform?\n",
        "\n",
        "4. In the space below, fit a ridge regression model on the original dataset (`df`) using [`RidgeCV` from scikit-learn](https://scikit-learn.org/stable/modules/generated/sklearn.linear_model.RidgeCV.html#sklearn.linear_model.RidgeCV), and call that model `ridge`. Compare the test score and the betas with the `lasso` model. How do the models differ with respect to score and betas? Which model would you use to understand the effects of features on winning?\n"
      ]
    },
    {
      "cell_type": "code",
      "metadata": {
        "id": "OclDpbSW4yhO",
        "colab_type": "code",
        "colab": {
          "base_uri": "https://localhost:8080/",
          "height": 34
        },
        "outputId": "abee4d62-7df8-494b-ea30-65dea3372d25"
      },
      "source": [
        "# Question 1\n",
        "\n",
        "# Write your code here.\n",
        "\n",
        "# -------------------\n",
        "\n",
        "print(f'The regularization strength is 1/C = {lasso.alpha_:.3f}')\n",
        "\n",
        "# -------------------\n"
      ],
      "execution_count": null,
      "outputs": [
        {
          "output_type": "stream",
          "text": [
            "The regularization strength is 1/C = 43.726\n"
          ],
          "name": "stdout"
        }
      ]
    },
    {
      "cell_type": "markdown",
      "metadata": {
        "id": "I9meQRgBKwz4",
        "colab_type": "text"
      },
      "source": [
        "___\n",
        "**Question 2 answer:**\n",
        "\n",
        "I would use the LASSO model because everything boils down to a single very interpretable feature. This is great because you don't need to worry about how each feature depends on each other (e.g., how scoring a 3 point shot will change other features).\n",
        "___\n",
        "**Question 3 answer:**\n",
        "\n",
        "It builds an identical model. This is expected because the features that we removed from `df` to make `df_reduced` had zero weight in the `lasso` model. \n",
        "___\n",
        "\n"
      ]
    },
    {
      "cell_type": "code",
      "metadata": {
        "id": "97n6tSdwJrSa",
        "colab_type": "code",
        "colab": {
          "base_uri": "https://localhost:8080/",
          "height": 370
        },
        "outputId": "e1e7997d-b4b2-4cc6-d19f-9ef21c1395f4"
      },
      "source": [
        "# Question 4 code\n",
        "\n",
        "# Write your code here.\n",
        "\n",
        "# -------------------\n",
        "\n",
        "# Let's go back to the original data set without the removed features\n",
        "# Split the data into training and testing sets\n",
        "df_train = df[df.SeasonEnd<2012]\n",
        "df_test = df[df.SeasonEnd>=2012]\n",
        "\n",
        "# Partition the training data into features and target\n",
        "X_train = df_train.drop(columns=drop_for_X)\n",
        "y_train = df_train.W\n",
        "\n",
        "# Fit the model\n",
        "ridge = RidgeCV()\n",
        "ridge.fit(X_train, y_train)\n",
        "\n",
        "# Partition the testing data into features and target\n",
        "X_test = df_test.drop(columns=drop_for_X)\n",
        "y_test = df_test.W\n",
        "\n",
        "# calculate the score\n",
        "train_score = ridge.score(X_train, y_train)\n",
        "test_score = ridge.score(X_test, y_test)\n",
        "print(f'The train score is {train_score:.3} and the test score is {test_score:.3}')\n",
        "\n",
        "# calculate betas\n",
        "betas = pd.Series(ridge.coef_, index=X_train.columns)\n",
        "betas = betas.append(pd.Series({\"Intercept\": ridge.intercept_}))\n",
        "print(betas)\n",
        "\n",
        "# -------------------"
      ],
      "execution_count": null,
      "outputs": [
        {
          "output_type": "stream",
          "text": [
            "The train score is 0.944 and the test score is 0.89\n",
            "PTS            0.008856\n",
            "oppPTS        -0.011170\n",
            "FG             0.003202\n",
            "FGA           -0.000576\n",
            "2P             0.003958\n",
            "2PA           -0.001742\n",
            "3P            -0.000756\n",
            "3PA            0.001166\n",
            "FT             0.003209\n",
            "FTA           -0.001101\n",
            "ORB            0.001959\n",
            "DRB            0.002638\n",
            "AST            0.001155\n",
            "STL            0.001179\n",
            "BLK            0.003776\n",
            "TOV           -0.002044\n",
            "Conference     0.180656\n",
            "dffPTS         0.020026\n",
            "Intercept     38.852343\n",
            "dtype: float64\n"
          ],
          "name": "stdout"
        }
      ]
    },
    {
      "cell_type": "markdown",
      "metadata": {
        "id": "67N_ItrIAS5f",
        "colab_type": "text"
      },
      "source": [
        "___\n",
        "**Question 4 answer:**\n",
        "\n",
        "The `ridge` model is actually quite informative even though it performs worse than `lasso` on the test set. Notice that the signs on all of the features make intuitive sense. oppPTS and TOV should be negative as those things are generally bad for a team. FGA, 2PA, FTA are all negative, but FG, 2P, FT are positive, meaning that shooting more isn't necessarily good but scoring more is. Unfortunately, this intuition doesn't extend to the 3P feature, which is still negative.\n",
        "\n",
        "Overall, the `lasso` model is still the most interpretable model. It simply says, \"score more points than your opponent, and you'll win more games\". In contrast, the `ridge` model just us some more information about what specific actions a team could take to win more games.\n",
        "___\n"
      ]
    },
    {
      "cell_type": "markdown",
      "metadata": {
        "id": "TmW4lnDiKsu9",
        "colab_type": "text"
      },
      "source": [
        "# Logistic Regression\n",
        "\n",
        "Logistic regression can be used when the target is a categorical variable that  takes values of 0 and 1. Recall that in linear regression, $y$ is modeled as a linear function of $\\mathbf{x}$; in logistic regression, we model the _logit_ or _log-odds ratio_ as a linear function of $\\mathbf{x}$. That is,\n",
        "\n",
        "$$\n",
        "\\begin{aligned}\n",
        "    \\mathrm{logit}(y) = \\log\\left(\\frac{y}{1-y}\\right) = \\beta_0 + \\beta_1 x_1 + \\dots + \\beta_K x_K\n",
        "\\end{aligned}\n",
        "$$\n",
        "\n",
        "We can rewrite the logit equation to obtain the probability,\n",
        "\n",
        "$$\n",
        "\\begin{aligned}\n",
        "y = \\frac{1}{1 + e^{-(\\beta_0 + \\beta_1 x_1 + \\dots + \\beta_K x_K)}}\n",
        "\\end{aligned}\n",
        "$$\n",
        "\n",
        "In order to turn the logit into a prediction, we apply a threshold rule $T(y)$. For example, a threshold rule of $0.5$ corresponds to\n",
        "$$ T(y) = \n",
        "\\begin{cases}\n",
        "     1,& \\text{ if } y \\geq 0.5, \\\\\n",
        "     0,& \\text{ if } y \\leq 0.5.\n",
        "\\end{cases}$$\n",
        "\n"
      ]
    },
    {
      "cell_type": "markdown",
      "metadata": {
        "id": "-Bzfd-eYDIdi",
        "colab_type": "text"
      },
      "source": [
        "\n",
        "## Evaluating model performance\n",
        "\n",
        "The standard way to score (i.e., evaluate performance) a logistic regression is via mean accuracy. This is equal to the proportion of data points $i = 1, 2, \\dots, n$ for which $T(y_i) = \\hat{y}_i$. We calculate it as \n",
        "$1 - \\frac{\\sum_{i=1}^N |T(y_i) - \\hat{y}_i| }{N}$. We can think of this scoring metric for logistic regression as something that is analogous to the $R^2$ metric for linear regression. \n",
        "\n",
        "For a binary classification problem, although the accuracy of a model is a great measure of its performance, accuracy fails to reveal the type of errors that the model makes. There are two main types of errors: (1) false positives (FP), where a value of $1$ is predicted (i.e., $y = 1$) when the true value is $0$ (i.e., $\\hat{y} = 0$); and (2) false negatives (FN), where a value of $0$ is predicted (i.e., $y = 0$) when the true value is $1$ (i.e., $\\hat{y} = 1$). A correctly classified point is a true positive (TP) or true negative (TN) when a value of $1$ or $0$ is correctly predicted, respectively. There are several common summary statistics that summarize the frequency of different error types that are summarized in the following table.\n",
        "\n",
        "| Statistic                             | Calculation    | Definition |\n",
        "|:--------------------------------------|:--------------:|:-----------|\n",
        "| Recall/Sensitivity/True Positive Rate | TP / (TP + FN) | the proportion of $y_i = 1$ that were correctly labelled |\n",
        "| Fall-out/False Positive Rate          | FP / (FP + TN) | the proportion of $y_i = 0$ that were incorrectly labelled |\n",
        "| Precision/Positive Predictive Value   | TP / (TP + FP) | the proportion of $T(\\hat{y}_i) = 1$ that match the data |\n",
        "| False Omission Rate                   | FN / (FN + TN) | the proportion of $T(\\hat{y}_i) = 0$ that don't match the data |\n",
        "\n",
        "In general, true positive rate (TPR) and false positive rate (FPR) are the most common of the ratios presented above. TPR is a measure of how often we correctly identify when the target is true (i.e., $y = 1$ and $\\hat{y} = 1$), and FPR is a measure of how often we incorrectly identify when the target is true (i.e., $y = 1$ and $\\hat{y}=0$). There are many other metrics that quantify model error, and the best metric to use depends on the application of the model. We can summarize all of this information inside a confusion matrix.\n",
        "\n",
        "![alt text](https://miro.medium.com/max/1194/0*wKaznIJzZF54b87B.jpg)"
      ]
    },
    {
      "cell_type": "markdown",
      "metadata": {
        "id": "378hdG56DMgP",
        "colab_type": "text"
      },
      "source": [
        "\n",
        "## Coding the model\n",
        "\n",
        "Remember that linear regression predicts continuous target values, and logistic regression predicts target binary values (i.e., categorical). While we used linear regression to predict the total number of games that a team is expected to win in a season, we will now use logistic regression to predict whether a team will make the playoffs or not.\n"
      ]
    },
    {
      "cell_type": "markdown",
      "metadata": {
        "id": "M9UMlfW2DN3v",
        "colab_type": "text"
      },
      "source": [
        "\n",
        "### Exercise\n",
        "1. In the space below, fit a [`LogisticRegression`](https://scikit-learn.org/stable/modules/generated/sklearn.linear_model.LogisticRegression.html) model called `logreg` to predict the target (from the column \"Playoffs\" in `df`) using the same features that we used in the linear regression model above. Don't forget to drop the column headings ['W','Team','SeasonEnd', 'Playoffs'], which are stored in the variable `drop_for_X`, from your features (`X_train` and `X_test`)."
      ]
    },
    {
      "cell_type": "code",
      "metadata": {
        "id": "_g36DLvvQC4v",
        "colab_type": "code",
        "colab": {
          "base_uri": "https://localhost:8080/",
          "height": 151
        },
        "outputId": "41470b01-fdaa-46c6-e82b-25540663d84c"
      },
      "source": [
        "# Split the data into training and testing sets\n",
        "df_train = df[df.SeasonEnd<2012]\n",
        "df_test = df[df.SeasonEnd>=2012]\n",
        "\n",
        "# Write your code here.\n",
        "\n",
        "# -------------------\n",
        "\n",
        "# Partition the training data into features and target\n",
        "X_train = df_train.drop(columns=drop_for_X)\n",
        "y_train = df_train.Playoffs\n",
        "\n",
        "# Fit the model\n",
        "logreg = LogisticRegression()\n",
        "logreg.fit(X_train, y_train)\n",
        "\n",
        "# Partition the testing data into features and target\n",
        "X_test = df_test.drop(columns=drop_for_X)\n",
        "y_test = df_test.Playoffs\n",
        "\n",
        "# Predict the number of wins\n",
        "y_pred = logreg.predict(X_test)\n",
        "\n",
        "# -------------------"
      ],
      "execution_count": null,
      "outputs": [
        {
          "output_type": "stream",
          "text": [
            "/usr/local/lib/python3.6/dist-packages/sklearn/linear_model/_logistic.py:940: ConvergenceWarning: lbfgs failed to converge (status=1):\n",
            "STOP: TOTAL NO. of ITERATIONS REACHED LIMIT.\n",
            "\n",
            "Increase the number of iterations (max_iter) or scale the data as shown in:\n",
            "    https://scikit-learn.org/stable/modules/preprocessing.html\n",
            "Please also refer to the documentation for alternative solver options:\n",
            "    https://scikit-learn.org/stable/modules/linear_model.html#logistic-regression\n",
            "  extra_warning_msg=_LOGISTIC_SOLVER_CONVERGENCE_MSG)\n"
          ],
          "name": "stderr"
        }
      ]
    },
    {
      "cell_type": "markdown",
      "metadata": {
        "id": "CZPRktKl2o_s",
        "colab_type": "text"
      },
      "source": [
        "## Addressing a warning message\n",
        "You should see a message about a `ConvergenceWarning` that explains that the solver (i.e., the optimizer that \"finds\" the coefficients for the model) failed to converge before fitting the iteration limit. This limit is set by the `max_iter` parameter, and by default it is limited to 100 iteration.\n",
        "\n"
      ]
    },
    {
      "cell_type": "markdown",
      "metadata": {
        "id": "C1vmR6x3Lp53",
        "colab_type": "text"
      },
      "source": [
        "### Exercise\n",
        "1. Make a new model called `logreg_max_iter_5000` by training the model from the code block above for a maximum of 5000 iterations. \n",
        "\n",
        "2. Use the `score` method for logistic regression to evaluate the mean accuracy of `logreg` and `logreg_max_iter_5000`. What model performed best? \n",
        "\n"
      ]
    },
    {
      "cell_type": "code",
      "metadata": {
        "id": "6L_JkBlu62qA",
        "colab_type": "code",
        "colab": {
          "base_uri": "https://localhost:8080/",
          "height": 101
        },
        "outputId": "b31cd3a1-050b-4b91-896f-a4ed79a0d968"
      },
      "source": [
        "### Question 1\n",
        "\n",
        "# -------------------\n",
        "\n",
        "# Fit the model\n",
        "logreg_max_iter_5000 = LogisticRegression(max_iter=5000)\n",
        "logreg_max_iter_5000.fit(X_train, y_train)\n",
        "\n",
        "# -------------------"
      ],
      "execution_count": null,
      "outputs": [
        {
          "output_type": "execute_result",
          "data": {
            "text/plain": [
              "LogisticRegression(C=1.0, class_weight=None, dual=False, fit_intercept=True,\n",
              "                   intercept_scaling=1, l1_ratio=None, max_iter=5000,\n",
              "                   multi_class='auto', n_jobs=None, penalty='l2',\n",
              "                   random_state=None, solver='lbfgs', tol=0.0001, verbose=0,\n",
              "                   warm_start=False)"
            ]
          },
          "metadata": {
            "tags": []
          },
          "execution_count": 18
        }
      ]
    },
    {
      "cell_type": "code",
      "metadata": {
        "id": "K0c92XD_2nQ6",
        "colab_type": "code",
        "colab": {
          "base_uri": "https://localhost:8080/",
          "height": 118
        },
        "outputId": "af04ca4f-6772-43af-df4d-b1c61d20e636"
      },
      "source": [
        "#### Question 2\n",
        "\n",
        "# -------------------\n",
        "\n",
        "# Calculate score of model trained with default parameters\n",
        "train_score = logreg.score(X_train, y_train)\n",
        "test_score = logreg.score(X_test, y_test)\n",
        "\n",
        "# Calculate score of model trained with max iterations 5000\n",
        "train_score_max_iter_5000 = logreg_max_iter_5000.score(X_train, y_train)\n",
        "test_score_max_iter_5000 = logreg_max_iter_5000.score(X_test, y_test)\n",
        "\n",
        "# Print the results\n",
        "print(f'With default parameters: \\n\\\n",
        "\\t Train score {train_score:.3}\\n\\\n",
        "\\t Test score {test_score:.3}')\n",
        "print(f'With max_iters = 5000: \\n\\\n",
        "\\t Train score {train_score_max_iter_5000:.3}\\n\\\n",
        "\\t Test score {test_score_max_iter_5000:.3}')\n",
        "\n",
        "# -------------------"
      ],
      "execution_count": null,
      "outputs": [
        {
          "output_type": "stream",
          "text": [
            "With default parameters: \n",
            "\t Train score 0.909\n",
            "\t Test score 0.808\n",
            "With max_iters = 5000: \n",
            "\t Train score 0.915\n",
            "\t Test score 0.817\n"
          ],
          "name": "stdout"
        }
      ]
    },
    {
      "cell_type": "markdown",
      "metadata": {
        "id": "m3nkZlRHdWs6",
        "colab_type": "text"
      },
      "source": [
        "By addressing that warning messages we managed to get ~1\\% improvement in performance! If you reviewed the  `LogisticRegression` documentation, you may have noticed that the the `fit` method uses L2-regularization by default. Also recall (from the linear regression section) that the features of this model are highly correlated with each other, which is problematic. \n",
        "\n",
        "Let's try using L1-regularization by setting the `penalty` parameter of `LogisticRegression` to 'l1'. We also need to set the solver to 'saga' because the default solver of `LogisticRegression` does not work with L1 regularization:"
      ]
    },
    {
      "cell_type": "code",
      "metadata": {
        "id": "W4BXvqiMd-cB",
        "colab_type": "code",
        "colab": {
          "base_uri": "https://localhost:8080/",
          "height": 34
        },
        "outputId": "6198e38a-f203-4601-cbf8-f74cb492ca22"
      },
      "source": [
        "# Fit the model\n",
        "logregl1 = LogisticRegression(penalty='l1', solver='saga', max_iter=5000)\n",
        "logregl1.fit(X_train, y_train)\n",
        "\n",
        "# Partition the testing data into features and target\n",
        "X_test = df_test.drop(columns=['W','Team','SeasonEnd', 'Playoffs'])\n",
        "y_test = df_test.Playoffs\n",
        "\n",
        "# calculate the score\n",
        "train_score = logregl1.score(X_train, y_train)\n",
        "test_score = logregl1.score(X_test, y_test)\n",
        "print(f'The train score is {train_score:.3} and the test score is {test_score:.3}')\n"
      ],
      "execution_count": null,
      "outputs": [
        {
          "output_type": "stream",
          "text": [
            "The train score is 0.91 and the test score is 0.808\n"
          ],
          "name": "stdout"
        }
      ]
    },
    {
      "cell_type": "markdown",
      "metadata": {
        "collapsed": false,
        "id": "R9tvHY5uWv8u",
        "colab_type": "text"
      },
      "source": [
        "## Using cross validation to select regularizer\n",
        "You should see that the L2 regularized model performed better than the L1 regularized model. However, before we make any conclusion about which regularizer is better suited for this problem, it is important to recognize that we did not perform cross-validation to optimize for the strength of the regularizer.\n"
      ]
    },
    {
      "cell_type": "markdown",
      "metadata": {
        "id": "w_xR1fhILsZN",
        "colab_type": "text"
      },
      "source": [
        "\n",
        "### Exercise\n",
        "1. Use the [`LogisticRegressionCV()`](https://scikit-learn.org/stable/modules/generated/sklearn.linear_model.LogisticRegressionCV.html) to fit a model that uses cross-validation and choose the best regularizer strength. Call your model `logregcv`.\n",
        "\n",
        "2. What is the optimal regularization strength? Check the documentation to find what variable it is listed under."
      ]
    },
    {
      "cell_type": "code",
      "metadata": {
        "pycharm": {
          "name": "#%%\n"
        },
        "id": "lr2xqV5IWv8v",
        "colab_type": "code",
        "colab": {
          "base_uri": "https://localhost:8080/",
          "height": 34
        },
        "outputId": "206ca0c6-0d7d-4d13-e65b-92ffaa35c4d8"
      },
      "source": [
        "# Question 1\n",
        "# Write your code here.\n",
        "\n",
        "# -------------------\n",
        "\n",
        "# Fit the model\n",
        "logregcv = LogisticRegressionCV(penalty='l1', solver='saga', max_iter=5000)\n",
        "logregcv.fit(X_train, y_train)\n",
        "\n",
        "# Partition the testing data into features and target\n",
        "X_test = df_test.drop(columns=['W','Team','SeasonEnd', 'Playoffs'])\n",
        "y_test = df_test.Playoffs\n",
        "\n",
        "# calculate the score\n",
        "train_score = logregcv.score(X_train, y_train)\n",
        "test_score = logregcv.score(X_test, y_test)\n",
        "print(f'The train score is {train_score:.3} and the test score is {test_score:.3}')\n",
        "\n",
        "# -------------------"
      ],
      "execution_count": null,
      "outputs": [
        {
          "output_type": "stream",
          "text": [
            "The train score is 0.903 and the test score is 0.883\n"
          ],
          "name": "stdout"
        }
      ]
    },
    {
      "cell_type": "code",
      "metadata": {
        "pycharm": {
          "name": "#%%\n"
        },
        "id": "QRuIk-nsWv8w",
        "colab_type": "code",
        "colab": {
          "base_uri": "https://localhost:8080/",
          "height": 34
        },
        "outputId": "e44854f7-b88b-438b-e3b9-06cf8efa6b3a"
      },
      "source": [
        "# Question 2\n",
        "\n",
        "# -------------------\n",
        "\n",
        "print(f'The strength of the regularier is {1/logregcv.C_[0]}')\n",
        "\n",
        "# -------------------"
      ],
      "execution_count": null,
      "outputs": [
        {
          "output_type": "stream",
          "text": [
            "The strength of the regularier is 10000.0\n"
          ],
          "name": "stdout"
        }
      ]
    },
    {
      "cell_type": "markdown",
      "metadata": {
        "id": "Smre2PbJF2Hp",
        "colab_type": "text"
      },
      "source": [
        "## Interpreting model parameters\n",
        "\n",
        "In this section, we'll use the `logregcv` model to make some inferences about making the NBA playoffs. Once again, we can view the coefficients and the intercept of the fitted model using the `coef_` and `intercept_` attributes. However, you may notice that logistic regression has a slightly different format than linear regression! We have provided the code for it below."
      ]
    },
    {
      "cell_type": "code",
      "metadata": {
        "id": "0ITj5y5721KA",
        "colab_type": "code",
        "colab": {
          "base_uri": "https://localhost:8080/",
          "height": 353
        },
        "outputId": "0a55e829-8c7c-4614-dac0-75cc6c2e1d38"
      },
      "source": [
        "# Get beta coefficients\n",
        "betas = pd.Series(logregcv.coef_[0], index=X_train.columns)\n",
        "# Get intercept, and append it to coefficients\n",
        "betas = betas.append(pd.Series({\"Intercept\": logregcv.intercept_[0]}))\n",
        "# Print the all betas (including the intercept)\n",
        "print(betas)"
      ],
      "execution_count": null,
      "outputs": [
        {
          "output_type": "stream",
          "text": [
            "PTS           0.000003\n",
            "oppPTS        0.000000\n",
            "FG            0.000000\n",
            "FGA           0.000000\n",
            "2P            0.000000\n",
            "2PA           0.000000\n",
            "3P            0.000000\n",
            "3PA           0.000000\n",
            "FT            0.000000\n",
            "FTA           0.000000\n",
            "ORB           0.000000\n",
            "DRB           0.000000\n",
            "AST           0.000000\n",
            "STL           0.000000\n",
            "BLK           0.000000\n",
            "TOV           0.000000\n",
            "Conference    0.000000\n",
            "dffPTS        0.007941\n",
            "Intercept     0.000002\n",
            "dtype: float64\n"
          ],
          "name": "stdout"
        }
      ]
    },
    {
      "cell_type": "markdown",
      "metadata": {
        "id": "c4HBXpmlSibi",
        "colab_type": "text"
      },
      "source": [
        "### Exercise \n",
        "To answer the set of questions in this exercise you'll need to examine the coefficients of the `logregcv` model. You may find the [`predict()`](https://scikit-learn.org/stable/modules/generated/sklearn.linear_model.LogisticRegression.html#sklearn.linear_model.LogisticRegression.predict), [`predict_proba()`](https://scikit-learn.org/stable/modules/generated/sklearn.linear_model.LogisticRegression.html#sklearn.linear_model.LogisticRegression.predict_proba), and [`predict_log_proba()`](https://scikit-learn.org/stable/modules/generated/sklearn.linear_model.LogisticRegression.html#sklearn.linear_model.LogisticRegression.predict_log_proba) methods useful.\n",
        "\n",
        "\n",
        "1. Suppose that the Toronto Raptors have the statistics stored in `raptors_2020`. What is the probability that the raptors make the playoffs?\n",
        "\n",
        "2. The Toronto Raptors won the 2019 NBA Championships off of strong defence. Calculate the log-odds and the odds ratio of a team that gets 50 more steals and 100 more blocks. What does the odds ratio say about the likelihood of making the playoffs?\n"
      ]
    },
    {
      "cell_type": "code",
      "metadata": {
        "id": "0gjKj2MjKDCI",
        "colab_type": "code",
        "colab": {
          "base_uri": "https://localhost:8080/",
          "height": 34
        },
        "outputId": "4023e40e-e911-4f21-f2e1-3b0f4acf4a4c"
      },
      "source": [
        "### Question 1\n",
        "\n",
        "raptors_2020 = pd.DataFrame([{'PTS': 10105, 'oppPTS': 10054, 'FG': 3951, \n",
        "                           'FGA':7999, '2P': 3927, '2PA': 7873, '3P': 24,\n",
        "                           \"3PA\": 126, 'FT': 2179, 'FTA': 2696, 'ORB':1214,\n",
        "                           'DRB': 2524, 'AST': 2336, 'STL': 789, 'BLK': 352,\n",
        "                           'TOV': 1496, 'Conference': 0, 'dffPTS': 51}])\n",
        "\n",
        "# Write your code here.\n",
        "\n",
        "# -------------------\n",
        "\n",
        "raps_playoffs_chances = logregcv.predict_proba(raptors_2020)\n",
        "print(f'The raptors have a probability of {raps_playoffs_chances[0, 1]:.3} of making the playoffs.')\n",
        "\n",
        "# -------------------"
      ],
      "execution_count": null,
      "outputs": [
        {
          "output_type": "stream",
          "text": [
            "The raptors have a probability of 0.607 of making the playoffs.\n"
          ],
          "name": "stdout"
        }
      ]
    },
    {
      "cell_type": "code",
      "metadata": {
        "id": "1bj_hsPxUktO",
        "colab_type": "code",
        "colab": {
          "base_uri": "https://localhost:8080/",
          "height": 34
        },
        "outputId": "add8168d-c1bf-4aba-ec1f-ea70146195f2"
      },
      "source": [
        "### Question 2\n",
        "\n",
        "# Write your code here.\n",
        "\n",
        "# -------------------\n",
        "\n",
        "logodds = 50 * betas['STL'] + 100 * betas['BLK']\n",
        "odds = np.exp(logodds)\n",
        "print(f'The log odds ratio is {logodds}, the odds ratio is {odds}')\n",
        "# -------------------"
      ],
      "execution_count": null,
      "outputs": [
        {
          "output_type": "stream",
          "text": [
            "The log odds ratio is 0.0, the odds ratio is 1.0\n"
          ],
          "name": "stdout"
        }
      ]
    },
    {
      "cell_type": "markdown",
      "metadata": {
        "id": "6lHLnKWDH__Q",
        "colab_type": "text"
      },
      "source": [
        "___\n",
        "**Question 2 Answer:**\n",
        "\n",
        "This implies the chance of making the playoffs is unchanged (no better and no worse). \n",
        "\n",
        "Anyone with some domain knowledge likely finds this result surprising. We observe it because the model has learned that dffPTS is a good feature to predict playoff chances, however, it has not learned what actions are good (e.g., 'STL', 'BLK') to increase dffPTS or playoff chances. A better model to use for this particular problem would be one that uses more features (e.g., `logreg`).\n",
        "___\n"
      ]
    },
    {
      "cell_type": "markdown",
      "metadata": {
        "id": "Jb9lXBv-eyze",
        "colab_type": "text"
      },
      "source": [
        "## Classification Error\n",
        "\n",
        "So far, we have only evaluated the model performance based on accuracy, however, it is also good to know what type of errors the model is susceptible to. Scikit-learn provides an easy way to do this via the `confusion_matrix()` function."
      ]
    },
    {
      "cell_type": "code",
      "metadata": {
        "id": "FCKI3Uo5WfBu",
        "colab_type": "code",
        "colab": {
          "base_uri": "https://localhost:8080/",
          "height": 279
        },
        "outputId": "c26b50e1-50e3-4807-afa4-767f97f010ab"
      },
      "source": [
        "# Make a prediction\n",
        "y_pred = logregcv.predict(X_test)\n",
        "# Make the confusion matrix\n",
        "cfm = confusion_matrix(y_true=y_test, y_pred=y_pred)\n",
        "# Plot the confusion matrix as a heat map\n",
        "ax = sns.heatmap(cfm, annot=True)\n",
        "# Change the axis lables\n",
        "ax.set(xlabel='Predicted', ylabel='Actual');"
      ],
      "execution_count": null,
      "outputs": [
        {
          "output_type": "display_data",
          "data": {
            "image/png": "[encoded data removed]",
            "text/plain": [
              "<Figure size 432x288 with 2 Axes>"
            ]
          },
          "metadata": {
            "tags": [],
            "needs_background": "light"
          }
        }
      ]
    },
    {
      "cell_type": "markdown",
      "metadata": {
        "id": "9RegV0pssHbB",
        "colab_type": "text"
      },
      "source": [
        "### Exercise\n",
        "Use the Confusion matrix above to answer the following questions.\n",
        "\n",
        "1. What is the number of true positives? true negatives?\n",
        "2. What is the biggest type of error that the model makes?\n",
        "3. Calculate the recall and precision. \n",
        "4. Given these scores, if a team were to make the playoffs in reality, how likely do you think that the model would predict correctly? \n",
        "5. If the model predicts that a team will make the playoffs, how likely do you think that the model is correct?"
      ]
    },
    {
      "cell_type": "code",
      "metadata": {
        "id": "in-jX0u6Wgx0",
        "colab_type": "code",
        "colab": {
          "base_uri": "https://localhost:8080/",
          "height": 34
        },
        "outputId": "25504316-dc8c-4adf-cffb-6f7635150601"
      },
      "source": [
        "### Question 1\n",
        "\n",
        "# Write your code here.\n",
        "\n",
        "# -------------------\n",
        "\n",
        "true_negatives = cfm[0,0]\n",
        "true_positives = cfm[1,1]\n",
        "print(f'There are {true_negatives} true negatives and {true_positives} true positives')\n",
        "\n",
        "# -------------------"
      ],
      "execution_count": null,
      "outputs": [
        {
          "output_type": "stream",
          "text": [
            "There are 51 true negatives and 55 true positives\n"
          ],
          "name": "stdout"
        }
      ]
    },
    {
      "cell_type": "markdown",
      "metadata": {
        "id": "xP3g3SnWs4xd",
        "colab_type": "text"
      },
      "source": [
        "\n",
        "___\n",
        "**Question 2 answer:** False positives\n",
        "___\n",
        "\n"
      ]
    },
    {
      "cell_type": "code",
      "metadata": {
        "id": "xqfGd9Ozcj2o",
        "colab_type": "code",
        "colab": {
          "base_uri": "https://localhost:8080/",
          "height": 34
        },
        "outputId": "30a1bc2c-3bd6-4448-ca30-fba4b9d3a33c"
      },
      "source": [
        "### Question 3\n",
        "\n",
        "# Write your code here.\n",
        "\n",
        "# -------------------\n",
        "\n",
        "recall = cfm[1,1] / (cfm[1,0] + cfm[1,1])\n",
        "precision = cfm[1, 1] / (cfm[0, 1] + cfm[1, 1])\n",
        "print(f'The recall is {recall} and the precision is {precision}')\n",
        "\n",
        "# -------------------"
      ],
      "execution_count": null,
      "outputs": [
        {
          "output_type": "stream",
          "text": [
            "The recall is 0.8870967741935484 and the precision is 0.8870967741935484\n"
          ],
          "name": "stdout"
        }
      ]
    },
    {
      "cell_type": "markdown",
      "metadata": {
        "id": "XUom9oy3uiNG",
        "colab_type": "text"
      },
      "source": [
        "\n",
        "___\n",
        "**Question 4 answer:**\n",
        "\n",
        "If a team were to make it (i.e., Actual = 1), then we predict it accurately nearly always. (Recall)\n",
        "\n",
        "___\n",
        "\n",
        "\n",
        "___\n",
        "**Question 5 Answer:**\n",
        "\n",
        "If a team were to make it (i.e., Actual = 1), then we predict it accurately nearly always. (Precision)\n",
        "\n",
        "___\n"
      ]
    },
    {
      "cell_type": "markdown",
      "metadata": {
        "id": "UfDhUZcqIfWb",
        "colab_type": "text"
      },
      "source": [
        "## Picking a prediction threshold\n",
        "Recall that a logistic regression model outputs the probability of whether the the target is 1 or 0. We then apply a threshold rule to turn that probability into a prediction. The default threshold in scikit-learn is 0.5, but it is a good idea to examine the raw probabilities to see if a better threshold exists.\n",
        "\n",
        "The tool that is most used to help choose a threshold is a receiver operating characteristic (ROC) curve. The ROC curve is a plot of true positive rate (TPR) versus false positive rate (FPR) for different threshold values. It is used in a lot in applications where it is important to make sure that there are very few false positives (i.e., false alarms) or very few false negatives (i.e., missed detections).\n",
        "\n",
        "In this section you will plot ROC curves for the three logistic regression models that we built (i.e., `logreg`, `logregl1`, `logregcv`). The [`roc_curve()`](https://scikit-learn.org/stable/modules/generated/sklearn.metrics.roc_curve.html) function in `sklearn` makes it easy to generate the data for an ROC curve plot. As input, this function takes the ground truth target label and the model's estimated probability of \"1\", which is generated by the [`predict_proba()`](https://scikit-learn.org/stable/modules/generated/sklearn.linear_model.LogisticRegression.html#sklearn.linear_model.LogisticRegression.predict_proba) method. As output, `roc_curve()` returns the FPR, TPR, and the threshold to achieve those statistics.\n"
      ]
    },
    {
      "cell_type": "markdown",
      "metadata": {
        "id": "G8UViU-pyvMx",
        "colab_type": "text"
      },
      "source": [
        "### Exercise\n",
        "\n",
        "1. Plot FPR and TPR using [`sns.lineplot()`](https://seaborn.pydata.org/generated/seaborn.lineplot.html) to generate an ROC curve for each of the three models (i.e., `logreg`, `logregl1`, `logregcv`). We have provided some of the code to format the resulting plot.\n",
        "\n",
        "2. What does the straight line from (0,0) to (1,1) represent?\n",
        "\n",
        "3. According to the `roc_curve()` function, what is the highest threshold value at which you should get a TPR=1 for your L1-cross-validated model?\n",
        "\n",
        "4. Is there any scenario where the cross-validated model is worse than any of the other models?\n"
      ]
    },
    {
      "cell_type": "code",
      "metadata": {
        "id": "sKQ58mHkumIV",
        "colab_type": "code",
        "colab": {
          "base_uri": "https://localhost:8080/",
          "height": 283
        },
        "outputId": "57b85374-0075-493c-a1f0-5a7708878dac"
      },
      "source": [
        "from sklearn.metrics import roc_curve\n",
        "\n",
        "# Write your code here.\n",
        "\n",
        "# -------------------\n",
        "\n",
        "# L2 model\n",
        "ylogreg = logreg.predict_proba(X_test).T[1]  # Predictions without threshold \n",
        "fprlogreg, tprlogreg, threshlogreg = roc_curve(y_test, ylogreg)  \n",
        "\n",
        "# L1 model\n",
        "ylogregl1 = logregl1.predict_proba(X_test).T[1]\n",
        "fprlogregl1, tprlogregl1, threshlogregl1 = roc_curve(y_test, ylogregl1)\n",
        "\n",
        "# L1 model with CV\n",
        "ylogregcv = logregcv.predict_proba(X_test).T[1]\n",
        "fprlogregcv, tprlogregcv, threshlogregcv = roc_curve(y_test, ylogregcv)\n",
        "\n",
        "# Plot the ROC of each model with approporiate lables for legend\n",
        "sns.lineplot(fprlogreg, tprlogreg, label='Original')\n",
        "sns.lineplot(fprlogregl1, tprlogregl1, label='L1')\n",
        "sns.lineplot(fprlogregcv, tprlogregcv, label='L1-CV')\n",
        "\n",
        "# -------------------\n",
        "\n",
        "# Plot format\n",
        "sns.lineplot([0, 1], [0, 1], linestyle='--')  # add red line\n",
        "plt.xlim([0.0, 1.0])  # limit x-axis between 0 and 1\n",
        "plt.ylim([0.0, 1.0])  # limit y-axis between 0 and 1\n",
        "plt.xlabel('False Positive Rate')  # lable for x axis\n",
        "plt.ylabel('True Positive Rate')  # lable for y axis\n",
        "plt.legend(loc='lower right')  # print legend in lower right corner\n",
        "plt.show()  "
      ],
      "execution_count": null,
      "outputs": [
        {
          "output_type": "display_data",
          "data": {
            "image/png": "[encoded data removed]",
            "text/plain": [
              "<Figure size 432x288 with 1 Axes>"
            ]
          },
          "metadata": {
            "tags": [],
            "needs_background": "light"
          }
        }
      ]
    },
    {
      "cell_type": "code",
      "metadata": {
        "id": "izHwsKktTklo",
        "colab_type": "code",
        "colab": {
          "base_uri": "https://localhost:8080/",
          "height": 185
        },
        "outputId": "9af0cb1b-aa2f-4721-f2a8-12b1fe6c4c86"
      },
      "source": [
        "threshlogregl1"
      ],
      "execution_count": null,
      "outputs": [
        {
          "output_type": "execute_result",
          "data": {
            "text/plain": [
              "array([1.99999999e+00, 9.99999991e-01, 9.99871187e-01, 9.99851937e-01,\n",
              "       9.99816306e-01, 9.99778719e-01, 9.99222278e-01, 9.99008518e-01,\n",
              "       9.98443082e-01, 9.98310013e-01, 9.94928179e-01, 9.94860173e-01,\n",
              "       9.94131107e-01, 9.93300796e-01, 9.81291603e-01, 9.80163602e-01,\n",
              "       9.78153043e-01, 9.76005163e-01, 9.66713898e-01, 9.58771002e-01,\n",
              "       9.53306431e-01, 9.49773877e-01, 9.39164414e-01, 9.24068772e-01,\n",
              "       9.22578115e-01, 8.87235640e-01, 8.79800360e-01, 8.47063399e-01,\n",
              "       8.31381922e-01, 7.95228378e-01, 7.63353358e-01, 7.46495526e-01,\n",
              "       7.10173352e-01, 6.52543498e-01, 5.35521503e-01, 5.22519041e-01,\n",
              "       4.04966064e-01, 2.56262685e-01, 1.97142828e-01, 1.25453023e-05])"
            ]
          },
          "metadata": {
            "tags": []
          },
          "execution_count": 30
        }
      ]
    },
    {
      "cell_type": "markdown",
      "metadata": {
        "id": "IEulLyjMvciD",
        "colab_type": "text"
      },
      "source": [
        "___\n",
        "**Question 2 answer:**\n",
        "\n",
        "If you were to randomly guess 1 or 0 without using any features\n",
        "\n",
        "___"
      ]
    },
    {
      "cell_type": "code",
      "metadata": {
        "id": "tbFCuPtFwOcp",
        "colab_type": "code",
        "colab": {
          "base_uri": "https://localhost:8080/",
          "height": 34
        },
        "outputId": "cb016c29-0c2d-4210-e4cf-c9f3c79aaaf2"
      },
      "source": [
        "# Question 3\n",
        "\n",
        "# Write your code here.\n",
        "\n",
        "# -------------------\n",
        "first_1_in_TPR = np.argwhere(tprlogregcv==1)[0,0]  # Return first instance of 1\n",
        "highest_TPR_1_threshold = threshlogregcv[first_1_in_TPR]\n",
        "print(f'The highest threshold that achieves 100% TPR is {highest_TPR_1_threshold:.3}')\n",
        "# -------------------"
      ],
      "execution_count": null,
      "outputs": [
        {
          "output_type": "stream",
          "text": [
            "The highest threshold that achieves 100% TPR is 0.192\n"
          ],
          "name": "stdout"
        }
      ]
    },
    {
      "cell_type": "markdown",
      "metadata": {
        "id": "L9IrUcxp0rca",
        "colab_type": "text"
      },
      "source": [
        "___\n",
        "**Question 4 answer**:\n",
        "\n",
        "No. In general, a curve is worse than another curve if it is closer to the red line.\n",
        "___"
      ]
    },
    {
      "cell_type": "markdown",
      "metadata": {
        "id": "vfp-CzkCkBvp",
        "colab_type": "text"
      },
      "source": [
        "# Reflection\n",
        " If we want to build a prediction model it is critical that we have access to its features at a reasonable time in real life. Unfortunately, in our case the models in this lab are not very useful because they use the features of a season (e.g., how many points a team scored) to predict outcomes for that same season (e.g., whether or not a team made playoffs) only after those outcomes are effectively known. A more impactful predictive model would use the features at the end of the season to predict if a team will make playoffs in the following season (e.g., use 2015 data to predict `'Playoffs'` in 2016). In this section you're going to code up that very model!\n",
        "\n",
        "In the code block below, we do some (advanced) data processing to prepare the data you need to predict whether or not a team will qualify for playoffs next year. We use the column `'NextYearPlayoffs'` to denote whether or not a team will (`'NextYearPlayoffs'` = 1) or will not (`'NextYearPlayoffs'` = 0) make playoffs. The code block below generates this feature using [multi indexing](https://pandas.pydata.org/pandas-docs/stable/user_guide/advanced.html), but we don't expect you to understand multi-indexing at this stage in the course  (i.e., the code block immediately below will not come up in any capacity during Quiz 1).\n"
      ]
    },
    {
      "cell_type": "code",
      "metadata": {
        "id": "4up7PQA0muda",
        "colab_type": "code",
        "colab": {}
      },
      "source": [
        "\"\"\"In this codeblock, we process the data for you using functions that you DO \n",
        "NOT need to be familiar with right now (you won't be tested on this type of \n",
        "data manipulation in Quiz 1). Please focus on the logic behind this code block\n",
        "and understand why we modify the data the way we do.\"\"\"\n",
        "\n",
        "# Make a copy of the original DataFrame\n",
        "X = df.copy()\n",
        "\n",
        "# Change the index to Team and Season\n",
        "X = X.set_index(['Team', 'SeasonEnd'])\n",
        "# Keep SeasonEnd as one of the columns\n",
        "X['SeasonEnd'] = X.index.get_level_values(1).values \n",
        "\n",
        "# Get y data (i.e., if they make playoffs next year)\n",
        "y = pd.concat((df['Team'], \n",
        "               df['SeasonEnd']-1, \n",
        "               df['Playoffs'].rename('NextYearPlayoffs')\n",
        "              ), \n",
        "              axis=1)\n",
        "# Set the index to the same convention as X\n",
        "y = y.set_index(['Team', 'SeasonEnd'])\n",
        "\n",
        "# Get intersection of indicies between X and y\n",
        "index_intersection = X.index.intersection(y.index)\n",
        "X = X.loc[index_intersection]  # Season stats\n",
        "y = y.loc[index_intersection]  # Whether or no team makes playoffs next year"
      ],
      "execution_count": null,
      "outputs": []
    },
    {
      "cell_type": "markdown",
      "metadata": {
        "id": "8cacqc_P3XUd",
        "colab_type": "text"
      },
      "source": [
        "### Exercise\n",
        "1. Use the newly processed data (X and y) to predict whether or not a team will make playoffs in the following year based on their stats from the previous season.\n",
        "\n",
        "2. Based on mean accuracy, you should see that this new model performs worse than the previous models. Why do you think that is?\n",
        "\n",
        "3. In what way is the first set of models useful (i.e., predicting playoffs based on this season's data), and in which way is this new model useful (i.e., predicting playoffs based off last season's data)?"
      ]
    },
    {
      "cell_type": "code",
      "metadata": {
        "id": "rMEDUJbv3Xla",
        "colab_type": "code",
        "colab": {
          "base_uri": "https://localhost:8080/",
          "height": 34
        },
        "outputId": "c8ce982a-d043-4848-fa09-2526f4774875"
      },
      "source": [
        "# Question 1\n",
        "# Write your code here.\n",
        "\n",
        "# -------------------\n",
        "# Split into training and testing\n",
        "X_train = X[X.SeasonEnd<2012]\n",
        "y_train = y.loc[X.SeasonEnd<2012].NextYearPlayoffs\n",
        "X_test = X[X.SeasonEnd>2012]\n",
        "y_test = y[X.SeasonEnd>2012].NextYearPlayoffs\n",
        "\n",
        "# Fit the model\n",
        "logregpred = LogisticRegressionCV(penalty='l1', solver='saga', max_iter=5000)\n",
        "logregpred.fit(X_train, y_train)\n",
        "\n",
        "# Partition the testing data into features and target\n",
        "mdl_score = logregpred.score(X_test, y_test)\n",
        "\n",
        "print(mdl_score)\n",
        "# -------------------\n"
      ],
      "execution_count": null,
      "outputs": [
        {
          "output_type": "stream",
          "text": [
            "0.6888888888888889\n"
          ],
          "name": "stdout"
        }
      ]
    },
    {
      "cell_type": "markdown",
      "metadata": {
        "id": "-OVYrQ8UU8fR",
        "colab_type": "text"
      },
      "source": [
        "___\n",
        "**Question 2 answer:**\n",
        "\n",
        "This model performed worse because it uses features from a previous season, which don't directly affect a team's chances of making playoffs. There is no guarantee that a team can repeat those statistics in the following year. In contrast, the earlier models in this lab predicted whether or not a team made playoffs only when they knew __exactly__ how a team performed (i.e., had perfect information).\n",
        "___\n",
        "**Question 3 answer:**\n",
        "\n",
        "The previous model is useful for identifying features that lead to new playing/practice strategies, which can inform coaching decisions. In contrast, the new model is useful for understanding how a team will do in the following season if they keep things the same (e.g., player roster) for next year, which can inform manger decisions (e.g., player trades).\n",
        "___\n"
      ]
    }
  ]
}