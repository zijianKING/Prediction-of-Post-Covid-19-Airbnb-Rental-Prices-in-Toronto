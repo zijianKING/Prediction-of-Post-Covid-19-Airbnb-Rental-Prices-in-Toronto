{
  "nbformat": 4,
  "nbformat_minor": 0,
  "metadata": {
    "colab": {
      "name": "Quiz_two_CART_and_RF_solutions.ipynb",
      "provenance": [],
      "collapsed_sections": []
    },
    "kernelspec": {
      "name": "python3",
      "display_name": "Python 3"
    }
  },
  "cells": [
    {
      "cell_type": "markdown",
      "metadata": {
        "id": "4eubM9ej9ky1"
      },
      "source": [
        "<center>\n",
        "    <h3>University of Toronto</h3>\n",
        "    <h3>Department of Mechanical and Industrial Engineering</h3>\n",
        "    <h3>MIE368 Analytics in Action </h3>\n",
        "    <h3>(Fall 2020)</h3>\n",
        "    <hr>\n",
        "    <h1>Quiz 2: CART and Random Forest</h1>\n",
        "    <h3>October 1, 2020</h3>\n",
        "</center>"
      ]
    },
    {
      "cell_type": "markdown",
      "metadata": {
        "id": "h3Y_sBBtvAyg"
      },
      "source": [
        "Question Bank 1 (/1)\n",
        "---\n",
        "\n",
        ">Q. **Bootstrapping**: What is an example of a correct bootstrapped sample of the following dataset, assuming the sample size is the same as the dataset's size. {10, 14, 16, 8, 7}\n",
        ">> {10, 10, 8, 7, 14}\n",
        "\n",
        "> Q. **Bootstrapping**: What is an example of a correct bootstrapped sample of the following dataset, assuming the sample size is the same as the dataset's size. {8,7,4,3,9}\n",
        ">> {8,7,7,7,9}\n",
        "\n",
        "> Q. **Bootstrapping**: What is an example of a correct bootstrapped sample of the following dataset, assuming the sample size is the same as the dataset's size. {1, 2, 5, 3, 4}\n",
        ">> {1, 2, 3, 2, 3}"
      ]
    },
    {
      "cell_type": "markdown",
      "metadata": {
        "id": "owDOxwLZwPBr"
      },
      "source": [
        "Question Bank 2 (/2)\n",
        "---\n",
        "\n",
        ">Q. **CART vs RF:** What is one benefit and one downside of a CART model over a RF model?\n",
        ">> A CART model is much more interpretable than an RF model but usually has lower accuracies. \n",
        "\n",
        "\n",
        "> Q. **CART vs RF:** What is one benefit and one downside of a RF model over a CART model?\n",
        ">> A RF model generally gets more accurate results because of its ensemble nature but is usually less interpretable and requires longer computation times."
      ]
    },
    {
      "cell_type": "markdown",
      "metadata": {
        "id": "uikbdtzywyci"
      },
      "source": [
        "Question Bank 3 (/1)\n",
        "---\n",
        "\n",
        ">Q. **CART Parameters:** As you are training a CART model, decreasing the max depth will likely increase the presence of overfitting.\n",
        ">> False\n",
        "\n",
        "\n",
        "> Q. **CART Parameters:** As you are training a CART model, increasing the max depth will likely increase the presence of overfitting.\n",
        ">> True"
      ]
    },
    {
      "cell_type": "markdown",
      "metadata": {
        "id": "LczGqTXVxCzk"
      },
      "source": [
        "Question Bank 4 (/1)\n",
        "---\n",
        "\n",
        "> Q. **CART Splits:** In a CART model, where will the most important variables be split on in the final decision tree?\n",
        ">> Near the top\n",
        "\n",
        "\n",
        "\n",
        "\n"
      ]
    },
    {
      "cell_type": "markdown",
      "metadata": {
        "id": "y81OoVNtoXLC"
      },
      "source": [
        "# Section Two Instructions\n",
        "\n",
        "*   Please use this Colab notebook to solve the questions in the coding section of Quiz Two. \n",
        "* Run the first two codeblocks to import the necessary packages and data for this quiz.\n",
        "* The second code block will split your dataset into a training and testing set. Please use these splits to perform the necessary analysis. \n",
        "*  Any additional code you will need to answer the questions can be added to this notebook. Please remember to copy and paste the code at the bottom of the Quercus quiz after each coding question."
      ]
    },
    {
      "cell_type": "code",
      "metadata": {
        "id": "HfydGB1j92JF",
        "outputId": "541086a4-9c1b-46f5-e7da-edea3f092778",
        "colab": {
          "base_uri": "https://localhost:8080/",
          "height": 225
        }
      },
      "source": [
        "#Run this code before starting the quiz\n",
        "\n",
        "# Import packages\n",
        "import matplotlib\n",
        "import matplotlib.pyplot as plt\n",
        "import numpy as np\n",
        "import pandas as pd\n",
        "import seaborn as sns\n",
        "from sklearn.ensemble import RandomForestClassifier\n",
        "from sklearn.tree import DecisionTreeClassifier\n",
        "from sklearn.metrics import confusion_matrix, roc_curve\n",
        "from sklearn.model_selection import train_test_split\n",
        "from sklearn.model_selection import cross_validate\n",
        "from sklearn.tree import DecisionTreeClassifier\n",
        "\n",
        "# Load data\n",
        "df = pd.read_csv(\"https://docs.google.com/uc?export=download&id=1PB8W6j7jhBpYcirIRFm-UQW7bhFvHt0c\") \n",
        "# Set index\n",
        "df = df.set_index('PassengerId')\n",
        "# Print out data head\n",
        "df.head()"
      ],
      "execution_count": 1,
      "outputs": [
        {
          "output_type": "execute_result",
          "data": {
            "text/html": [
              "<div>\n",
              "<style scoped>\n",
              "    .dataframe tbody tr th:only-of-type {\n",
              "        vertical-align: middle;\n",
              "    }\n",
              "\n",
              "    .dataframe tbody tr th {\n",
              "        vertical-align: top;\n",
              "    }\n",
              "\n",
              "    .dataframe thead th {\n",
              "        text-align: right;\n",
              "    }\n",
              "</style>\n",
              "<table border=\"1\" class=\"dataframe\">\n",
              "  <thead>\n",
              "    <tr style=\"text-align: right;\">\n",
              "      <th></th>\n",
              "      <th>Age</th>\n",
              "      <th>Embarked</th>\n",
              "      <th>Fare</th>\n",
              "      <th>Pclass</th>\n",
              "      <th>Sex</th>\n",
              "      <th>Title</th>\n",
              "      <th>Family_Size</th>\n",
              "      <th>Survived</th>\n",
              "    </tr>\n",
              "    <tr>\n",
              "      <th>PassengerId</th>\n",
              "      <th></th>\n",
              "      <th></th>\n",
              "      <th></th>\n",
              "      <th></th>\n",
              "      <th></th>\n",
              "      <th></th>\n",
              "      <th></th>\n",
              "      <th></th>\n",
              "    </tr>\n",
              "  </thead>\n",
              "  <tbody>\n",
              "    <tr>\n",
              "      <th>1</th>\n",
              "      <td>22</td>\n",
              "      <td>0</td>\n",
              "      <td>7.2500</td>\n",
              "      <td>3</td>\n",
              "      <td>1</td>\n",
              "      <td>1</td>\n",
              "      <td>1</td>\n",
              "      <td>0</td>\n",
              "    </tr>\n",
              "    <tr>\n",
              "      <th>2</th>\n",
              "      <td>38</td>\n",
              "      <td>1</td>\n",
              "      <td>71.2833</td>\n",
              "      <td>1</td>\n",
              "      <td>0</td>\n",
              "      <td>3</td>\n",
              "      <td>1</td>\n",
              "      <td>1</td>\n",
              "    </tr>\n",
              "    <tr>\n",
              "      <th>3</th>\n",
              "      <td>26</td>\n",
              "      <td>0</td>\n",
              "      <td>7.9250</td>\n",
              "      <td>3</td>\n",
              "      <td>0</td>\n",
              "      <td>4</td>\n",
              "      <td>0</td>\n",
              "      <td>1</td>\n",
              "    </tr>\n",
              "    <tr>\n",
              "      <th>4</th>\n",
              "      <td>35</td>\n",
              "      <td>0</td>\n",
              "      <td>53.1000</td>\n",
              "      <td>1</td>\n",
              "      <td>0</td>\n",
              "      <td>3</td>\n",
              "      <td>1</td>\n",
              "      <td>1</td>\n",
              "    </tr>\n",
              "    <tr>\n",
              "      <th>5</th>\n",
              "      <td>35</td>\n",
              "      <td>0</td>\n",
              "      <td>8.0500</td>\n",
              "      <td>3</td>\n",
              "      <td>1</td>\n",
              "      <td>1</td>\n",
              "      <td>0</td>\n",
              "      <td>0</td>\n",
              "    </tr>\n",
              "  </tbody>\n",
              "</table>\n",
              "</div>"
            ],
            "text/plain": [
              "             Age  Embarked     Fare  Pclass  Sex  Title  Family_Size  Survived\n",
              "PassengerId                                                                   \n",
              "1             22         0   7.2500       3    1      1            1         0\n",
              "2             38         1  71.2833       1    0      3            1         1\n",
              "3             26         0   7.9250       3    0      4            0         1\n",
              "4             35         0  53.1000       1    0      3            1         1\n",
              "5             35         0   8.0500       3    1      1            0         0"
            ]
          },
          "metadata": {
            "tags": []
          },
          "execution_count": 1
        }
      ]
    },
    {
      "cell_type": "markdown",
      "metadata": {
        "id": "EbsuM5JH-I7S"
      },
      "source": [
        "In this quiz, we are going to use the Titance Survival data set. This data set contains information on passengers aboard the Titanic and whether or not they survived the crash.  \n",
        "\n",
        "The columns in the dataset are as follows:\n",
        "\n",
        "* **PassengerId (Index)**:            (discrete) unique identifier for each passenger\n",
        "\n",
        "* **Age**:            (discrete) age of the passenger\n",
        "\n",
        "* **Embarked**:         (categorical) The port that the passenger board the ship from. 0 if Southampton, 1 if Cherbourg, 2 if Queenstown\n",
        "\n",
        "* **Fare**:       (continous) Ticket fare the passenger paid\n",
        "\n",
        "* **Pclass**:   (discrete) Ticket class of the passenger (1, 2, or 3)\n",
        "\n",
        "* **Sex**:   (binary) 1 if male, 0 if female\n",
        "\n",
        "* **Title**: (Categorical) Title of the passenger: 1 - Mr. | 2 - Master | 3 - Mrs. | 4 - Miss. \n",
        "\n",
        "* **Family Size**:  (continuous) Size of the passenger's family on board (including the passenger)\n",
        "\n",
        "* **Survived (Target)**:   (binary) 1 if the passenger survived, 0 o/w\n"
      ]
    },
    {
      "cell_type": "markdown",
      "metadata": {
        "id": "MUTAJJKDVqG2"
      },
      "source": [
        "Use the following training and testing sets to answer the questions below.\n",
        "\n",
        "\n"
      ]
    },
    {
      "cell_type": "code",
      "metadata": {
        "id": "UDuunNXaVyzL"
      },
      "source": [
        "# Make a training and testing parition\n",
        "X_train, X_test, y_train, y_test = train_test_split(\n",
        "    df.drop('Survived', 1), df['Survived'], \n",
        "    test_size=0.30, shuffle=False)"
      ],
      "execution_count": 2,
      "outputs": []
    },
    {
      "cell_type": "markdown",
      "metadata": {
        "id": "y-t-9kyJsV7E"
      },
      "source": [
        "## __Question__ (/1)\n",
        "\n",
        "**EDA:** How many passengers survived in the training set?\n",
        "\n",
        "**EDA:** How many passengers did not survive in the training set?\n"
      ]
    },
    {
      "cell_type": "code",
      "metadata": {
        "id": "82hjSQcisWLz",
        "outputId": "c3fd29fe-6e5a-447f-876b-d64327407ee3",
        "colab": {
          "base_uri": "https://localhost:8080/",
          "height": 51
        }
      },
      "source": [
        "# Write your code here.\n",
        "\n",
        "# -------------------\n",
        "\n",
        "print('{} passengers survived in the training set'.format(y_train.sum()))\n",
        "print('{} passengers did not survive in the training set'.format(len(y_train) - y_train.sum()))\n",
        "\n",
        "# -------------------"
      ],
      "execution_count": null,
      "outputs": [
        {
          "output_type": "stream",
          "text": [
            "244 passengers survived in the training set\n",
            "370 passengers did not survive in the training set\n"
          ],
          "name": "stdout"
        }
      ]
    },
    {
      "cell_type": "markdown",
      "metadata": {
        "id": "4-TwlhPksi1Y"
      },
      "source": [
        "___\n",
        "## __Answer__:\n",
        "\n",
        "244 passengers survived in the training set\n",
        "\n",
        "370 passengers did not survive in the training set\n",
        "\n",
        "___"
      ]
    },
    {
      "cell_type": "markdown",
      "metadata": {
        "id": "FDYzjNhylLHL"
      },
      "source": [
        "## __Question__ (/1)\n",
        "\n",
        "**Random Forest Model:** Build a random forest model using the `RandomForestClassifier` function to predict `Survived`. Use all of the features in the training set.  Set the random state to 0. Use 15 estimators in your model. Use a max depth of 15.\n",
        "\n",
        "OR\n",
        "\n",
        "**Random Forest Model:** Build a random forest model using the `RandomForestClassifier` function to predict `Survived`. Use all of the features in the training set.  Set the random state to 0. Use 20 estimators in your model. Use a max depth of 10.\n",
        "\n",
        "**Random Forest Model:** Build a random forest model using the `RandomForestClassifier` function to predict `Survived`. Use all of the features in the training set.  Set the random state to 0. Use 25 estimators in your model. Use a max depth of 12."
      ]
    },
    {
      "cell_type": "code",
      "metadata": {
        "id": "-ttk6fKtl7_d",
        "outputId": "63a649a8-e658-443f-a0b0-83684f06bc0d",
        "colab": {
          "base_uri": "https://localhost:8080/",
          "height": 151
        }
      },
      "source": [
        "# Write your code here.\n",
        "\n",
        "# -------------------\n",
        "\n",
        "# NOTE: Due to confusing wording in the question, I accepted an answer with the max_features parameter\n",
        "# not specified, BUT, I also accepted max_features = None, which according to the documentation\n",
        "# is how we make a model with all features included, which is technically the correct answer since \n",
        "# this is what the question asks for. Therefore:\n",
        "\n",
        "clf = RandomForestClassifier(random_state=0, n_estimators=15, max_depth = 15, max_features=None)\n",
        "# OR\n",
        "# clf = RandomForestClassifier(random_state=0, n_estimators=20, max_depth = 10, max_features=None)\n",
        "# clf = RandomForestClassifier(random_state=0, n_estimators=25, max_depth = 12, max_features=None)\n",
        "\n",
        "# OR without max_features = None\n",
        "\n",
        "# clf = RandomForestClassifier(random_state=0, n_estimators=15, max_depth = 15)\n",
        "# clf = RandomForestClassifier(random_state=0, n_estimators=20, max_depth = 10)\n",
        "# clf = RandomForestClassifier(random_state=0, n_estimators=25, max_depth = 12)\n",
        "\n",
        "clf.fit(X_train, y_train)\n",
        "\n",
        "# -------------------"
      ],
      "execution_count": 9,
      "outputs": [
        {
          "output_type": "execute_result",
          "data": {
            "text/plain": [
              "RandomForestClassifier(bootstrap=True, ccp_alpha=0.0, class_weight=None,\n",
              "                       criterion='gini', max_depth=15, max_features=None,\n",
              "                       max_leaf_nodes=None, max_samples=None,\n",
              "                       min_impurity_decrease=0.0, min_impurity_split=None,\n",
              "                       min_samples_leaf=1, min_samples_split=2,\n",
              "                       min_weight_fraction_leaf=0.0, n_estimators=15,\n",
              "                       n_jobs=None, oob_score=False, random_state=0, verbose=0,\n",
              "                       warm_start=False)"
            ]
          },
          "metadata": {
            "tags": []
          },
          "execution_count": 9
        }
      ]
    },
    {
      "cell_type": "markdown",
      "metadata": {
        "id": "DM1uzojDqGxg"
      },
      "source": [
        "## __Question__ (/2)\n",
        "\n",
        "\n",
        "**Random Forest Training:** Report the accuracy on  the training  set.\n",
        "\n",
        "**Random Forest Training:** Report the accuracy on  the testing  set.\n",
        "\n"
      ]
    },
    {
      "cell_type": "code",
      "metadata": {
        "id": "gHMHfc1DqHcH",
        "outputId": "2dda481d-2f0d-4916-cde2-6f56942113b2",
        "colab": {
          "base_uri": "https://localhost:8080/",
          "height": 34
        }
      },
      "source": [
        "print('Training score = {} \\t Testing score {}'.format(\n",
        "    clf.score(X_train, y_train), \n",
        "    clf.score(X_test, y_test))\n",
        ")\n"
      ],
      "execution_count": 10,
      "outputs": [
        {
          "output_type": "stream",
          "text": [
            "Training score = 0.9739413680781759 \t Testing score 0.7992424242424242\n"
          ],
          "name": "stdout"
        }
      ]
    },
    {
      "cell_type": "markdown",
      "metadata": {
        "id": "kfDwAkjJmixb"
      },
      "source": [
        "___\n",
        "## __Answer__:\n",
        "\n",
        "Training score 0.974, testing score 0.799. \n",
        "\n",
        "OR\n",
        "\n",
        "Training score 0.946, testing score 0.822.\n",
        "\n",
        "Training score 0.967, testing score 0.811.\n",
        "\n",
        "___"
      ]
    },
    {
      "cell_type": "markdown",
      "metadata": {
        "id": "c3TDibqVqhrW"
      },
      "source": [
        "## __Question__ (/1)\n",
        "\n",
        "**Random Forest Understanding:** What makes this model particularly bad?"
      ]
    },
    {
      "cell_type": "markdown",
      "metadata": {
        "id": "nVGyqzUZqs2l"
      },
      "source": [
        "___\n",
        "## __Answer__:\n",
        "\n",
        "The model performs much better on the training set compared to the testing set, suggesting that we're overfitting.\n",
        "___"
      ]
    },
    {
      "cell_type": "markdown",
      "metadata": {
        "id": "lM508GcPmnkU"
      },
      "source": [
        "## __Question__ (/3)\n",
        "**Cross Validation RF Model:** Build a random forest model using the `RandomForestClassifier` function with 0.6 of the max features that predicts `Survived`. Set the random state to 0. Use 5-fold Cross validation for the `n_estimators` parameter from one of the sets below and draw a plot of the median test score of your folds for each value of the `n_estimators` parameter. Assume all other parameters are default.\n",
        "\n",
        "Note, to perform the cross validation, you should use the function `cross_validate` from `sklearn.model_selection` (i.e., you do not need to manually code your own cross validation function.)\n",
        "\n",
        "{5, 10, 15, 20, 25, 30, 35}\n",
        "\n",
        "OR \n",
        "\n",
        "{30, 32, 34, 36, 38, 40}\n",
        "\n",
        "\n",
        "{10, 20, 30, 40, 50, 60, 70, 80}"
      ]
    },
    {
      "cell_type": "code",
      "metadata": {
        "id": "OAAkz8nMAetX",
        "outputId": "0ef1c6d2-9f18-45d2-a5b2-854a919003a7",
        "colab": {
          "base_uri": "https://localhost:8080/",
          "height": 366
        }
      },
      "source": [
        "# Write your code here.\n",
        "\n",
        "# -------------------\n",
        "\n",
        "n_estimators_range = [10, 20, 30, 40, 50, 60, 70, 80]\n",
        "# OR \n",
        "# n_estimators_range = [5, 10 ,15, 20 ,25, 30, 35]\n",
        "# n_estimators_range = [30 ,32 ,34, 36, 38, 40]\n",
        "\n",
        "\n",
        "cv_scores = pd.Series(index=n_estimators_range)\n",
        "\n",
        "for n_estimators in n_estimators_range:\n",
        "  \n",
        "  # Initialize the model\n",
        "  rf_cv1_model = RandomForestClassifier(random_state=0, n_estimators=n_estimators, max_features=0.6)\n",
        "\n",
        "  # Run cross validation to get measure of out-of-sample error\n",
        "  example_cv_results = cross_validate(rf_cv1_model, X_train, y_train, cv=5)\n",
        "  \n",
        "  # Record the average out-of-sample error\n",
        "  cv_scores.loc[n_estimators] = np.median(example_cv_results['test_score'])\n",
        "\n",
        "plt.figure()\n",
        "cv_scores.plot()\n",
        "plt.xlabel('n_estimator paramter')\n",
        "plt.ylabel('Median CV Score')\n",
        "plt.title('Cros Validation Results')\n"
      ],
      "execution_count": null,
      "outputs": [
        {
          "output_type": "stream",
          "text": [
            "/usr/local/lib/python3.6/dist-packages/ipykernel_launcher.py:11: DeprecationWarning: The default dtype for empty Series will be 'object' instead of 'float64' in a future version. Specify a dtype explicitly to silence this warning.\n",
            "  # This is added back by InteractiveShellApp.init_path()\n"
          ],
          "name": "stderr"
        },
        {
          "output_type": "execute_result",
          "data": {
            "text/plain": [
              "Text(0.5, 1.0, 'Cros Validation Results')"
            ]
          },
          "metadata": {
            "tags": []
          },
          "execution_count": 47
        },
        {
          "output_type": "display_data",
          "data": {
            "image/png": "[encoded data removed]",
            "text/plain": [
              "<Figure size 432x288 with 1 Axes>"
            ]
          },
          "metadata": {
            "tags": [],
            "needs_background": "light"
          }
        }
      ]
    },
    {
      "cell_type": "markdown",
      "metadata": {
        "id": "8sTJmq2Tnulf"
      },
      "source": [
        "## __Question__ (/1)\n",
        "\n",
        "Cross Validation RF Results: What setting for `n_estimators` gets you the best model based on the median cv score?\n",
        "\n",
        "\n"
      ]
    },
    {
      "cell_type": "code",
      "metadata": {
        "id": "WxwZu8xdSYT9",
        "outputId": "f1e13836-4599-466b-a09e-576d34f74651",
        "colab": {
          "base_uri": "https://localhost:8080/",
          "height": 34
        }
      },
      "source": [
        "# Write your code here.\n",
        "\n",
        "# -------------------\n",
        "\n",
        "best_n_estimators = cv_scores.idxmax()\n",
        "print('Set n_estimators={}'.format(best_n_estimators))\n",
        "  \n",
        "# -------------------"
      ],
      "execution_count": null,
      "outputs": [
        {
          "output_type": "stream",
          "text": [
            "Set n_estimators=50\n"
          ],
          "name": "stdout"
        }
      ]
    },
    {
      "cell_type": "markdown",
      "metadata": {
        "id": "WLGCHhY1objk"
      },
      "source": [
        "___\n",
        "## __Answer__:\n",
        "\n",
        "Best setting for `n_estimators` = 50\n",
        "\n",
        "OR\n",
        "\n",
        "Best setting for `n_estimators` = 20\n",
        "\n",
        "\n",
        "Best setting for `n_estimators` = 38\n",
        "\n",
        "\n",
        "___"
      ]
    },
    {
      "cell_type": "markdown",
      "metadata": {
        "id": "qCMr5a5azEfR"
      },
      "source": [
        "## __Question__ (/1)\n",
        "\n",
        "**CART Visualization:** Use the following CART decision tree to predict if the following passengers would survive or not.\n",
        "\n",
        "<figure>\n",
        "<img src=\"https://docs.google.com/uc?export=view&id=1AC2uqcQNMxG4ZQj4F-a-GDeK_sLrxPkU\"\n",
        "alt=\"\" />\n",
        "</figure>\n",
        "<figure>\n",
        "\n",
        "> Q. A person aged 35 with the title \"Mr.\" who had a ticket class of 1 and and family size of 3.\n",
        ">> Didn't Survive\n",
        "\n",
        "> Q. A person aged 24, with the title \"Miss.\" who had a family size of 4, a ticket class of 2 and a fare of $35.\n",
        ">> Survived\n",
        "\n",
        "> Q. A person with title \"Mrs.\" who had a family size of 2, a fare costing $120, a ticket class of 3\n",
        ">> Survived"
      ]
    },
    {
      "cell_type": "code",
      "metadata": {
        "id": "CAP5zWpQFfhv"
      },
      "source": [
        ""
      ],
      "execution_count": null,
      "outputs": []
    }
  ]
}