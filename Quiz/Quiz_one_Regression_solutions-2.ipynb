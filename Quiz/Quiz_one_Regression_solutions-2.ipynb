{
  "nbformat": 4,
  "nbformat_minor": 0,
  "metadata": {
    "colab": {
      "name": "Quiz_one_Regression_solutions.ipynb",
      "provenance": [],
      "collapsed_sections": []
    },
    "kernelspec": {
      "name": "python3",
      "display_name": "Python 3"
    }
  },
  "cells": [
    {
      "cell_type": "markdown",
      "metadata": {
        "id": "4eubM9ej9ky1"
      },
      "source": [
        "<center>\n",
        "    <h3>University of Toronto</h3>\n",
        "    <h3>Department of Mechanical and Industrial Engineering</h3>\n",
        "    <h3>MIE368 Analytics in Action </h3>\n",
        "    <h3>(Fall 2020)</h3>\n",
        "    <hr>\n",
        "    <h1>Quiz One: Linear and Logistic Regression</h1>\n",
        "    <h3>September 24, 2020</h3>\n",
        "</center>"
      ]
    },
    {
      "cell_type": "markdown",
      "metadata": {
        "id": "PsD7emze8zCY"
      },
      "source": [
        "\n"
      ]
    },
    {
      "cell_type": "markdown",
      "metadata": {
        "id": "NmltOnuSmct0"
      },
      "source": [
        "\n",
        "Question Bank 1 (2 marks)\n",
        "---\n",
        "\n",
        ">Q. Is **linear** regression appropriate for this application? Why?\n",
        ">> Using linear regression is **not** appropriate. Linear regression predicts continuous target variables, but the target variables in this problem are binary.\n",
        "\n",
        "> Q. Is **logistic** regression more appropriate for this application? Why?\n",
        ">> Logistic regression is more appropriate. Logistic regression predicts binary target variables, and the target variables in this problem are binary.\n",
        "\n",
        "\n"
      ]
    },
    {
      "cell_type": "markdown",
      "metadata": {
        "id": "2HXQY5X2CA-q"
      },
      "source": [
        "Question 2. (2 marks)\n",
        "---\n",
        "> Q: What is overfitting? Are you worried about overfitting in this problem? Why?\n",
        ">> Overfitting is when your model performs well on your training set and poorly on your test set. I am not worried about overfitting because the number of features (1) is much lower than the number of observations/samples (1667).\n"
      ]
    },
    {
      "cell_type": "markdown",
      "metadata": {
        "id": "sSA2rOMKmez7"
      },
      "source": [
        "Question Bank 3 (1 mark)\n",
        "---\n",
        "> Q. Assume that the authors presented the confusion matrix below. What is the precision of their model? (2 possible matrices)\n",
        "<figure>\n",
        "<img src=\"https://docs.google.com/uc?export=view&id=1KJpXMy0dr4JVcGRIYdE6Dt5ypiXKnhHo\"\n",
        "alt=\"\" />\n",
        "<figcaption>Precision is 0.822</figcaption>\n",
        "</figure>\n",
        "<figure>\n",
        "\n",
        "<img src=\"https://docs.google.com/uc?export=view&id=1AC38SWZxrHim7yoa-MZUsuMDGVS4moe4\" \n",
        "alt=\"\"/>\n",
        "<figcaption>Precision is 0.741</figcaption>\n",
        "</figure>\n"
      ]
    },
    {
      "cell_type": "markdown",
      "metadata": {
        "id": "VySmRG4M9mac"
      },
      "source": [
        "# Instructions\n",
        "\n",
        "*   Please use this Colab notebook to solve the questions in the coding section of Quiz One. \n",
        "* Run the first codeblock to import the necessary packages and data for this quiz.\n",
        "*  Any additional code you will need to answer the questions can be added to this notebook. Please remember to copy and paste the code at the bottom of the Quercus quiz and clearly label which question each piece of code belongs to. \n",
        "* Please note that in this quiz you will always test models on the same data that those models are trained on (i.e., use the full dataset to both train and test your model). This should help simplify your code :) \n",
        "\n",
        "\n"
      ]
    },
    {
      "cell_type": "code",
      "metadata": {
        "id": "HfydGB1j92JF",
        "outputId": "f2e6b363-292c-417f-d402-21f97a51e16c",
        "colab": {
          "base_uri": "https://localhost:8080/",
          "height": 221
        }
      },
      "source": [
        "# Run this code\n",
        "\n",
        "# Packages used in this lab\n",
        "import matplotlib.pyplot as plt\n",
        "import numpy as np\n",
        "import pandas as pd\n",
        "import seaborn as sns\n",
        "from sklearn.linear_model import LinearRegression, LogisticRegression, LassoCV, RidgeCV\n",
        "from sklearn.metrics import confusion_matrix, roc_curve\n",
        "\n",
        "# Import data for this quiz\n",
        "df = pd.read_csv('https://docs.google.com/uc?export=download&id=1pzi2F_OLCUL96_wp5qGJ-JqM02bGf_eQ')\n",
        "df = df.dropna(how='any')  # Drops the rows with missing data\n",
        "df.head()  # Print a sample of the data"
      ],
      "execution_count": 2,
      "outputs": [
        {
          "output_type": "execute_result",
          "data": {
            "text/html": [
              "<div>\n",
              "<style scoped>\n",
              "    .dataframe tbody tr th:only-of-type {\n",
              "        vertical-align: middle;\n",
              "    }\n",
              "\n",
              "    .dataframe tbody tr th {\n",
              "        vertical-align: top;\n",
              "    }\n",
              "\n",
              "    .dataframe thead th {\n",
              "        text-align: right;\n",
              "    }\n",
              "</style>\n",
              "<table border=\"1\" class=\"dataframe\">\n",
              "  <thead>\n",
              "    <tr style=\"text-align: right;\">\n",
              "      <th></th>\n",
              "      <th>male</th>\n",
              "      <th>age</th>\n",
              "      <th>education</th>\n",
              "      <th>currentSmoker</th>\n",
              "      <th>cigsPerDay</th>\n",
              "      <th>BPMeds</th>\n",
              "      <th>prevalentStroke</th>\n",
              "      <th>prevalentHyp</th>\n",
              "      <th>diabetes</th>\n",
              "      <th>totChol</th>\n",
              "      <th>sysBP</th>\n",
              "      <th>diaBP</th>\n",
              "      <th>BMI</th>\n",
              "      <th>heartRate</th>\n",
              "      <th>glucose</th>\n",
              "      <th>TenYearCHD</th>\n",
              "    </tr>\n",
              "  </thead>\n",
              "  <tbody>\n",
              "    <tr>\n",
              "      <th>0</th>\n",
              "      <td>1</td>\n",
              "      <td>39</td>\n",
              "      <td>4.0</td>\n",
              "      <td>0</td>\n",
              "      <td>0.0</td>\n",
              "      <td>0.0</td>\n",
              "      <td>0</td>\n",
              "      <td>0</td>\n",
              "      <td>0</td>\n",
              "      <td>195.0</td>\n",
              "      <td>106.0</td>\n",
              "      <td>70.0</td>\n",
              "      <td>26.97</td>\n",
              "      <td>80.0</td>\n",
              "      <td>77.0</td>\n",
              "      <td>0</td>\n",
              "    </tr>\n",
              "    <tr>\n",
              "      <th>1</th>\n",
              "      <td>0</td>\n",
              "      <td>46</td>\n",
              "      <td>2.0</td>\n",
              "      <td>0</td>\n",
              "      <td>0.0</td>\n",
              "      <td>0.0</td>\n",
              "      <td>0</td>\n",
              "      <td>0</td>\n",
              "      <td>0</td>\n",
              "      <td>250.0</td>\n",
              "      <td>121.0</td>\n",
              "      <td>81.0</td>\n",
              "      <td>28.73</td>\n",
              "      <td>95.0</td>\n",
              "      <td>76.0</td>\n",
              "      <td>0</td>\n",
              "    </tr>\n",
              "    <tr>\n",
              "      <th>2</th>\n",
              "      <td>1</td>\n",
              "      <td>48</td>\n",
              "      <td>1.0</td>\n",
              "      <td>1</td>\n",
              "      <td>20.0</td>\n",
              "      <td>0.0</td>\n",
              "      <td>0</td>\n",
              "      <td>0</td>\n",
              "      <td>0</td>\n",
              "      <td>245.0</td>\n",
              "      <td>127.5</td>\n",
              "      <td>80.0</td>\n",
              "      <td>25.34</td>\n",
              "      <td>75.0</td>\n",
              "      <td>70.0</td>\n",
              "      <td>0</td>\n",
              "    </tr>\n",
              "    <tr>\n",
              "      <th>3</th>\n",
              "      <td>0</td>\n",
              "      <td>61</td>\n",
              "      <td>3.0</td>\n",
              "      <td>1</td>\n",
              "      <td>30.0</td>\n",
              "      <td>0.0</td>\n",
              "      <td>0</td>\n",
              "      <td>1</td>\n",
              "      <td>0</td>\n",
              "      <td>225.0</td>\n",
              "      <td>150.0</td>\n",
              "      <td>95.0</td>\n",
              "      <td>28.58</td>\n",
              "      <td>65.0</td>\n",
              "      <td>103.0</td>\n",
              "      <td>1</td>\n",
              "    </tr>\n",
              "    <tr>\n",
              "      <th>4</th>\n",
              "      <td>0</td>\n",
              "      <td>46</td>\n",
              "      <td>3.0</td>\n",
              "      <td>1</td>\n",
              "      <td>23.0</td>\n",
              "      <td>0.0</td>\n",
              "      <td>0</td>\n",
              "      <td>0</td>\n",
              "      <td>0</td>\n",
              "      <td>285.0</td>\n",
              "      <td>130.0</td>\n",
              "      <td>84.0</td>\n",
              "      <td>23.10</td>\n",
              "      <td>85.0</td>\n",
              "      <td>85.0</td>\n",
              "      <td>0</td>\n",
              "    </tr>\n",
              "  </tbody>\n",
              "</table>\n",
              "</div>"
            ],
            "text/plain": [
              "   male  age  education  currentSmoker  ...    BMI  heartRate  glucose  TenYearCHD\n",
              "0     1   39        4.0              0  ...  26.97       80.0     77.0           0\n",
              "1     0   46        2.0              0  ...  28.73       95.0     76.0           0\n",
              "2     1   48        1.0              1  ...  25.34       75.0     70.0           0\n",
              "3     0   61        3.0              1  ...  28.58       65.0    103.0           1\n",
              "4     0   46        3.0              1  ...  23.10       85.0     85.0           0\n",
              "\n",
              "[5 rows x 16 columns]"
            ]
          },
          "metadata": {
            "tags": []
          },
          "execution_count": 2
        }
      ]
    },
    {
      "cell_type": "markdown",
      "metadata": {
        "id": "EbsuM5JH-I7S"
      },
      "source": [
        "In this quiz, you will use the Framingham Heart Study data set that you loaded in the previous code block. This data set contains the medical information of citizens from Framingham, MA. You will study characteristics that affect cardiovascular heart disease (CHD).\n",
        "\n",
        "The columns in the dataset are as follows:\n",
        "\n",
        "\n",
        "* **male**:            (binary) 1 if male, 0 if female\n",
        "* **age**:             age in years    \n",
        "* **education**:       (categorical) level of education (4 is highest)\n",
        "* **currentSmoker**:   (binary) 1 if yes  \n",
        "* **cigsPerDay**:      number of cigarettes smoked per day\n",
        "* **BPMeds**:          (binary) 1 if they take blood pressure medication\n",
        "* **prevalentStroke**: (binary) 1 if they have previously had a stroke\n",
        "* **prevalentHyp**:    (binary) 1 if they prevalent hypertension\n",
        "* **diabetes**:        (binary) 1 if they are diabetic\n",
        "* **totChol**:         total cholesterol in mg/dL\n",
        "* **sysBP (Target)**:           systolic blood pressure\n",
        "* **diaBP**:           diastolic blood pressure in mmHg\n",
        "* **BMI**:             Body Mass Index\n",
        "* **heartRate**:       heart rate in beats/minute\n",
        "* **glucose**:         glucose level in mg/dL  \n",
        "* **TenYearCHD (Target)**:  (binary) risk of cardiovascular heart disease\n"
      ]
    },
    {
      "cell_type": "markdown",
      "metadata": {
        "id": "FDYzjNhylLHL"
      },
      "source": [
        "Linear regression (5 marks)\n",
        "---\n",
        "In this question, you will use a simple linear regression model to predict the systolic blood pressure (`sysBP`) for a person. You should use `LinearRegression` with default parameters. Complete the following excercises:\n",
        "\n",
        ">i) Train a model with the following features: ['male', 'age', 'diabetes', 'glucose', 'prevalentStroke', 'diaBP', 'currentSmoker']\\\\['male', 'age', 'diabetes', 'BPMeds', 'heartRate', 'diaBP', 'currentSmoker']\\\\['male', 'age', 'diabetes', 'totChol', 'prevalentHyp', 'diaBP', 'currentSmoker'].\n",
        "\n",
        ">ii) What is the $R^2$ of your model?  (1 marks)\n",
        "\n",
        ">iii) If someone [is a male (male)]\\\\[is on blood pressure medication (BPMeds)]\\\\[has previously had a stroke (prevalentStroke)][is currently a smoker (currentSmoker)]\\\\[is diabetic (diabetes)]\\\\[has prevalant hypertensions(prevalentHyp)], how much higher do you expect their systolic BP to be compared to someone who is not? (1 marks)  \n",
        "\n",
        ">iv) What is the expected difference in systolic BP between a [40 year old male or a 30 year old female]\\\\[35 year old smoker or a 25 year old non-smoker]\\\\[a 80 year old diabetic or 50 year old non-diabetic]? Assume that they are otherwise identical. (1 marks)"
      ]
    },
    {
      "cell_type": "code",
      "metadata": {
        "id": "-ttk6fKtl7_d",
        "outputId": "f15059e6-21bd-46ec-b713-abc8e609bac5",
        "colab": {
          "base_uri": "https://localhost:8080/",
          "height": 170
        }
      },
      "source": [
        "# Write your code here.\n",
        "\n",
        "# -------------------\n",
        "\n",
        "# Part i\n",
        "feature_list = ['male', 'age', 'diabetes', 'glucose', 'prevalentStroke', 'diaBP', 'currentSmoker']\n",
        "# OR\n",
        "# feature_list = ['male', 'age', 'diabetes', 'BPMeds', 'heartRate', 'diaBP', 'currentSmoker']\n",
        "# feature_list = ['male', 'age', 'diabetes', 'totChol', 'prevalentHyp', 'diaBP', 'currentSmoker']\n",
        "# Make dataset   \n",
        "X = df[feature_list]\n",
        "y = df.sysBP\n",
        "# Train model\n",
        "mdl = LinearRegression()\n",
        "mdl.fit(X, y)\n",
        "\n",
        "# Part ii\n",
        "print(f'The R^2 is {mdl.score(X, y)}')\n",
        "\n",
        "# Part iii\n",
        "coefs = pd.DataFrame(mdl.coef_).T\n",
        "coefs.columns=X.columns\n",
        "male_difference = coefs['male'].abs()\n",
        "# OR\n",
        "smoker_difference = coefs['currentSmoker'].abs()\n",
        "diabetic_difference = coefs['diabetes'].abs()\n",
        "\n",
        "print(f'The difference is: \\n \\t {male_difference[0]} for males,\\n\\\n",
        "\\t {smoker_difference[0]} for current smokers,\\n\\\n",
        "\\t {diabetic_difference[0]} for diabetics')\n",
        "# Part iv\n",
        "male = coefs['male'].values + 40 * coefs['age'].values\n",
        "female = 30 * coefs['age'].values\n",
        "print(f'male has a BP that is {np.abs(male[0] - female[0])} higher than the female')\n",
        "\n",
        "# OR\n",
        "smoker = coefs['currentSmoker'].values + 35 * coefs['age'].values\n",
        "non_smoker = 25 * coefs['age'].values\n",
        "print(f'Smoker has a BP that is {np.abs(smoker[0] - non_smoker[0])} higher than the non-smoker')\n",
        "\n",
        "diabetic = coefs['diabetes'].values + 80 * coefs['age'].values\n",
        "non_diabetic = 50 * coefs['age'].values\n",
        "print(f'Diabetic has a BP that is {np.abs(diabetic[0] - non_diabetic[0])} higher than the non-diabetic')\n",
        "\n",
        "# -------------------"
      ],
      "execution_count": 3,
      "outputs": [
        {
          "output_type": "stream",
          "text": [
            "The R^2 is 0.6817304102128598\n",
            "The difference is: \n",
            " \t 3.6747840137886603 for males,\n",
            "\t 0.897230615113782 for current smokers,\n",
            "\t 0.8843024417223241 for diabetics\n",
            "male has a BP that is 2.2115145666749605 higher than the female\n",
            "Smoker has a BP that is 6.7835291955773975 higher than the non-smoker\n",
            "Diabetic has a BP that is 18.543198183113184 higher than the non-diabetic\n"
          ],
          "name": "stdout"
        }
      ]
    },
    {
      "cell_type": "code",
      "metadata": {
        "id": "8EZcNJso8lZ4"
      },
      "source": [
        "\n",
        "# Part i\n",
        "feature_list = ['male', 'age', 'diabetes', 'glucose', 'prevalentStroke', 'diaBP', 'currentSmoker']\n",
        "# OR\n",
        "# feature_list = ['male', 'age', 'diabetes', 'BPMeds', 'heartRate', 'diaBP', 'currentSmoker']\n",
        "# feature_list = ['male', 'age', 'diabetes', 'totChol', 'prevalentHyp', 'diaBP', 'currentSmoker']\n",
        "# Make dataset   \n",
        "X = df.filter(feature_list)"
      ],
      "execution_count": 4,
      "outputs": []
    },
    {
      "cell_type": "markdown",
      "metadata": {
        "id": "kfDwAkjJmixb"
      },
      "source": [
        "___\n",
        "## __Answer__:\n",
        "\n",
        "**Part i)** 0.682\\0.689\\0.503\n",
        "\n",
        "**Part ii)** -2.08\\25.34\\2.34\\0.04\\-0.08\\32.15\n",
        "\n",
        "**Part iii)** Male higher by 6.26\\Smoker is higher by 6.08\\Diabetic is higher by 5.39\n",
        "\n",
        "___"
      ]
    },
    {
      "cell_type": "markdown",
      "metadata": {
        "id": "8sTJmq2Tnulf"
      },
      "source": [
        "## Logistic regression (5 marks)\n",
        "\n",
        "In this question, you will use logistic regression to predict risk of heart disease (`TenYearCHD`) using all of the other data as features. Complete the following excercises:\n",
        "\n",
        "1. Fit a logistic regression model is [a maximum iteration limit of 3250 and the sag solver]/[a l1 penalty and the liblinear solver]\n",
        "2. What is the accuracy of your model?\n",
        "3. What is the odds that a person who [previously had a stroke]/[is a male]/[is currently a smoker] also has a risk of heart disease?\n",
        "4. What threshold should you choose for your model in order to achieve a [90% true positive rate/5% false positive rate]. "
      ]
    },
    {
      "cell_type": "code",
      "metadata": {
        "id": "WxwZu8xdSYT9",
        "outputId": "0122b1cb-c86f-4d90-c687-601608a97806",
        "colab": {
          "base_uri": "https://localhost:8080/",
          "height": 120
        }
      },
      "source": [
        "# Write your code here.\n",
        "\n",
        "# -------------------\n",
        "\n",
        "X = df.drop(columns=['TenYearCHD'])\n",
        "y = df.TenYearCHD\n",
        "\n",
        "# Part 1\n",
        "mdl = LogisticRegression(max_iter=3250,solver='sag')\n",
        "# OR\n",
        "# mdl = LogisticRegression(penalty='l1', solver='liblinear')\n",
        "mdl.fit(X, y)\n",
        "\n",
        "# Part 2 \n",
        "print(f'The accuracy of the model is {mdl.score(X, y):.3f}')\n",
        "\n",
        "# Part 3\n",
        "coefs = pd.DataFrame(mdl.coef_, columns=X.columns)\n",
        "person_who = 'prevalentStroke'  \n",
        "# OR \n",
        "# person_who = 'male'  \n",
        "# person_who = 'currentSmoker'  \n",
        "odds = np.exp(coefs[person_who][0])\n",
        "print(f'The odds for a person who is a {person_who} is {odds:.3f}')\n",
        "\n",
        "# Part 4\n",
        "y_pred_prob = mdl.predict_proba(X).T[1]  # Predictions without threshold \n",
        "fpr, tpr, threshold = roc_curve(y, y_pred_prob)  \n",
        "tpr_target_high = np.argwhere(tpr>=0.9)[0,0]\n",
        "tpr_target_low = np.argwhere(tpr>=0.9)[-1,0]\n",
        "fpr_target = np.argwhere(fpr>=0.05)[0,0]\n",
        "new_tpr_treshold_low = threshold[tpr_target_low]\n",
        "new_tpr_treshold_high= threshold[tpr_target_high]\n",
        "new_fpr_treshold = threshold[fpr_target]\n",
        "print(f'The lowest threshold that achieves 90% TPR is {new_tpr_treshold_low:.5}')\n",
        "print(f'The highest threshold that achieves 90% TPR is {new_tpr_treshold_high:.5}')\n",
        "print(f'The lowest threshold that achieves 5% FPR is {new_fpr_treshold:.5}')\n",
        "# -------------------"
      ],
      "execution_count": 5,
      "outputs": [
        {
          "output_type": "stream",
          "text": [
            "The accuracy of the model is 0.851\n",
            "The odds for a person who is a prevalentStroke is 1.086\n",
            "The lowest threshold that achieves 90% TPR is 0.012963\n",
            "The highest threshold that achieves 90% TPR is 0.084471\n",
            "The lowest threshold that achieves 5% FPR is 0.3287\n"
          ],
          "name": "stdout"
        }
      ]
    },
    {
      "cell_type": "code",
      "metadata": {
        "id": "c2xPE5DVD7z-"
      },
      "source": [
        ""
      ],
      "execution_count": 5,
      "outputs": []
    }
  ]
}