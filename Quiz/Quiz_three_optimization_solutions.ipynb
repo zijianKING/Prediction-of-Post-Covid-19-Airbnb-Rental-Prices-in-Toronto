{
  "nbformat": 4,
  "nbformat_minor": 0,
  "metadata": {
    "colab": {
      "name": "Quiz_three_solutions_2020.ipynb",
      "provenance": [],
      "collapsed_sections": []
    },
    "kernelspec": {
      "name": "python3",
      "display_name": "Python 3"
    }
  },
  "cells": [
    {
      "cell_type": "markdown",
      "metadata": {
        "id": "4eubM9ej9ky1"
      },
      "source": [
        "<center>\n",
        "    <h3>University of Toronto</h3>\n",
        "    <h3>Department of Mechanical and Industrial Engineering</h3>\n",
        "    <h3>MIE368 Analytics in Action </h3>\n",
        "    <h3>(Fall 2020)</h3>\n",
        "    <hr>\n",
        "    <h1>Quiz 3: Optimization Solutions</h1>\n",
        "    <h3>October 8, 2020</h3>\n",
        "</center>"
      ]
    },
    {
      "cell_type": "markdown",
      "metadata": {
        "id": "h3Y_sBBtvAyg"
      },
      "source": [
        "Question 2 Bank (/1)\n",
        "---\n",
        "\n",
        "\n",
        "\n",
        ">Q. Consider a linear programming problem that maximizes some objective subject to certain constraints. If we add an additional set of constraints onto this problem (without making the problem infeasible), the optimal objective value of this problem will be: \n",
        ">> a) lower, b) higher, c) the same, **d) either lower or remain the same**, e) either higher or remain the same\n",
        "\n",
        ">Q. Consider a linear programming problem that minimizes some objective subject to certain constraints. If we add an additional set of constraints onto this problem (without making the problem infeasible), the optimal objective value of this problem will be: \n",
        ">> a) lower, b) higher, c) the same, d) either lower or remain the same, **e) either higher or remain the same**\n",
        "\n",
        "> "
      ]
    },
    {
      "cell_type": "markdown",
      "metadata": {
        "id": "JPf6wYxZY8QS"
      },
      "source": [
        "Questions 3-5 (/4 total)\n",
        "---\n",
        "\n",
        "Consider the following knapsack problem:\n",
        "\n",
        "\\begin{align}\n",
        "\\underset{x_1, x_2, x_3, x_4}{\\text{maximize}} \\quad & 3x_1 + 2x_2 - 4x_3 - 2x_4\\\\\n",
        "\\text{subject to} \\quad & 3x_1 + 3x_2 + 3x_3 \\leq 4\\\\\n",
        "& x_1,x_2,x_3,x_4 \\in \\{0,1\\}.\n",
        "\\end{align}"
      ]
    },
    {
      "cell_type": "markdown",
      "metadata": {
        "id": "vcLlohQ6ZfGb"
      },
      "source": [
        "Question 3 (/1)\n",
        "---\n",
        "\n",
        "> Q. What is the optimal objective value? \n",
        ">>**3**, since optimal solution is $x_1$ = 1 with all other variables are zero."
      ]
    },
    {
      "cell_type": "markdown",
      "metadata": {
        "id": "owDOxwLZwPBr"
      },
      "source": [
        "Question 4 (/2)\n",
        "---\n",
        "\n",
        ">Q. Suppose we now add the following constraint to the knapsack problem: $-x_2 - x_3 \\leq -1$. What is the objective value? \n",
        ">> **2**\n",
        "\n",
        ">Q. Explain your answer in at most 2 sentences. \n",
        ">> The constraint says that at least one of $x_2$ or $x_3$ has to be non-zero. The objective is highest when $x_2 = 1$ and $x_3 = 0$, which leads to an objective value of 2. "
      ]
    },
    {
      "cell_type": "markdown",
      "metadata": {
        "id": "JfWbxtcLaVXB"
      },
      "source": [
        "Question 5 Bank (/1)\n",
        "---\n",
        "\n",
        "> Q. Ignoring the previous question, if we instead allow for $x_2$ to be a continuous value between 0 and 1, i.e., $x_2 \\in [0,1]$, what would happen to the optimal objective value?\n",
        "\n",
        ">> **a) increase**, b) decrease, c) stay the same\n",
        "\n",
        "> Q. Ignoring the previous question, if we instead allow for $x_1$ to be a continuous value between 0 and 1, i.e., $x_1 \\in [0,1]$, what would happen to the optimal objective value?\n",
        "\n",
        ">> a) increase, b) decrease, **c) stay the same**"
      ]
    },
    {
      "cell_type": "markdown",
      "metadata": {
        "id": "NFZ3cIAmbbGF"
      },
      "source": [
        "Question 6 (/2)\n",
        "---\n",
        "> Q. Consider the standard portfolio optimization problem presented in the lab, and assume gamma is greater than zero. If we know that all the stocks are uncorrelated, i.e., move independently of each other, then we would simply invest in the stock with the highest expected return. True or false? Justify your answer using at most 2 sentences. No points will be given for an answer without explanation.\n",
        "\n",
        ">> This is false. Uncorrelated stocks means that the covariance between stocks are zero, but you must still account for the the variance of individual stocks. In particular, the statement would be false if the stock with the highest return also had a much higher variance than that of the other stocks, and thus would not lead the best risk-adjusted return. \n",
        "\n",
        ">> Grading: To get full marks, you need to have \"used\" the information about stocks being uncorrelated, for example, by explicitly stating that uncorrelated stocks imply zero covariance between stocks, but that variance of a single stock still matters. This is important, because this statement would be true if the stock with the highest expected return also had low variance. So a general or vague statement about diversifying your portfolio without explicitly giving the reason why was not sufficient. "
      ]
    },
    {
      "cell_type": "markdown",
      "metadata": {
        "id": "y81OoVNtoXLC"
      },
      "source": [
        "# Section Two Instructions\n",
        "\n",
        "*   Please use this Colab notebook to solve the questions in the coding section of Quiz Two. \n",
        "* Run the first codeblock to import the necessary packages and data for this quiz.\n",
        "*  Any additional code you will need to answer the questions can be added to this notebook. Please remember to copy and paste the code at the bottom of the Quercus quiz after each coding question."
      ]
    },
    {
      "cell_type": "code",
      "metadata": {
        "id": "HfydGB1j92JF"
      },
      "source": [
        "\"\"\"Run this code before starting the quiz\"\"\"\n",
        "# Import packages\n",
        "import numpy as np\n",
        "import cvxpy as cp"
      ],
      "execution_count": null,
      "outputs": []
    },
    {
      "cell_type": "markdown",
      "metadata": {
        "id": "EbsuM5JH-I7S"
      },
      "source": [
        "___\n",
        "\n",
        "Consider the following knapsack problem:\n",
        "\n",
        "\\begin{align}\n",
        "\\underset{x_1, x_2, x_3, x_4, x_5}{\\text{maximize}} \\quad & x_1 + x_2 + x_3 + x_4 + x_5\\\\\n",
        "\\text{subject to} \\quad & 3x_1 + 3x_2 + 3x_3 + 2x_4 + x_5 \\leq 6.5\\\\\n",
        "& x_2,x_3,x_4,x_5 \\in \\{0,1\\}\\\\\n",
        "& x_1 \\in [0,2].\n",
        "\\end{align}\n",
        "\n"
      ]
    },
    {
      "cell_type": "markdown",
      "metadata": {
        "id": "Qzs9kVIlEe6L"
      },
      "source": [
        "## __Question__ (/3)\n",
        "\n",
        "Code up the model. In particular, create the variables (1pt), the objective (0.5pt) and the constraints (1.5pt), and solve the optimization problem. **Please remember to copy and paste your code into Quercus quiz.**"
      ]
    },
    {
      "cell_type": "code",
      "metadata": {
        "id": "ODHb-mGVdATi",
        "outputId": "b48b44c0-a863-4cb7-d57e-c030bd15f7be",
        "colab": {
          "base_uri": "https://localhost:8080/",
          "height": 34
        }
      },
      "source": [
        "# Write your code here\n",
        "\n",
        "# -------------------\n",
        "\n",
        "# Create the variables\n",
        "y = cp.Variable()\n",
        "x = cp.Variable(4,boolean=True)\n",
        "\n",
        "# Create the objective\n",
        "obj = cp.Maximize(y+x[0]+x[1]+x[2]+x[3]) \n",
        "\n",
        "# Create the constraints\n",
        "cons = []\n",
        "cons.append(3*y + x*[3,3,2,1] <= 6.5)   \n",
        "cons.append(y <= 2)\n",
        "prob = cp.Problem(obj,cons)\n",
        "prob.solve()\n",
        "\n",
        "# -------------------"
      ],
      "execution_count": null,
      "outputs": [
        {
          "output_type": "execute_result",
          "data": {
            "text/plain": [
              "3.1666666666666665"
            ]
          },
          "metadata": {
            "tags": []
          },
          "execution_count": 3
        }
      ]
    },
    {
      "cell_type": "markdown",
      "metadata": {
        "id": "poPXKc2SE9rx"
      },
      "source": [
        "## __Question__ (/1)\n",
        "\n",
        "Whati s the optimal objective value of the model? Answer the question in Quercus quiz."
      ]
    },
    {
      "cell_type": "code",
      "metadata": {
        "id": "fswbUuQFFKUm",
        "outputId": "2e5cb809-e7b6-434d-bbc6-1d4e393117f4",
        "colab": {
          "base_uri": "https://localhost:8080/",
          "height": 34
        }
      },
      "source": [
        "print(obj.value)"
      ],
      "execution_count": null,
      "outputs": [
        {
          "output_type": "stream",
          "text": [
            "3.1666666666666665\n"
          ],
          "name": "stdout"
        }
      ]
    },
    {
      "cell_type": "markdown",
      "metadata": {
        "id": "Ay-nsnWLdf4U"
      },
      "source": [
        "## __Question__ (/1)\n",
        "\n",
        "What is the line of code that adds the following constraint to the model:\n",
        "\n",
        "> At least one of the four binary variables must be non-zero.\n",
        "\n",
        "> At least two of the four binary variables must be non-zero.\n",
        "\n",
        "> At least three of the four binary variables must be non-zero. "
      ]
    },
    {
      "cell_type": "code",
      "metadata": {
        "id": "0dNoSq-Yeodm"
      },
      "source": [
        "# Write your code here\n",
        "\n",
        "# -------------------\n",
        "\n",
        "cons.append(cp.sum(x) >= 1)\n",
        "#cons.append(cp.sum(x) >= 2)\n",
        "#cons.append(cp.sum(x) >= 3)\n",
        "\n",
        "# -------------------"
      ],
      "execution_count": null,
      "outputs": []
    },
    {
      "cell_type": "markdown",
      "metadata": {
        "id": "4II93fNE4PHX"
      },
      "source": [
        "## __Question__ (/3)\n",
        "\n",
        "Consider the following portfolio optimization problem with 5 stocks, labeled A, B, C, D, E. The expected return of each stock is given below in this order, and the covariance matrix is also given. Below, we have provided the code for the portfolio optimization problem presented in the lab."
      ]
    },
    {
      "cell_type": "code",
      "metadata": {
        "id": "mxn_L2R04tjA",
        "outputId": "b58f435f-2adf-4e22-9460-6ec55d7e1c15",
        "colab": {
          "base_uri": "https://localhost:8080/",
          "height": 34
        }
      },
      "source": [
        "# Vector of expected returns for the 5 stocks \n",
        "mu = np.array([ 0.32, 0.14, 0.21,  0.24,  0.3 ])\n",
        "\n",
        "# Covariance matrix for the 5 stocks.\n",
        "Sigma = np.array([[ 0.09, -0.01, -0.06, -0.04,  0.02],\n",
        "                  [-0.01,  0.14,  0.03,  0.09,  0.02],\n",
        "                  [-0.06,  0.03,  0.14,  0.04, -0.03],\n",
        "                  [-0.04,  0.09,  0.04,  0.25, -0.  ],\n",
        "                  [ 0.02,  0.02, -0.03, -0.,    0.04]])\n",
        "\n",
        "# Gamme value for portfolio optmization model\n",
        "gamma = 1\n",
        "\n",
        "# Define variables for each stock\n",
        "x = cp.Variable(len(mu))\n",
        "\n",
        "# Calculate return and risk of portfolio\n",
        "ret = mu.T*x  # Sum of expected returns\n",
        "risk = cp.quad_form(x, Sigma)  # Sum of risk\n",
        "\n",
        "# Set objective\n",
        "obj = cp.Maximize(ret - gamma*risk)\n",
        "\n",
        "# Define generic set of constraints\n",
        "cons = []\n",
        "cons.append(cp.sum(x) == 1)\n",
        "cons.append(x >= 0)\n",
        "\n",
        "# Build and solve model\n",
        "prob = cp.Problem(obj, cons)\n",
        "prob.solve()"
      ],
      "execution_count": null,
      "outputs": [
        {
          "output_type": "execute_result",
          "data": {
            "text/plain": [
              "0.27342412642324304"
            ]
          },
          "metadata": {
            "tags": []
          },
          "execution_count": 6
        }
      ]
    },
    {
      "cell_type": "markdown",
      "metadata": {
        "id": "4QDFKjJb-H0w"
      },
      "source": [
        "## __Question__ (/1)\n",
        "\n",
        "> Q. What is the expected return of the portfolio (with gamma = 1)?"
      ]
    },
    {
      "cell_type": "code",
      "metadata": {
        "id": "IBF_zHf5aZdg",
        "outputId": "087bf873-877e-4fd7-c8e4-63933ede5adb",
        "colab": {
          "base_uri": "https://localhost:8080/",
          "height": 34
        }
      },
      "source": [
        "print('expected return of portfolio is {}'.format(np.round(ret.value,3)))"
      ],
      "execution_count": null,
      "outputs": [
        {
          "output_type": "stream",
          "text": [
            "expected return of portfolio is 0.296\n"
          ],
          "name": "stdout"
        }
      ]
    },
    {
      "cell_type": "markdown",
      "metadata": {
        "id": "m9exNnbjBI_C"
      },
      "source": [
        "## __Question__ (bank) (/1)\n",
        "\n",
        "> If I had \\$1000, and gamma = 1, how much money would I be investing in stock A? Round to the nearest dollar.\n",
        "\n",
        "> If I had \\$1000, and gamma = 1, how much money would I be investing in stock B? Round to the nearest dollar.\n",
        "\n",
        "> If I had \\$1000, and gamma = 1, how much money would I be investing in stock C? Round to the nearest dollar.\n",
        "\n"
      ]
    },
    {
      "cell_type": "code",
      "metadata": {
        "id": "o2CrdW_iFE6o",
        "outputId": "cef18615-10c1-4a2f-c4bd-10915c4ce5fd",
        "colab": {
          "base_uri": "https://localhost:8080/",
          "height": 34
        }
      },
      "source": [
        "np.round(x[0].value*1000)\n",
        "#np.round(x[3].value*1000)\n",
        "#np.round(x[2].value*1000)"
      ],
      "execution_count": null,
      "outputs": [
        {
          "output_type": "execute_result",
          "data": {
            "text/plain": [
              "349.0"
            ]
          },
          "metadata": {
            "tags": []
          },
          "execution_count": 5
        }
      ]
    },
    {
      "cell_type": "markdown",
      "metadata": {
        "id": "F5xzRyzh94Pc"
      },
      "source": [
        "## __Question__ (/1) \n",
        "\n",
        "> Q. Suppose we only care about the expected return of our portfolio, and not the risk (i.e., variance) of the portfolio. Which one line of code should we modify to generate this new portfolio optimization problem? Write the modified line of code below. "
      ]
    },
    {
      "cell_type": "code",
      "metadata": {
        "id": "WLHnVAtSbYH7"
      },
      "source": [
        "gamma = 0 #or obj = cp.Maximize(ret)"
      ],
      "execution_count": null,
      "outputs": []
    }
  ]
}