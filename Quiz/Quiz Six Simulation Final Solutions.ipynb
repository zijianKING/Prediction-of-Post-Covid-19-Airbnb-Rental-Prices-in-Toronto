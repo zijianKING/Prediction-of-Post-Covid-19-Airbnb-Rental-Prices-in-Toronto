{
  "nbformat": 4,
  "nbformat_minor": 0,
  "metadata": {
    "kernelspec": {
      "display_name": "Python 3",
      "language": "python",
      "name": "python3"
    },
    "language_info": {
      "codemirror_mode": {
        "name": "ipython",
        "version": 3
      },
      "file_extension": ".py",
      "mimetype": "text/x-python",
      "name": "python",
      "nbconvert_exporter": "python",
      "pygments_lexer": "ipython3",
      "version": "3.5.4"
    },
    "colab": {
      "name": "Quiz_Six_Simulation_solutions",
      "provenance": [],
      "collapsed_sections": []
    }
  },
  "cells": [
    {
      "cell_type": "markdown",
      "metadata": {
        "id": "heZduIOi3-gu"
      },
      "source": [
        "<center>\n",
        "    <h3>University of Toronto</h3>\n",
        "    <h3>Department of Mechanical and Industrial Engineering</h3>\n",
        "    <h3>MIE368 Analytics in Action </h3>\n",
        "    <h3>(Fall 2020)</h3>\n",
        "    <hr>\n",
        "    <h1>Quiz 6: Simulation</h1>\n",
        "    <h3>November 5, 2020</h3>\n",
        "</center>\n",
        "\n",
        "\n"
      ]
    },
    {
      "cell_type": "markdown",
      "metadata": {
        "id": "04NcJML_97n3"
      },
      "source": [
        "__Instructions__\n",
        "\n",
        "*   Please use this Colab notebook to solve the questions in the coding section of Quiz Six. \n",
        "* Run the first codeblock to import the necessary quiz packages and import the quiz data. \n",
        "*  **Please remember to copy and paste the code after each coding question.**"
      ]
    },
    {
      "cell_type": "code",
      "metadata": {
        "id": "XwX1D-Ln3-gz",
        "outputId": "f746163e-6d45-42bf-bff9-ef4c6580b26f",
        "colab": {
          "base_uri": "https://localhost:8080/"
        }
      },
      "source": [
        "# Import packages\n",
        "import numpy as np\n",
        "import pandas as pd\n",
        "\n",
        "# Make data\n",
        "s_players = pd.Series([112,115,130,127,142, 165, 124, 110], \n",
        "               index = ['P1', 'P2', 'P3', 'P4', 'P5', 'P6', 'P7','P8'], \n",
        "               name = 'Player Scores')\n",
        "\n",
        "# Print out data\n",
        "s_players"
      ],
      "execution_count": 19,
      "outputs": [
        {
          "output_type": "execute_result",
          "data": {
            "text/plain": [
              "P1    112\n",
              "P2    115\n",
              "P3    130\n",
              "P4    127\n",
              "P5    142\n",
              "P6    165\n",
              "P7    124\n",
              "P8    110\n",
              "Name: Player Scores, dtype: int64"
            ]
          },
          "metadata": {
            "tags": []
          },
          "execution_count": 19
        }
      ]
    },
    {
      "cell_type": "markdown",
      "metadata": {
        "id": "0LUp9U0r3-gv"
      },
      "source": [
        "\n",
        "In this quiz, you will simulate a series of 1v1 matches of a game between 8 different players. Each player is associated with a score representing their skill level. Specifically, for any two players A and B that go up against each other, player A will win with probability $\\frac{score_A}{score_A + score_B}$, and player B will win with probability $\\frac{score_B}{score_A + score_B}$. Thus, the higher the score relative to the opponent, the higher likelihood of winning.\n",
        "The Series `s_players` contains the score of each player P1, ..., P8. \n"
      ]
    },
    {
      "cell_type": "markdown",
      "metadata": {
        "id": "hH0Ol8xmg2Ah"
      },
      "source": [
        "## __Question 2__ (/2)\n",
        "\n",
        "Below, complete the function which samples a single 1v1 match between two players and outputs the winner. Use `np.random.choice()` in the function.  "
      ]
    },
    {
      "cell_type": "code",
      "metadata": {
        "id": "3qDE7OwxgDG_",
        "outputId": "db86cf81-ffce-4212-89a7-0813705c75c5",
        "colab": {
          "base_uri": "https://localhost:8080/",
          "height": 35
        }
      },
      "source": [
        "def sample_winner(s, player_a, player_b):\n",
        "\n",
        "  ''' The sample_winner() function takes as input a pandas Series of players and skill scores,\n",
        "  labeled s, as well as 2 players within s, labeled player_a and player_b, and simulates a \n",
        "  1v1 match between the two players. The function ouputs the winner of the simulated match.'''\n",
        "\n",
        "  # --------- Write your code here -------------\n",
        "\n",
        "  prob_a = s.loc[player_a]/(s.loc[player_a] + s.loc[player_b])   \n",
        "  winner = np.random.choice([player_a, player_b], p = [prob_a, 1-prob_a]) \n",
        "\n",
        "  # --------------------------------------------\n",
        "  return winner\n",
        "\n",
        "sample_winner(s_players, \"P1\", \"P2\")  # should output either \"P1\" or \"P2\""
      ],
      "execution_count": 20,
      "outputs": [
        {
          "output_type": "execute_result",
          "data": {
            "application/vnd.google.colaboratory.intrinsic+json": {
              "type": "string"
            },
            "text/plain": [
              "'P1'"
            ]
          },
          "metadata": {
            "tags": []
          },
          "execution_count": 20
        }
      ]
    },
    {
      "cell_type": "markdown",
      "metadata": {
        "id": "7WQnmUqjSv9L"
      },
      "source": [
        "## __Question 3__ (/1)\n",
        "\n",
        "Write a function that does the same thing as from Question 1 (i.e., samples a single match between two players and outputs the winner), but this time using the `np.random.rand()` function instead of the `np.random.choice()` function. "
      ]
    },
    {
      "cell_type": "code",
      "metadata": {
        "id": "X42UbPFrRX__"
      },
      "source": [
        "# --------- Write your code here -------------\n",
        "\n",
        "def sample_winner_2(s, player_a, player_b):\n",
        "\n",
        "  prob_a = s[player_a]/(s[player_a] + s[player_b])\n",
        "  if np.random.rand() <= s[player_a]/(s[player_a] + s[player_b]):\n",
        "    winner = player_a\n",
        "  else:\n",
        "    winner = player_b\n",
        "      \n",
        "  return winner\n",
        "\n",
        "# --------------------------------------------\n"
      ],
      "execution_count": 21,
      "outputs": []
    },
    {
      "cell_type": "markdown",
      "metadata": {
        "id": "_G7Nnx39TAFI"
      },
      "source": [
        "## __Question 4__ (/3)\n",
        "\n",
        "Complete the single_round_robin() function to simulate a single-round robin tournament. Recall that this is a tournament in which each player plays all other players once. The winner of each 1v1 match should get 1 point, whereas the loser gets -1 point. At the end of the tournament, the player with the highest number of points wins. In this function, use your `sample_winner()` function to simulate the 1v1 matches between two players. Paste your code below. \n",
        "\n",
        "\n",
        "\n"
      ]
    },
    {
      "cell_type": "code",
      "metadata": {
        "id": "PrbmX1wkTbAa",
        "outputId": "206b09d8-6be0-4ccd-e0db-60778a060754",
        "colab": {
          "base_uri": "https://localhost:8080/",
          "height": 35
        }
      },
      "source": [
        "def single_round_robin(s):\n",
        "\n",
        "  '''The function takes in a pandas Series of players and skill scores, and simulates a \n",
        "  single-round robin tournament, and outputs the player with the highest score'''\n",
        "\n",
        "  s_points = pd.Series(\n",
        "      data = 0,  # All values in series are set to zero\n",
        "      index=s.index  # Indicies match the input s\n",
        "      )\n",
        "\n",
        "  # --------- Write your code here -------------\n",
        "\n",
        "  for player_1_idx, player_1 in enumerate(s.index):\n",
        "    for player_2 in s.index[player_1_idx + 1 :]:     # THIS SIMULATES A SINGLE-ROUND ROBIN.\n",
        "\n",
        "  #for player_1 in s.index:           # THIS COMMENTED-OUT CODE SIMULATES A TWO-ROUND ROBIN. THIS IS INCORRECT.\n",
        "  #  for player_2 in s.index:\n",
        "  #    if player_1 == player_2:\n",
        "  #      continue\n",
        "      \n",
        "      winner = sample_winner(s, player_1, player_2)  \n",
        "      if winner == player_1:\n",
        "        s_points.loc[player_1] += 1\n",
        "        s_points.loc[player_2] -= 1\n",
        "      else:\n",
        "        s_points.loc[player_2] += 1\n",
        "        s_points.loc[player_1] -= 1\n",
        "    \n",
        "  # --------------------------------------------\n",
        "\n",
        "  return s_points.idxmax()\n",
        "\n",
        "single_round_robin(s_players)"
      ],
      "execution_count": 22,
      "outputs": [
        {
          "output_type": "execute_result",
          "data": {
            "application/vnd.google.colaboratory.intrinsic+json": {
              "type": "string"
            },
            "text/plain": [
              "'P8'"
            ]
          },
          "metadata": {
            "tags": []
          },
          "execution_count": 22
        }
      ]
    },
    {
      "cell_type": "markdown",
      "metadata": {
        "id": "Hdrvcq3JWKGz"
      },
      "source": [
        "## __Question 5__ (/2)\n",
        "\n",
        "Explain why using the `idxmax()` method in the `single_round_robin()` simulation function may be unfair for the tournament players. Then, present one way to remedy this problem. You do not need to modify the code, we're just looking for an explanation. Please write no more than 2 sentences.\n",
        "\n"
      ]
    },
    {
      "cell_type": "markdown",
      "metadata": {
        "id": "NzEW1gOjBVQZ"
      },
      "source": [
        "___\n",
        "**Answer:** The idxmax() method only returns the first player in the list `s.index` that has the highest score, which is unfair when there are multiple players which also receive the same score at the end of the tournament. To remedy this problem, we can either randomly pick one of the players with the highest score, design a new tournament among the players with the highest score, or allow ties. \n",
        "___"
      ]
    },
    {
      "cell_type": "markdown",
      "metadata": {
        "id": "Y7z5P99LYt-c"
      },
      "source": [
        "## __Question 6/7__ (/2)\n",
        "\n",
        "Complete the `monte_carlo()` function, which simulates `n_trials` number of single-round robin tournaments. Use your `single_round_robin()` function within this new `monte_carlo()` function. \n",
        "\n",
        "Use the completed function to simulate 100 trials of your single-round robin tournament. \n",
        "\n"
      ]
    },
    {
      "cell_type": "code",
      "metadata": {
        "id": "kpChbMM4Yvc9",
        "outputId": "23a628d8-043c-48a8-dd5a-dd18bcdb8e74",
        "colab": {
          "base_uri": "https://localhost:8080/"
        }
      },
      "source": [
        "def monte_carlo(s, n_trials):\n",
        "  \n",
        "  '''The function takes in a pandas Series of players and skill scores, labeled s,\n",
        "  and n_trials, the number of trials of a single-round robin tournament to simulate.'''\n",
        "\n",
        "  s_win_prob = pd.Series(\n",
        "      data = 0.00,  # All values in series are set to zero\n",
        "      index=s.index  # Indicies match the input s\n",
        "      )\n",
        "  # --------- Write your code here -------------\n",
        "\n",
        "  for i in range(n_trials):\n",
        "    round_robin_winner = single_round_robin(s)\n",
        "    s_win_prob[round_robin_winner] += 1/n_trials\n",
        "\n",
        "  # --------------------------------------------\n",
        "\n",
        "  return s_win_prob\n",
        "\n",
        "np.random.seed(0)\n",
        "monte_carlo(s_players, 100)"
      ],
      "execution_count": 23,
      "outputs": [
        {
          "output_type": "execute_result",
          "data": {
            "text/plain": [
              "P1    0.18\n",
              "P2    0.13\n",
              "P3    0.16\n",
              "P4    0.05\n",
              "P5    0.18\n",
              "P6    0.19\n",
              "P7    0.10\n",
              "P8    0.01\n",
              "dtype: float64"
            ]
          },
          "metadata": {
            "tags": []
          },
          "execution_count": 23
        }
      ]
    },
    {
      "cell_type": "markdown",
      "metadata": {
        "id": "zZTbt7obAVf2"
      },
      "source": [
        "## __Question 8/9__ (/2)\n",
        "\n",
        "We will now simulate a single-elimination tournament. Complete the `single_elimination()` function, simulating a single-elimination tournament where players are placed randomly into seeds, and determine who wins this tournament. Use your previous `sample_winner()` function to simulate each 1v1 match between two players.\n",
        "\n",
        "Who wins this tournament? No points will be given for answers without code.\n",
        "\n",
        " "
      ]
    },
    {
      "cell_type": "code",
      "metadata": {
        "id": "bycYpfI_-M7z",
        "outputId": "173bf003-12d9-43af-dcad-593eb481fef1",
        "colab": {
          "base_uri": "https://localhost:8080/"
        }
      },
      "source": [
        "def single_elimination(s):\n",
        "  ''' The function takes in a Series representing a list of players with their skill score,\n",
        "  constructs a single-elimination tournament with randomized player seedings, and outputs \n",
        "  the winner of the tournament. '''\n",
        "\n",
        "  # Shuffle the players in a random seed\n",
        "  players_remaining = np.array(s.index)\n",
        "  players_remaining = np.random.permutation(players_remaining)\n",
        "    \n",
        "  # --------- Write your code here -------------\n",
        "\n",
        "  while len(players_remaining) > 1:\n",
        "    # Assign matchups\n",
        "    n_matches = int(len(players_remaining) / 2)\n",
        "    matchups = players_remaining.reshape(n_matches, 2)\n",
        "    \n",
        "    winners = []\n",
        "    for ix in range(n_matches):\n",
        "      p1, p2 = matchups[ix,0], matchups[ix,1]\n",
        "\n",
        "      winner = sample_winner(s, p1, p2)\n",
        "      winners.append(winner)\n",
        "        \n",
        "    players_remaining = np.array(winners)\n",
        "        \n",
        "  # -------------------------------------------- \n",
        "\n",
        "  return players_remaining\n",
        "\n",
        "np.random.seed(3)\n",
        "single_elimination(s_players)\n"
      ],
      "execution_count": 24,
      "outputs": [
        {
          "output_type": "execute_result",
          "data": {
            "text/plain": [
              "array(['P4'], dtype='<U2')"
            ]
          },
          "metadata": {
            "tags": []
          },
          "execution_count": 24
        }
      ]
    },
    {
      "cell_type": "markdown",
      "metadata": {
        "id": "2BtFB8ayFn2J"
      },
      "source": [
        "## __Question 10/11__ (/3)\n",
        "\n",
        "Modify your previous function to create a modified single-elimination tournament ( you can call this `single_elimination_mod()` ), where the final round (between the 2 finalists) is a 3-round match instead of a 1 round. The player who wins 2 or more of these 3 games wins the overall tournament.\n",
        "\n",
        "Which player wins this new tournament? No points will be given for answers without code."
      ]
    },
    {
      "cell_type": "code",
      "metadata": {
        "id": "SRGd7eokE09G",
        "outputId": "7809a688-118c-4b32-8297-53e99ae3c621",
        "colab": {
          "base_uri": "https://localhost:8080/",
          "height": 35
        }
      },
      "source": [
        "def single_elimination_mod(s):\n",
        "  ''' The function takes in a Series representing a list of players with their skill score,\n",
        "  constructs a single-elimination tournament with randomized player seedings, and outputs \n",
        "  the winner of the tournament. '''\n",
        "\n",
        "  # Shuffle the players in a random seed\n",
        "  players_remaining = np.array(s.index)\n",
        "  players_remaining = np.random.permutation(players_remaining)\n",
        "    \n",
        "  # --------- Write your code here -------------\n",
        "\n",
        "  while len(players_remaining) > 2:   # NEED A FUNCTION THAT STOPS THIS WHILE LOOP WHEN len(players_remaining) > 2. \n",
        "    # Assign matchups\n",
        "    n_matches = int(len(players_remaining) / 2)\n",
        "    matchups = players_remaining.reshape(n_matches, 2)\n",
        "    \n",
        "    winners = []\n",
        "    for ix in range(n_matches):\n",
        "      p1, p2 = matchups[ix,0], matchups[ix,1]\n",
        "\n",
        "      winner = sample_winner(s, p1, p2)\n",
        "      winners.append(winner)\n",
        "        \n",
        "    players_remaining = np.array(winners)\n",
        "\n",
        "\n",
        "  player_1 = players_remaining[0]\n",
        "  player_2 = players_remaining[1]\n",
        "  a = sample_winner(s, player_1, player_2)   # NEED THREE ADDITIONAL GAMES ONCE WHILE LOOP IS STOPPED\n",
        "  b = sample_winner(s, player_1, player_2)\n",
        "  c = sample_winner(s, player_1, player_2)\n",
        "  player_1_score = 0\n",
        "  for i in a,b,c:      # NEED TO TALLY UP SCORES\n",
        "    if a == player_1:\n",
        "      player_1_score +=1\n",
        "    if b == player_1:\n",
        "      player_1_score +=1\n",
        "    if c == player_1:\n",
        "      player_1_score +=1\n",
        "    if player_1_score >= 2:  # DETERMINE WHO HAS THE MOST POINTS\n",
        "      return player_1\n",
        "    else:\n",
        "      return player_2\n",
        "\n",
        "  # -------------------------------------------- \n",
        "\n",
        "np.random.seed(3)\n",
        "single_elimination_mod(s_players)\n",
        "\n"
      ],
      "execution_count": 25,
      "outputs": [
        {
          "output_type": "execute_result",
          "data": {
            "application/vnd.google.colaboratory.intrinsic+json": {
              "type": "string"
            },
            "text/plain": [
              "'P6'"
            ]
          },
          "metadata": {
            "tags": []
          },
          "execution_count": 25
        }
      ]
    },
    {
      "cell_type": "markdown",
      "metadata": {
        "id": "ywUGXLaN36O-"
      },
      "source": [
        "## __Question 12/13__(/2)\n",
        "\n",
        "Modify your previous function to create a modified single-elimination tournament ( you can call this `single_elimination_mod_2()` ), where in the final round, the two finalists must keep playing 1v1 matches until one of them wins by more than 2 games to win the tournament.\n",
        "Which player wins this new tournament? No points will be given for answers without code."
      ]
    },
    {
      "cell_type": "code",
      "metadata": {
        "id": "TAXSUqlg35Wa",
        "outputId": "918b5a27-e540-4f1e-82ce-beff974a74a1",
        "colab": {
          "base_uri": "https://localhost:8080/",
          "height": 35
        }
      },
      "source": [
        "np.random.seed(3)\n",
        "\n",
        "def single_elimination_mod_2(s):\n",
        "  '''The same function as single_elimination(), with the exception that the two finalists\n",
        "  of the tournament play 3 games instead of 1.'''\n",
        "    \n",
        "  # Shuffle the players in a random seed\n",
        "  players_remaining = np.array(s.index)\n",
        "  players_remaining = np.random.permutation(players_remaining)\n",
        "    \n",
        "  # --------- Write your code here -------------\n",
        "    \n",
        "  while len(players_remaining) > 2:\n",
        "    # Assign matchups\n",
        "    n_matches = int(len(players_remaining) / 2)\n",
        "    matchups = players_remaining.reshape(n_matches, 2) #breaks rows with 2 columns\n",
        "        \n",
        "    winners = []\n",
        "    for ix in range(n_matches):\n",
        "        p1, p2 = matchups[ix,0], matchups[ix,1]\n",
        "\n",
        "        winner = sample_winner(s, p1, p2)\n",
        "        if winner == p1:\n",
        "          winners.append(p1)\n",
        "        else:\n",
        "          winners.append(p2)\n",
        "            \n",
        "        players_remaining = np.array(winners)\n",
        "\n",
        "  # -------------------------------------------- \n",
        "  player_a = players_remaining[0]\n",
        "  player_b = players_remaining[1]\n",
        "  a_score, b_score = 0, 0\n",
        "  while (a_score - b_score) <= 2 and (a_score - b_score) >= -2:   #A WHILE LOOP TRACKING THE DIFFERENCE BETWEEN THE SCORES\n",
        "    winner = sample_winner(s, player_a, player_b)\n",
        "    if winner == player_a:\n",
        "      a_score += 1\n",
        "    if winner == player_b:\n",
        "      b_score += 1\n",
        "  \n",
        "  if a_score > b_score:\n",
        "    return player_a\n",
        "  else:\n",
        "    return player_b\n",
        "  # -------------------------------------------- \n",
        "\n",
        "np.random.seed(3)\n",
        "single_elimination_mod_2(s_players)"
      ],
      "execution_count": 26,
      "outputs": [
        {
          "output_type": "execute_result",
          "data": {
            "application/vnd.google.colaboratory.intrinsic+json": {
              "type": "string"
            },
            "text/plain": [
              "'P6'"
            ]
          },
          "metadata": {
            "tags": []
          },
          "execution_count": 26
        }
      ]
    }
  ]
}