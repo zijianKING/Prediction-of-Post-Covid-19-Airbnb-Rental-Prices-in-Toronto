{
  "nbformat": 4,
  "nbformat_minor": 0,
  "metadata": {
    "colab": {
      "name": "Quiz_four_Predict_then_Optimize_solutions.ipynb",
      "provenance": [],
      "collapsed_sections": []
    },
    "kernelspec": {
      "name": "python3",
      "display_name": "Python 3"
    }
  },
  "cells": [
    {
      "cell_type": "markdown",
      "metadata": {
        "id": "4eubM9ej9ky1"
      },
      "source": [
        "<center>\n",
        "    <h3>University of Toronto</h3>\n",
        "    <h3>Department of Mechanical and Industrial Engineering</h3>\n",
        "    <h3>MIE368 Analytics in Action </h3>\n",
        "    <h3>(Fall 2020)</h3>\n",
        "    <hr>\n",
        "    <h1>Quiz 4: Predict then Optimize</h1>\n",
        "    <h3>October 22, 2020</h3>\n",
        "</center>"
      ]
    },
    {
      "cell_type": "markdown",
      "metadata": {
        "id": "h3Y_sBBtvAyg"
      },
      "source": [
        "# Section One\n",
        "\n",
        "\n",
        "---\n",
        "\n"
      ]
    },
    {
      "cell_type": "markdown",
      "metadata": {
        "id": "LMPzIXiJVY21"
      },
      "source": [
        "## __Question 1__ (/2)\n",
        "\n",
        ">Q. **Predictive vs Prescriptive**: Is this an example of predictive or prescriptive analytics: *determining the amount of rainfall that will occur next season*. Why? (One sentence MAX).\n",
        ">> A. This is *predictive* as we are just predicting rainfall and not influencing decison-making\n",
        "\n",
        "or \n",
        "\n",
        ">Q. **Predictive vs Prescriptive**: Is this an example of predictive or prescriptive analytics: *deciding how much of each crop to plant based on next season's rain forecast*. Why? (One sentence MAX).\n",
        ">> A. This is *prescriptive* as we are trying to make a decision on how much crops to plant.\n",
        "\n",
        "---\n",
        "***Question 1 Marking***\n",
        "\n",
        "---\n",
        "\n",
        "1.0 Correct category of analytics\n",
        "\n",
        "1.0 Must mention \"decision-making\" or \"influence actions\""
      ]
    },
    {
      "cell_type": "markdown",
      "metadata": {
        "id": "y81OoVNtoXLC"
      },
      "source": [
        "# Section Two \n",
        "\n",
        "---\n",
        "\n",
        "\n",
        "\n",
        "*   Please use this Colab notebook to solve the questions in the coding section of Quiz Four. \n",
        "* Run the first codeblocks to import the necessary packages and data for this quiz.\n",
        "* The second code block will split your dataset into a training and testing set. Please use these splits to perform the necessary analysis. \n",
        "*  Any additional code you will need to answer the questions can be added to this notebook. Please remember to copy and paste the code at the bottom of the Quercus quiz after each coding question."
      ]
    },
    {
      "cell_type": "code",
      "metadata": {
        "id": "HfydGB1j92JF",
        "outputId": "f528738b-fe8d-4df3-c19d-7072eb47b10c",
        "colab": {
          "base_uri": "https://localhost:8080/",
          "height": 225
        }
      },
      "source": [
        "#Run this code before starting the quiz\n",
        "\n",
        "# Import packages\n",
        "import matplotlib\n",
        "import matplotlib.pyplot as plt\n",
        "import numpy as np\n",
        "import pandas as pd\n",
        "import seaborn as sns\n",
        "from sklearn.metrics import confusion_matrix, roc_curve\n",
        "from sklearn.model_selection import train_test_split\n",
        "from sklearn.linear_model import LogisticRegression, LogisticRegressionCV\n",
        "import cvxpy as cp\n",
        "\n",
        "# Load data\n",
        "df = pd.read_csv(\"https://docs.google.com/uc?export=download&id=1dvqP7lz_I710lHxyIYwcju56H-LYShIp\")\n",
        "# set index\n",
        "df = df.set_index(['Team', 'SeasonEnd'])\n",
        "# Print out data head\n",
        "df.head()"
      ],
      "execution_count": 7,
      "outputs": [
        {
          "output_type": "execute_result",
          "data": {
            "text/html": [
              "<div>\n",
              "<style scoped>\n",
              "    .dataframe tbody tr th:only-of-type {\n",
              "        vertical-align: middle;\n",
              "    }\n",
              "\n",
              "    .dataframe tbody tr th {\n",
              "        vertical-align: top;\n",
              "    }\n",
              "\n",
              "    .dataframe thead th {\n",
              "        text-align: right;\n",
              "    }\n",
              "</style>\n",
              "<table border=\"1\" class=\"dataframe\">\n",
              "  <thead>\n",
              "    <tr style=\"text-align: right;\">\n",
              "      <th></th>\n",
              "      <th></th>\n",
              "      <th>W</th>\n",
              "      <th>PTS</th>\n",
              "      <th>oppPTS</th>\n",
              "      <th>FG</th>\n",
              "      <th>FGA</th>\n",
              "      <th>2P</th>\n",
              "      <th>2PA</th>\n",
              "      <th>3P</th>\n",
              "      <th>3PA</th>\n",
              "      <th>FT</th>\n",
              "      <th>FTA</th>\n",
              "      <th>ORB</th>\n",
              "      <th>DRB</th>\n",
              "      <th>AST</th>\n",
              "      <th>STL</th>\n",
              "      <th>BLK</th>\n",
              "      <th>TOV</th>\n",
              "      <th>Conference</th>\n",
              "      <th>CurrentPlayoffs</th>\n",
              "      <th>dffPTS</th>\n",
              "      <th>NextYearPlayoffs</th>\n",
              "    </tr>\n",
              "    <tr>\n",
              "      <th>Team</th>\n",
              "      <th>SeasonEnd</th>\n",
              "      <th></th>\n",
              "      <th></th>\n",
              "      <th></th>\n",
              "      <th></th>\n",
              "      <th></th>\n",
              "      <th></th>\n",
              "      <th></th>\n",
              "      <th></th>\n",
              "      <th></th>\n",
              "      <th></th>\n",
              "      <th></th>\n",
              "      <th></th>\n",
              "      <th></th>\n",
              "      <th></th>\n",
              "      <th></th>\n",
              "      <th></th>\n",
              "      <th></th>\n",
              "      <th></th>\n",
              "      <th></th>\n",
              "      <th></th>\n",
              "      <th></th>\n",
              "    </tr>\n",
              "  </thead>\n",
              "  <tbody>\n",
              "    <tr>\n",
              "      <th>Philadelphia 76ers</th>\n",
              "      <th>2014</th>\n",
              "      <td>19</td>\n",
              "      <td>8155</td>\n",
              "      <td>9012</td>\n",
              "      <td>3108</td>\n",
              "      <td>7150</td>\n",
              "      <td>2531</td>\n",
              "      <td>5303</td>\n",
              "      <td>577</td>\n",
              "      <td>1847</td>\n",
              "      <td>1362</td>\n",
              "      <td>1918</td>\n",
              "      <td>949</td>\n",
              "      <td>2556</td>\n",
              "      <td>1791</td>\n",
              "      <td>765</td>\n",
              "      <td>330</td>\n",
              "      <td>1384</td>\n",
              "      <td>0</td>\n",
              "      <td>0</td>\n",
              "      <td>-857</td>\n",
              "      <td>0</td>\n",
              "    </tr>\n",
              "    <tr>\n",
              "      <th>Detroit Pistons</th>\n",
              "      <th>2004</th>\n",
              "      <td>54</td>\n",
              "      <td>7388</td>\n",
              "      <td>6909</td>\n",
              "      <td>2747</td>\n",
              "      <td>6314</td>\n",
              "      <td>2414</td>\n",
              "      <td>5346</td>\n",
              "      <td>333</td>\n",
              "      <td>968</td>\n",
              "      <td>1561</td>\n",
              "      <td>2074</td>\n",
              "      <td>1014</td>\n",
              "      <td>2492</td>\n",
              "      <td>1702</td>\n",
              "      <td>659</td>\n",
              "      <td>570</td>\n",
              "      <td>1241</td>\n",
              "      <td>0</td>\n",
              "      <td>1</td>\n",
              "      <td>479</td>\n",
              "      <td>1</td>\n",
              "    </tr>\n",
              "    <tr>\n",
              "      <th>San Antonio Spurs</th>\n",
              "      <th>2004</th>\n",
              "      <td>57</td>\n",
              "      <td>7501</td>\n",
              "      <td>6909</td>\n",
              "      <td>2842</td>\n",
              "      <td>6434</td>\n",
              "      <td>2434</td>\n",
              "      <td>5294</td>\n",
              "      <td>408</td>\n",
              "      <td>1140</td>\n",
              "      <td>1409</td>\n",
              "      <td>2069</td>\n",
              "      <td>1029</td>\n",
              "      <td>2669</td>\n",
              "      <td>1676</td>\n",
              "      <td>661</td>\n",
              "      <td>537</td>\n",
              "      <td>1203</td>\n",
              "      <td>1</td>\n",
              "      <td>1</td>\n",
              "      <td>592</td>\n",
              "      <td>1</td>\n",
              "    </tr>\n",
              "    <tr>\n",
              "      <th>Indiana Pacers</th>\n",
              "      <th>2004</th>\n",
              "      <td>61</td>\n",
              "      <td>7493</td>\n",
              "      <td>7021</td>\n",
              "      <td>2753</td>\n",
              "      <td>6322</td>\n",
              "      <td>2304</td>\n",
              "      <td>5041</td>\n",
              "      <td>449</td>\n",
              "      <td>1281</td>\n",
              "      <td>1538</td>\n",
              "      <td>2014</td>\n",
              "      <td>965</td>\n",
              "      <td>2452</td>\n",
              "      <td>1774</td>\n",
              "      <td>726</td>\n",
              "      <td>411</td>\n",
              "      <td>1182</td>\n",
              "      <td>0</td>\n",
              "      <td>1</td>\n",
              "      <td>472</td>\n",
              "      <td>1</td>\n",
              "    </tr>\n",
              "    <tr>\n",
              "      <th>Cleveland Cavaliers</th>\n",
              "      <th>1997</th>\n",
              "      <td>42</td>\n",
              "      <td>7173</td>\n",
              "      <td>7022</td>\n",
              "      <td>2704</td>\n",
              "      <td>5972</td>\n",
              "      <td>2221</td>\n",
              "      <td>4688</td>\n",
              "      <td>483</td>\n",
              "      <td>1284</td>\n",
              "      <td>1282</td>\n",
              "      <td>1773</td>\n",
              "      <td>909</td>\n",
              "      <td>2159</td>\n",
              "      <td>1714</td>\n",
              "      <td>655</td>\n",
              "      <td>315</td>\n",
              "      <td>1188</td>\n",
              "      <td>0</td>\n",
              "      <td>0</td>\n",
              "      <td>151</td>\n",
              "      <td>1</td>\n",
              "    </tr>\n",
              "  </tbody>\n",
              "</table>\n",
              "</div>"
            ],
            "text/plain": [
              "                                W   PTS  ...  dffPTS  NextYearPlayoffs\n",
              "Team                SeasonEnd            ...                          \n",
              "Philadelphia 76ers  2014       19  8155  ...    -857                 0\n",
              "Detroit Pistons     2004       54  7388  ...     479                 1\n",
              "San Antonio Spurs   2004       57  7501  ...     592                 1\n",
              "Indiana Pacers      2004       61  7493  ...     472                 1\n",
              "Cleveland Cavaliers 1997       42  7173  ...     151                 1\n",
              "\n",
              "[5 rows x 21 columns]"
            ]
          },
          "metadata": {
            "tags": []
          },
          "execution_count": 7
        }
      ]
    },
    {
      "cell_type": "markdown",
      "metadata": {
        "id": "r1Duzs3DQ0Wt"
      },
      "source": [
        "In this quiz, we are going to use the modified basketball data set from Lab One. This data set contains information on a NBA team's stats from a current season, and has a binary indicator of whether or not they made the playoffs in the following year.\n",
        "\n",
        "This df contains data from the 1979-1980 season to the 2013-2014 season. From the last column though, we have the results of which teams made it to the 2014-2015 season playoffs by definition. \n",
        "\n",
        "The columns in the dataset should be as follows (23 columns total):\n",
        "\n",
        "* **Team**: team name (categorical)\n",
        "* **Season**: season of play\n",
        "* **W**: number of wins over the season\n",
        "* **PTS**: total points the team scored over the season\n",
        "* **oppPTS**: total points scored against the team over the season\n",
        "* **FG**: field goals made over the season\n",
        "* **FGA**: field goals attempted over the season\n",
        "* **2P**: 2-point field goals made over the season\n",
        "* **2PA**: 2-point field goals attempted over the season\n",
        "* **3P**: 3-point field goals made over the season\n",
        "* **3PA**: 3-point field goals attempted over the season\n",
        "* **FT**: Free throws made over the season\n",
        "* **FTA**: Free throws attempted over the season\n",
        "* **ORB**: Offensive rebounds made over the season\n",
        "* **DRB**: Defensive rebounds made over the season\n",
        "* **AST**: Assists made over the season\n",
        "* **STL**: Steals made over the season\n",
        "* **BLK**: Blocks made over the season\n",
        "* **TOV**: Turnovers made over the season\n",
        "* **Conference**: NBA conference that team plays is (0 = eastern, 1 = western)\n",
        "* **CurrentPlayoffs**: Whether or not team made playoffs in that particular season (0 = missed, 1 = made)\n",
        "* **dffPTS**: the difference between PTS and oppPTS\n",
        "* **NextYearPlayoffs**: Whether or not team made playoffs in the following season (0 = missed, 1 = made)"
      ]
    },
    {
      "cell_type": "markdown",
      "metadata": {
        "id": "ZjG7KTEqNZV4"
      },
      "source": [
        "# Data Cleaning"
      ]
    },
    {
      "cell_type": "markdown",
      "metadata": {
        "id": "y-t-9kyJsV7E"
      },
      "source": [
        "Use the following training and testing sets to answer the questions below.\n"
      ]
    },
    {
      "cell_type": "code",
      "metadata": {
        "id": "82hjSQcisWLz"
      },
      "source": [
        "# Make a training and testing parition\n",
        "X_train, X_test, y_train, y_test = train_test_split(\n",
        "    df.drop('NextYearPlayoffs', 1), df['NextYearPlayoffs'], \n",
        "    test_size=0.30, shuffle=True, random_state = 0)"
      ],
      "execution_count": 8,
      "outputs": []
    },
    {
      "cell_type": "markdown",
      "metadata": {
        "id": "1hTuIhYHfqyo"
      },
      "source": [
        "## __Question 1__ (/1)\n",
        "\n",
        "**Data Cleaning:** Assume we did a correlation analysis and found that the following features are highly correlated: `'2P', '2PA', 'FG', 'PTS', 'FGA'`. Drop them from `X_train` and `X_test`.\n"
      ]
    },
    {
      "cell_type": "code",
      "metadata": {
        "id": "slMg4QR0fqOR"
      },
      "source": [
        "# Write your code here.\n",
        "\n",
        "# -------------------\n",
        "\n",
        "columns_to_remove = [ '2P', '2PA', 'FG', 'PTS', 'FGA']\n",
        "X_train = X_train.drop(columns=columns_to_remove)\n",
        "X_test = X_test.drop(columns=columns_to_remove)\n",
        "\n",
        "# -------------------"
      ],
      "execution_count": 9,
      "outputs": []
    },
    {
      "cell_type": "markdown",
      "metadata": {
        "id": "P0uPFHXN_d2V"
      },
      "source": [
        "---\n",
        "***Question 1 Marking***\n",
        "\n",
        "---\n",
        "\n",
        "1.0 You had to correctly drop the appropriate columns from `X_train` and `X_test` and save those dropped versions properly"
      ]
    },
    {
      "cell_type": "markdown",
      "metadata": {
        "id": "C5vophMLNduZ"
      },
      "source": [
        "# Prediction"
      ]
    },
    {
      "cell_type": "markdown",
      "metadata": {
        "id": "YYOsykxXgAa8"
      },
      "source": [
        "## __Question 2__ (/2)\n",
        "\n",
        "**Train Prediction Model:** Fit a `LogisticRegressionCV` model and call it `mdl`. Use a `penalty = l2`, `solver = liblinear`, and `max_iter = 5000`. Everything else should be default parameters. Report the training and testing score to three decimal places. Make sure to fit the model after dropping the columns from the previous question.\n",
        "\n",
        "or\n",
        "\n",
        "**Train Prediction Model:** Fit a `LogisticRegressionCV` model and call it `mdl`. Use a `penalty = l2`, `solver = lbfgs`, and `max_iter = 6000`. Everything else should be default parameters. Report the training and testing score to three decimal places.Make sure to fit the model after dropping the columns from the previous question.\n",
        "\n",
        "**Train Prediction Model:** Fit a `LogisticRegressionCV` model and call it `mdl`. Use a `penalty = l2`, `solver = sag`, and `max_iter = 7000`. Everything else should be default parameters. Report the training and testing score to three decimal places. Make sure to fit the model after dropping the columns from the previous question.\n"
      ]
    },
    {
      "cell_type": "code",
      "metadata": {
        "id": "1-5QefRXeNXm",
        "outputId": "3da39920-82ff-47fc-8967-77fb075cd493",
        "colab": {
          "base_uri": "https://localhost:8080/",
          "height": 34
        }
      },
      "source": [
        "# Write your code here.\n",
        "\n",
        "# -------------------\n",
        "\n",
        "# Fit the model\n",
        "mdl = LogisticRegressionCV(penalty='l2', solver='liblinear', max_iter=5000)\n",
        "# or\n",
        "mdl = LogisticRegressionCV(penalty='l2', solver='lbfgs', max_iter=6000)\n",
        "mdl = LogisticRegressionCV(penalty='l2', solver='sag', max_iter=7000)\n",
        "mdl.fit(X_train, y_train)\n",
        "\n",
        "# Score the model|\n",
        "train_score = mdl.score(X_train, y_train)\n",
        "test_score = mdl.score(X_test, y_test)\n",
        "print(f'The train score is {train_score:.3f} and the test score is {test_score:.3f}')\n"
      ],
      "execution_count": 10,
      "outputs": [
        {
          "output_type": "stream",
          "text": [
            "The train score is 0.748 and the test score is 0.743\n"
          ],
          "name": "stdout"
        }
      ]
    },
    {
      "cell_type": "markdown",
      "metadata": {
        "id": "TGKSYWqVNvMa"
      },
      "source": [
        "---\n",
        "***Question 2 Marking***\n",
        "\n",
        "---\n",
        "\n",
        "1.0 for initializing and fitting the model correctly\n",
        "\n",
        "1.0 for scoring the model correctly\n"
      ]
    },
    {
      "cell_type": "markdown",
      "metadata": {
        "id": "YwNSkaehghVK"
      },
      "source": [
        "---\n",
        "\n",
        "**IMPORTANT:** For the remainder of the quiz, it is important that we put ourselves in the mindset that the 2014-2015 season **JUST** ended! Therefore, we know information about the 2014-2015 season, BUT, but we do not know the outcome of who made it to the 2015-2016 season playoffs (since that is in the future and that particular season hasn't even started yet!) \n",
        "\n",
        "Load the `df_2015` dataset which contains the data for the 2014-2015 season, but doesn't include who made it to the playoffs in 2015-2016 season (i.e. it doesn't contain the final target column like the dataset above). We also provide a `team_names` vector. \n",
        "\n",
        "---"
      ]
    },
    {
      "cell_type": "code",
      "metadata": {
        "id": "FKDMck2NWKra",
        "outputId": "e9484100-5764-49ce-a658-433268237ded",
        "colab": {
          "base_uri": "https://localhost:8080/",
          "height": 225
        }
      },
      "source": [
        "df_2015 = pd.read_csv(\"https://docs.google.com/uc?export=download&id=1CrvUgRNcEpFA5W4bzQw7Ydkb0wQ8ysrB\")\n",
        "team_names = df_2015['Team'] \n",
        "df_2015 = df_2015.set_index(['Team', 'SeasonEnd'])\n",
        "df_2015.head()"
      ],
      "execution_count": 11,
      "outputs": [
        {
          "output_type": "execute_result",
          "data": {
            "text/html": [
              "<div>\n",
              "<style scoped>\n",
              "    .dataframe tbody tr th:only-of-type {\n",
              "        vertical-align: middle;\n",
              "    }\n",
              "\n",
              "    .dataframe tbody tr th {\n",
              "        vertical-align: top;\n",
              "    }\n",
              "\n",
              "    .dataframe thead th {\n",
              "        text-align: right;\n",
              "    }\n",
              "</style>\n",
              "<table border=\"1\" class=\"dataframe\">\n",
              "  <thead>\n",
              "    <tr style=\"text-align: right;\">\n",
              "      <th></th>\n",
              "      <th></th>\n",
              "      <th>W</th>\n",
              "      <th>PTS</th>\n",
              "      <th>oppPTS</th>\n",
              "      <th>FG</th>\n",
              "      <th>FGA</th>\n",
              "      <th>2P</th>\n",
              "      <th>2PA</th>\n",
              "      <th>3P</th>\n",
              "      <th>3PA</th>\n",
              "      <th>FT</th>\n",
              "      <th>FTA</th>\n",
              "      <th>ORB</th>\n",
              "      <th>DRB</th>\n",
              "      <th>AST</th>\n",
              "      <th>STL</th>\n",
              "      <th>BLK</th>\n",
              "      <th>TOV</th>\n",
              "      <th>Conference</th>\n",
              "      <th>CurrentPlayoffs</th>\n",
              "      <th>dffPTS</th>\n",
              "    </tr>\n",
              "    <tr>\n",
              "      <th>Team</th>\n",
              "      <th>SeasonEnd</th>\n",
              "      <th></th>\n",
              "      <th></th>\n",
              "      <th></th>\n",
              "      <th></th>\n",
              "      <th></th>\n",
              "      <th></th>\n",
              "      <th></th>\n",
              "      <th></th>\n",
              "      <th></th>\n",
              "      <th></th>\n",
              "      <th></th>\n",
              "      <th></th>\n",
              "      <th></th>\n",
              "      <th></th>\n",
              "      <th></th>\n",
              "      <th></th>\n",
              "      <th></th>\n",
              "      <th></th>\n",
              "      <th></th>\n",
              "      <th></th>\n",
              "    </tr>\n",
              "  </thead>\n",
              "  <tbody>\n",
              "    <tr>\n",
              "      <th>Jazz</th>\n",
              "      <th>2015</th>\n",
              "      <td>38</td>\n",
              "      <td>7801</td>\n",
              "      <td>7783</td>\n",
              "      <td>2900</td>\n",
              "      <td>6492</td>\n",
              "      <td>2290</td>\n",
              "      <td>4711</td>\n",
              "      <td>610</td>\n",
              "      <td>1781</td>\n",
              "      <td>1391</td>\n",
              "      <td>1929</td>\n",
              "      <td>988</td>\n",
              "      <td>2617</td>\n",
              "      <td>1632</td>\n",
              "      <td>623</td>\n",
              "      <td>489</td>\n",
              "      <td>1256</td>\n",
              "      <td>1</td>\n",
              "      <td>0</td>\n",
              "      <td>18</td>\n",
              "    </tr>\n",
              "    <tr>\n",
              "      <th>Grizzlies</th>\n",
              "      <th>2015</th>\n",
              "      <td>55</td>\n",
              "      <td>8062</td>\n",
              "      <td>7796</td>\n",
              "      <td>3097</td>\n",
              "      <td>6763</td>\n",
              "      <td>2674</td>\n",
              "      <td>5517</td>\n",
              "      <td>423</td>\n",
              "      <td>1246</td>\n",
              "      <td>1445</td>\n",
              "      <td>1869</td>\n",
              "      <td>856</td>\n",
              "      <td>2634</td>\n",
              "      <td>1777</td>\n",
              "      <td>700</td>\n",
              "      <td>347</td>\n",
              "      <td>1094</td>\n",
              "      <td>1</td>\n",
              "      <td>1</td>\n",
              "      <td>266</td>\n",
              "    </tr>\n",
              "    <tr>\n",
              "      <th>Spurs</th>\n",
              "      <th>2015</th>\n",
              "      <td>55</td>\n",
              "      <td>8461</td>\n",
              "      <td>7953</td>\n",
              "      <td>3208</td>\n",
              "      <td>6854</td>\n",
              "      <td>2531</td>\n",
              "      <td>5007</td>\n",
              "      <td>677</td>\n",
              "      <td>1847</td>\n",
              "      <td>1368</td>\n",
              "      <td>1754</td>\n",
              "      <td>806</td>\n",
              "      <td>2772</td>\n",
              "      <td>2000</td>\n",
              "      <td>657</td>\n",
              "      <td>444</td>\n",
              "      <td>1146</td>\n",
              "      <td>1</td>\n",
              "      <td>1</td>\n",
              "      <td>508</td>\n",
              "    </tr>\n",
              "    <tr>\n",
              "      <th>Pacers</th>\n",
              "      <th>2015</th>\n",
              "      <td>38</td>\n",
              "      <td>7981</td>\n",
              "      <td>7958</td>\n",
              "      <td>2998</td>\n",
              "      <td>6824</td>\n",
              "      <td>2386</td>\n",
              "      <td>5084</td>\n",
              "      <td>612</td>\n",
              "      <td>1740</td>\n",
              "      <td>1373</td>\n",
              "      <td>1817</td>\n",
              "      <td>856</td>\n",
              "      <td>2822</td>\n",
              "      <td>1757</td>\n",
              "      <td>505</td>\n",
              "      <td>375</td>\n",
              "      <td>1147</td>\n",
              "      <td>0</td>\n",
              "      <td>0</td>\n",
              "      <td>23</td>\n",
              "    </tr>\n",
              "    <tr>\n",
              "      <th>Hawks</th>\n",
              "      <th>2015</th>\n",
              "      <td>60</td>\n",
              "      <td>8409</td>\n",
              "      <td>7964</td>\n",
              "      <td>3121</td>\n",
              "      <td>6699</td>\n",
              "      <td>2303</td>\n",
              "      <td>4547</td>\n",
              "      <td>818</td>\n",
              "      <td>2152</td>\n",
              "      <td>1349</td>\n",
              "      <td>1735</td>\n",
              "      <td>715</td>\n",
              "      <td>2611</td>\n",
              "      <td>2111</td>\n",
              "      <td>744</td>\n",
              "      <td>380</td>\n",
              "      <td>1167</td>\n",
              "      <td>0</td>\n",
              "      <td>1</td>\n",
              "      <td>445</td>\n",
              "    </tr>\n",
              "  </tbody>\n",
              "</table>\n",
              "</div>"
            ],
            "text/plain": [
              "                      W   PTS  oppPTS  ...  Conference  CurrentPlayoffs  dffPTS\n",
              "Team      SeasonEnd                    ...                                     \n",
              "Jazz      2015       38  7801    7783  ...           1                0      18\n",
              "Grizzlies 2015       55  8062    7796  ...           1                1     266\n",
              "Spurs     2015       55  8461    7953  ...           1                1     508\n",
              "Pacers    2015       38  7981    7958  ...           0                0      23\n",
              "Hawks     2015       60  8409    7964  ...           0                1     445\n",
              "\n",
              "[5 rows x 20 columns]"
            ]
          },
          "metadata": {
            "tags": []
          },
          "execution_count": 11
        }
      ]
    },
    {
      "cell_type": "markdown",
      "metadata": {
        "id": "FDYzjNhylLHL"
      },
      "source": [
        "## __Question 3__ (/3)\n",
        "\n",
        "\n",
        "**Make Predictions:** Using the model you just created, the `df_2015` data and the `predict_proba` method, compute the probabilities (rounded to two decimals) that each team makes the playoffs in 2015-2016 and save it in a `pd.Series` called `predictions` with an `index=team_names`.\n",
        "\n",
        "Also, specifically report which team has the highest chance of making it and what their probability is.\n",
        "\n",
        "or\n",
        "\n",
        "Also, specifically report which team has the lowest chance of making it and what their probability is.\n",
        "\n",
        "\n",
        "NOTE: You can find out more about `predict_proba` in the [documentation](https://scikit-learn.org/stable/modules/generated/sklearn.linear_model.LogisticRegressionCV.html#sklearn.linear_model.LogisticRegressionCV) under \"methods.\" Recall that this method gives you the probability of the target being in each of the classes. If you want to match the target to the class label, use the `mdl.classes_` parameter. "
      ]
    },
    {
      "cell_type": "code",
      "metadata": {
        "id": "-ttk6fKtl7_d",
        "outputId": "217839f2-78e2-4f4a-83e0-91de42ff0d7d",
        "colab": {
          "base_uri": "https://localhost:8080/",
          "height": 605
        }
      },
      "source": [
        "# Write your code here.\n",
        "\n",
        "# -------------------\n",
        "\n",
        "columns_to_remove = [ '2P', '2PA', 'FG', 'PTS', 'FGA']\n",
        "df_2015 = df_2015.drop(columns=columns_to_remove)\n",
        "\n",
        "predictions = mdl.predict_proba(df_2015)\n",
        "\n",
        "predictions = pd.Series(predictions[:,1], index=team_names)\n",
        "predictions = np.round(predictions,2)\n",
        "print(predictions)\n",
        "\n",
        "print(f'\\nThe team with the best chance is the {predictions.idxmax()}, with a probability of {predictions.max():.2f}')\n",
        "print(f'The team with the worst chance is the {predictions.idxmin()}, with a probability of {predictions.min():.2f}')\n",
        "\n",
        "# -------------------\n"
      ],
      "execution_count": 12,
      "outputs": [
        {
          "output_type": "stream",
          "text": [
            "Team\n",
            "Jazz            0.57\n",
            "Grizzlies       0.69\n",
            "Spurs           0.89\n",
            "Pacers          0.52\n",
            "Hawks           0.88\n",
            "Heat            0.32\n",
            "Pelicans        0.26\n",
            "Bucks           0.57\n",
            "Bulls           0.78\n",
            "Wizards         0.55\n",
            "Hornets         0.60\n",
            "Blazers         0.79\n",
            "Cavaliers       0.83\n",
            "Pistons         0.42\n",
            "Warriors        0.97\n",
            "Clippers        0.90\n",
            "Rockets         0.81\n",
            "Nets            0.26\n",
            "Raptors         0.74\n",
            "76ers           0.08\n",
            "Celtics         0.50\n",
            "Knicks          0.06\n",
            "Magic           0.11\n",
            "Thunder         0.67\n",
            "Mavericks       0.70\n",
            "Suns            0.41\n",
            "Nuggets         0.25\n",
            "Kings           0.24\n",
            "Lakers          0.09\n",
            "Timberwolves    0.06\n",
            "dtype: float64\n",
            "\n",
            "The team with the best chance is the Warriors, with a probability of 0.97\n",
            "The team with the worst chance is the Knicks, with a probability of 0.06\n"
          ],
          "name": "stdout"
        }
      ]
    },
    {
      "cell_type": "markdown",
      "metadata": {
        "id": "nb3XCWeLM61p"
      },
      "source": [
        "---\n",
        "***Question 3 Marking***\n",
        "\n",
        "---\n",
        "\n",
        "0.5 for dropping the correct columns\n",
        "\n",
        "0.5 for using the predict_proba method correctly\n",
        "\n",
        "1.0 for getting the right predict_proba target class and rounding it correctly\n",
        "\n",
        "1.0 for correctly getting the best (worst) chance team and probability\n"
      ]
    },
    {
      "cell_type": "markdown",
      "metadata": {
        "id": "OxVyhq7GNgIg"
      },
      "source": [
        "# Optimization"
      ]
    },
    {
      "cell_type": "markdown",
      "metadata": {
        "id": "DM1uzojDqGxg"
      },
      "source": [
        "Let's now use the outputs of our prediction model to solve an optimization problem. \n",
        "\n",
        "Again remember, it is currently the end of the 2014-2015 season and lets say we are in a sports betting pool that is placing bets on which teams will make it to the the playoffs in the 2015-2016 season. \n",
        "\n",
        "Lets assume we have to pick **8 teams** to bet on, and we can only bet \\$100 on the teams we choose. Each team has their own payout multiplier that is defined in the `payouts` dataset. For example, Utah Jazz has a payout multipler of 3, so if we choose them and they make it to the playoffs in 2016, we will earn $100*3 = 300$ dollars.\n",
        "\n",
        "We want to create an optimization model in `cvxpy` that determines which 8 teams to bet on to maximize our *expected total earnings* by using our `predictions` from before.\n",
        "\n",
        "\n",
        "\n"
      ]
    },
    {
      "cell_type": "code",
      "metadata": {
        "id": "P4EmPAWTMoeQ",
        "outputId": "ee0639b2-9ec7-4ca1-854f-f6577ac5d246",
        "colab": {
          "base_uri": "https://localhost:8080/",
          "height": 195
        }
      },
      "source": [
        "payouts = pd.read_csv(\"https://docs.google.com/uc?export=download&id=1hVCAqz_g6VMJLK-lwr2cLHNCGaSjhHgm\")\n",
        "payouts.head()"
      ],
      "execution_count": 13,
      "outputs": [
        {
          "output_type": "execute_result",
          "data": {
            "text/html": [
              "<div>\n",
              "<style scoped>\n",
              "    .dataframe tbody tr th:only-of-type {\n",
              "        vertical-align: middle;\n",
              "    }\n",
              "\n",
              "    .dataframe tbody tr th {\n",
              "        vertical-align: top;\n",
              "    }\n",
              "\n",
              "    .dataframe thead th {\n",
              "        text-align: right;\n",
              "    }\n",
              "</style>\n",
              "<table border=\"1\" class=\"dataframe\">\n",
              "  <thead>\n",
              "    <tr style=\"text-align: right;\">\n",
              "      <th></th>\n",
              "      <th>Team</th>\n",
              "      <th>Payout_Multiplier</th>\n",
              "    </tr>\n",
              "  </thead>\n",
              "  <tbody>\n",
              "    <tr>\n",
              "      <th>0</th>\n",
              "      <td>Jazz</td>\n",
              "      <td>3</td>\n",
              "    </tr>\n",
              "    <tr>\n",
              "      <th>1</th>\n",
              "      <td>Grizzlies</td>\n",
              "      <td>2</td>\n",
              "    </tr>\n",
              "    <tr>\n",
              "      <th>2</th>\n",
              "      <td>Spurs</td>\n",
              "      <td>2</td>\n",
              "    </tr>\n",
              "    <tr>\n",
              "      <th>3</th>\n",
              "      <td>Pacers</td>\n",
              "      <td>3</td>\n",
              "    </tr>\n",
              "    <tr>\n",
              "      <th>4</th>\n",
              "      <td>Hawks</td>\n",
              "      <td>2</td>\n",
              "    </tr>\n",
              "  </tbody>\n",
              "</table>\n",
              "</div>"
            ],
            "text/plain": [
              "        Team  Payout_Multiplier\n",
              "0       Jazz                  3\n",
              "1  Grizzlies                  2\n",
              "2      Spurs                  2\n",
              "3     Pacers                  3\n",
              "4      Hawks                  2"
            ]
          },
          "metadata": {
            "tags": []
          },
          "execution_count": 13
        }
      ]
    },
    {
      "cell_type": "markdown",
      "metadata": {
        "id": "YK0_HHYyPbYy"
      },
      "source": [
        "For the next few questions, use your **own** `predictions` that you computed above.\n",
        "\n",
        "If however, you weren't able to compute any predictions, you can uncomment the first two lines in the following codeblock to use a set of provided predictions so you can complete this section.\n",
        "\n",
        "Run the following code block regardless.\n",
        "\n"
      ]
    },
    {
      "cell_type": "code",
      "metadata": {
        "id": "c1fNxa0uXAdo"
      },
      "source": [
        "# Un-comment the next two lines ONLY if you weren't able to compute your own predictions!\n",
        "# predictions = pd.read_csv(\"https://docs.google.com/uc?export=download&id=1npVY0YVfiba6Smqclka3U2WiGciapjak\")\n",
        "# predictions = predictions['Prediction']\n",
        "\n",
        "# Vectors for the team_names, payout_multipliers and predictions\n",
        "team_names = payouts['Team']\n",
        "payout_multiplier = payouts['Payout_Multiplier']\n",
        "predictions = predictions.to_numpy()\n",
        "payout_multiplier = payout_multiplier.to_numpy()"
      ],
      "execution_count": 14,
      "outputs": []
    },
    {
      "cell_type": "markdown",
      "metadata": {
        "id": "4Sdp4PxXdLFf"
      },
      "source": [
        "## __Question 4__ (/1)\n",
        "\n",
        "**Decision Variables**: Code up the decision variables for your optimization model\n"
      ]
    },
    {
      "cell_type": "code",
      "metadata": {
        "id": "qsahdlVZdUTT"
      },
      "source": [
        "# Write your code here\n",
        "\n",
        "# -----------------\n",
        "\n",
        "# Define the variable of which teams we choose or not\n",
        "x = cp.Variable(len(team_names), boolean=True)\n",
        "\n",
        "# -----------------\n"
      ],
      "execution_count": 15,
      "outputs": []
    },
    {
      "cell_type": "markdown",
      "metadata": {
        "id": "GKXSO-XJi1g4"
      },
      "source": [
        "---\n",
        "***Question 4 Marking***\n",
        "\n",
        "---\n",
        "\n",
        "0.5 for correct variable length\n",
        "\n",
        "0.5 for boolean variable || If you chose integer and included approriate constraints, I gave that full marks as well\n",
        "\n"
      ]
    },
    {
      "cell_type": "markdown",
      "metadata": {
        "id": "2vF63qgXdbGV"
      },
      "source": [
        "## __Question 5__ (/1)\n",
        "\n",
        "**Objective**: Code up the objective function of your optimization model"
      ]
    },
    {
      "cell_type": "code",
      "metadata": {
        "id": "tb81auw-datm"
      },
      "source": [
        "# Write your code here\n",
        "\n",
        "# -----------------\n",
        "\n",
        "# Create the objective of maximizing expected earnings\n",
        "obj = cp.Maximize((100*x*(payout_multiplier*predictions))) \n",
        "# -----------------\n"
      ],
      "execution_count": 16,
      "outputs": []
    },
    {
      "cell_type": "markdown",
      "metadata": {
        "id": "qSvuYKT4jDgH"
      },
      "source": [
        "---\n",
        "***Question 5 Marking***\n",
        "\n",
        "---\n",
        "\n",
        "If you failed to include the predictions in the objective function, I docked 0.5.\n",
        "\n",
        "I docked 0.25 for other missing elements / mistakes\n",
        "\n"
      ]
    },
    {
      "cell_type": "markdown",
      "metadata": {
        "id": "FiMyImNydmhH"
      },
      "source": [
        "## __Question 6__ (/1)\n",
        "\n",
        "**Constraints**: Code up the constraints for your model. Note, due to a bug with cvxpy, make sure to add a constraint keeping your variables non-negative."
      ]
    },
    {
      "cell_type": "code",
      "metadata": {
        "id": "YeE6OAwzdruX"
      },
      "source": [
        "# Write your code here\n",
        "\n",
        "# -----------------\n",
        "\n",
        "# Create the constraints\n",
        "cons = []\n",
        "cons.append(x >= 0)         # non-negativity of x\n",
        "cons.append(cp.sum(x) == 8)    # 8 teams\n",
        "\n",
        "# -----------------\n"
      ],
      "execution_count": 17,
      "outputs": []
    },
    {
      "cell_type": "markdown",
      "metadata": {
        "id": "15ywJr0DduZk"
      },
      "source": [
        "## __Question 7__ (/3)\n",
        "\n",
        "**Optimization**: Solve the model and report your maximum total expected earnings and which teams you chose to bet on."
      ]
    },
    {
      "cell_type": "code",
      "metadata": {
        "id": "gHMHfc1DqHcH",
        "outputId": "d065e0f1-a189-4252-cdda-7919a8ca92d2",
        "colab": {
          "base_uri": "https://localhost:8080/",
          "height": 588
        }
      },
      "source": [
        "# Write your code here\n",
        "\n",
        "# -----------------\n",
        "\n",
        "# Solve the model\n",
        "prob = cp.Problem(obj,cons)\n",
        "\n",
        "# Print the objective value\n",
        "prob.solve(verbose=False)  # verbose = True allows you to see the solution process\n",
        "print('The maximum expected total earnings is {:.3f}'.format(obj.value))  # gives you the objective value\n",
        "\n",
        "#Extract the optimal bets to place\n",
        "x_np_array = x.value.astype(int)  # extract the x values as a np array\n",
        "x_values = pd.Series(x_np_array, index = team_names)  # convert the np array to a series\n",
        "print('The decision to bet on each team is as follows: \\n', x_values)\n",
        "\n",
        "# -----------------\n"
      ],
      "execution_count": 18,
      "outputs": [
        {
          "output_type": "stream",
          "text": [
            "The maximum expected total earnings is 1502.000\n",
            "The decision to bet on each team is as follows: \n",
            " Team\n",
            "Jazz            1\n",
            "Grizzlies       0\n",
            "Spurs           1\n",
            "Pacers          0\n",
            "Hawks           1\n",
            "Heat            0\n",
            "Pelicans        0\n",
            "Bucks           0\n",
            "Bulls           0\n",
            "Wizards         0\n",
            "Hornets         1\n",
            "Blazers         0\n",
            "Cavaliers       0\n",
            "Pistons         0\n",
            "Warriors        1\n",
            "Clippers        1\n",
            "Rockets         0\n",
            "Nets            0\n",
            "Raptors         1\n",
            "76ers           0\n",
            "Celtics         0\n",
            "Knicks          0\n",
            "Magic           0\n",
            "Thunder         1\n",
            "Mavericks       0\n",
            "Suns            0\n",
            "Nuggets         0\n",
            "Kings           0\n",
            "Lakers          0\n",
            "Timberwolves    0\n",
            "dtype: int64\n"
          ],
          "name": "stdout"
        }
      ]
    },
    {
      "cell_type": "markdown",
      "metadata": {
        "id": "AnXq5qoGS0jd"
      },
      "source": [
        "---\n",
        "***Question 7 Answer***\n",
        "\n",
        "---\n",
        "\n",
        "Obj. value = 1502 (computed predictions) or 1508 (given predictions)\n",
        "\n",
        "Chosen teams = Jazz, Spurs, Hawks, Hornets, Warriors, Clippers, Raptors, Thunder\n",
        "\n",
        "\n",
        "---\n",
        "***Question 7 Marking***\n",
        "\n",
        "---\n",
        "\n",
        "0.5 for solving the model\n",
        "\n",
        "0.5 for outputing the solution\n",
        "\n",
        "1.0 for correct objective value\n",
        "\n",
        "1.0 for correct chosen teams\n",
        "\n",
        "Note: If you got a value of \\$3200, I still docked -1 from this answer, because \\$3200 should have been an indication that you solved this **deterministically** and it wasn't an **expected value**. This should've pointed out the error in the overall model. What your model essentially did is just pick teams with the highest payout_multiplier. We don't know which teams make it to the playoffs, so the inclusion of the predicted values is imperative. "
      ]
    },
    {
      "cell_type": "markdown",
      "metadata": {
        "id": "y58RyusySbBY"
      },
      "source": [
        "## __Question 8__ (/1)\n",
        "\n",
        "**Adding Constraints**: Using the `cons.append()`, just type up the single line of code needed to add the following constraint. You don't need to re-solve the model.\n",
        "\n",
        "If we choose team 'Grizzlies', we also have to choose the 'Knicks' and vice versa.\n",
        "\n",
        "or\n",
        "\n",
        "If we choose team 'Spurs', we also have to choose the 'Magic' and vice versa.\n",
        "\n",
        "If we choose team 'Pacers', we also have to choose the 'Thunder' and vice versa.\n",
        "\n",
        "If we choose team 'Hawks', we also have to choose the 'Mavericks' and vice versa.\n",
        "\n",
        "\n"
      ]
    },
    {
      "cell_type": "code",
      "metadata": {
        "id": "WhtzXe-LSDuZ"
      },
      "source": [
        "cons.append(x[1] == x[21])         # Grizzlies and Knicks together\n",
        "# or\n",
        "cons.append(x[2] == x[22])         # Spurs and Magic together\n",
        "cons.append(x[3] == x[23])         # Pacers and Thunder together\n",
        "cons.append(x[4] == x[24])         # Hawks and Mavericks together\n",
        "\n"
      ],
      "execution_count": 19,
      "outputs": []
    },
    {
      "cell_type": "markdown",
      "metadata": {
        "id": "o7POappPTQli"
      },
      "source": [
        "## __Question 9__ (/1)\n",
        "\n",
        "**Adding Constraints**: Using the `cons.append()`, just type up the single line of code needed to add the following constraint. You don't need to re-solve the model.\n",
        "\n",
        "We can only choose at most one, of the following 3 teams: 'Heat', 'Hornets', 'Clippers'\n",
        "\n",
        "or\n",
        "\n",
        "We can only choose at most one, of the following 3 teams: 'Pelicans', 'Cavaliers', 'Raptors'\n",
        "\n",
        "We can only choose at most one, of the following 3 teams: 'Bucks', 'Warriors', 'Knicks'\n"
      ]
    },
    {
      "cell_type": "code",
      "metadata": {
        "id": "mVMMgUuYVTjY"
      },
      "source": [
        "cons.append(x[5] + x[10] + x[15] <= 1)         # Heat, Hornets and Clippers\n",
        "# or\n",
        "cons.append(x[6] + x[12] + x[18] <= 1)         # Pelicans, Cavaliers, Raptors\n",
        "cons.append(x[7] + x[14] + x[21] <= 1)         # Bucks, Warriors, Knicks\n"
      ],
      "execution_count": 20,
      "outputs": []
    },
    {
      "cell_type": "markdown",
      "metadata": {
        "id": "wkIQS0N1XzdP"
      },
      "source": [
        "## __Question 10__ (/1)\n",
        "\n",
        "**Adding Constraints**: Using the `cons.append()`, just type up the single line of code needed to add the following constraint. You don't need to re-solve the model.\n",
        "\n",
        "We can NOT choose the 'Hawks'.\n",
        "\n",
        "or\n",
        "\n",
        "We can NOT choose the 'Bulls'.\n",
        "\n",
        "We can NOT choose the 'Cavaliers'.\n"
      ]
    },
    {
      "cell_type": "code",
      "metadata": {
        "id": "Yp2dj1e4YCnK"
      },
      "source": [
        "cons.append(x[4] == 0) # cant choose Hawks\n",
        "# or\n",
        "cons.append(x[8] == 0) # cant choose Bulls\n",
        "cons.append(x[12] == 0) # cant choose Cavaliers\n"
      ],
      "execution_count": 21,
      "outputs": []
    }
  ]
}