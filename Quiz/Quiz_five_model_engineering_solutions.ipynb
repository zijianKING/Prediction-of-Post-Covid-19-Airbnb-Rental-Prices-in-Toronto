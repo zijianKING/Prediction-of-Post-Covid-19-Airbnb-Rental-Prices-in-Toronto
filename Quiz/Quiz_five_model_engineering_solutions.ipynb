{
  "nbformat": 4,
  "nbformat_minor": 0,
  "metadata": {
    "colab": {
      "name": "Quiz_five_model_engineering_solutions.ipynb",
      "provenance": [],
      "collapsed_sections": []
    },
    "kernelspec": {
      "name": "python3",
      "display_name": "Python 3"
    },
    "pycharm": {
      "stem_cell": {
        "cell_type": "raw",
        "source": [],
        "metadata": {
          "collapsed": false
        }
      }
    }
  },
  "cells": [
    {
      "cell_type": "markdown",
      "metadata": {
        "id": "4eubM9ej9ky1"
      },
      "source": [
        "<center>\n",
        "    <h3>University of Toronto</h3>\n",
        "    <h3>Department of Mechanical and Industrial Engineering</h3>\n",
        "    <h3>MIE368 Analytics in Action </h3>\n",
        "    <h3>(Fall 2020)</h3>\n",
        "    <hr>\n",
        "    <h1>Quiz 5: Model Engineering</h1>\n",
        "    <h3>October 29, 2020</h3>\n",
        "</center>"
      ]
    },
    {
      "cell_type": "markdown",
      "metadata": {
        "id": "VySmRG4M9mac"
      },
      "source": [
        "__Instructions__\n",
        "\n",
        "*   Please use this Colab notebook to solve the questions in the coding section of Quiz Five. \n",
        "* Run the first codeblock to import the necessary quiz packages, import the quiz data, and split the data into training and validation datasets. \n",
        "*  Any additional code you will need to answer the questions can be added to this notebook. Please remember to copy and paste the code after each coding question."
      ]
    },
    {
      "cell_type": "code",
      "metadata": {
        "id": "BM_cnDRiLcO8",
        "outputId": "ba297244-56fd-4c81-f78c-6506238430c8",
        "colab": {
          "base_uri": "https://localhost:8080/",
          "height": 221
        }
      },
      "source": [
        "# Import packages\n",
        "import numpy as np\n",
        "import pandas as pd\n",
        "from sklearn.model_selection import train_test_split, GridSearchCV\n",
        "from sklearn.tree import DecisionTreeRegressor\n",
        "from sklearn.linear_model import LassoCV\n",
        "from sklearn.cluster import KMeans\n",
        "from sklearn.preprocessing import StandardScaler\n",
        "\n",
        "# Import the data\n",
        "df = pd.read_csv(\"https://docs.google.com/uc?export=download&id=1cVN2rmrUtLYcnT7Pbxp05R4O3YmjsI_4\")\n",
        "\n",
        "'''We run some light preprocessing to clean the data for the quiz. You don't \n",
        "need to understand each line of code here'''\n",
        "\n",
        "# Convert full date timestamp to hour of day\n",
        "df.timestamp = df.timestamp.apply(lambda x: pd.Timestamp(x).hour)\n",
        "\n",
        "# One-hot encode season\n",
        "df = pd.get_dummies(df, columns=['season']) \n",
        "# convert season numbers to season\n",
        "df.rename(columns={\n",
        "    'season_0.0': 'winter',\n",
        "    'season_1.0': 'spring', \n",
        "    'season_2.0': 'summer', \n",
        "    'season_3.0': 'fall'\n",
        "    },\n",
        "    inplace=True\n",
        "    )\n",
        "\n",
        "# Split training and validation sets\n",
        "X_train, X_val, y_train, y_val = train_test_split(df.drop(columns=['cnt']),\n",
        "                                                    df.cnt,\n",
        "                                                    test_size = 0.25,\n",
        "                                                    shuffle = False\n",
        "                                                    )\n",
        "# print out data frame snapshot\n",
        "df.head()"
      ],
      "execution_count": 1,
      "outputs": [
        {
          "output_type": "execute_result",
          "data": {
            "text/html": [
              "<div>\n",
              "<style scoped>\n",
              "    .dataframe tbody tr th:only-of-type {\n",
              "        vertical-align: middle;\n",
              "    }\n",
              "\n",
              "    .dataframe tbody tr th {\n",
              "        vertical-align: top;\n",
              "    }\n",
              "\n",
              "    .dataframe thead th {\n",
              "        text-align: right;\n",
              "    }\n",
              "</style>\n",
              "<table border=\"1\" class=\"dataframe\">\n",
              "  <thead>\n",
              "    <tr style=\"text-align: right;\">\n",
              "      <th></th>\n",
              "      <th>timestamp</th>\n",
              "      <th>cnt</th>\n",
              "      <th>t1</th>\n",
              "      <th>t2</th>\n",
              "      <th>hum</th>\n",
              "      <th>wind_speed</th>\n",
              "      <th>weather_code</th>\n",
              "      <th>is_holiday</th>\n",
              "      <th>is_weekend</th>\n",
              "      <th>winter</th>\n",
              "      <th>spring</th>\n",
              "      <th>summer</th>\n",
              "      <th>fall</th>\n",
              "    </tr>\n",
              "  </thead>\n",
              "  <tbody>\n",
              "    <tr>\n",
              "      <th>0</th>\n",
              "      <td>0</td>\n",
              "      <td>182</td>\n",
              "      <td>3.0</td>\n",
              "      <td>2.0</td>\n",
              "      <td>93.0</td>\n",
              "      <td>6.0</td>\n",
              "      <td>3.0</td>\n",
              "      <td>0.0</td>\n",
              "      <td>1.0</td>\n",
              "      <td>0</td>\n",
              "      <td>0</td>\n",
              "      <td>0</td>\n",
              "      <td>1</td>\n",
              "    </tr>\n",
              "    <tr>\n",
              "      <th>1</th>\n",
              "      <td>1</td>\n",
              "      <td>138</td>\n",
              "      <td>3.0</td>\n",
              "      <td>2.5</td>\n",
              "      <td>93.0</td>\n",
              "      <td>5.0</td>\n",
              "      <td>1.0</td>\n",
              "      <td>0.0</td>\n",
              "      <td>1.0</td>\n",
              "      <td>0</td>\n",
              "      <td>0</td>\n",
              "      <td>0</td>\n",
              "      <td>1</td>\n",
              "    </tr>\n",
              "    <tr>\n",
              "      <th>2</th>\n",
              "      <td>2</td>\n",
              "      <td>134</td>\n",
              "      <td>2.5</td>\n",
              "      <td>2.5</td>\n",
              "      <td>96.5</td>\n",
              "      <td>0.0</td>\n",
              "      <td>1.0</td>\n",
              "      <td>0.0</td>\n",
              "      <td>1.0</td>\n",
              "      <td>0</td>\n",
              "      <td>0</td>\n",
              "      <td>0</td>\n",
              "      <td>1</td>\n",
              "    </tr>\n",
              "    <tr>\n",
              "      <th>3</th>\n",
              "      <td>3</td>\n",
              "      <td>72</td>\n",
              "      <td>2.0</td>\n",
              "      <td>2.0</td>\n",
              "      <td>100.0</td>\n",
              "      <td>0.0</td>\n",
              "      <td>1.0</td>\n",
              "      <td>0.0</td>\n",
              "      <td>1.0</td>\n",
              "      <td>0</td>\n",
              "      <td>0</td>\n",
              "      <td>0</td>\n",
              "      <td>1</td>\n",
              "    </tr>\n",
              "    <tr>\n",
              "      <th>4</th>\n",
              "      <td>4</td>\n",
              "      <td>47</td>\n",
              "      <td>2.0</td>\n",
              "      <td>0.0</td>\n",
              "      <td>93.0</td>\n",
              "      <td>6.5</td>\n",
              "      <td>1.0</td>\n",
              "      <td>0.0</td>\n",
              "      <td>1.0</td>\n",
              "      <td>0</td>\n",
              "      <td>0</td>\n",
              "      <td>0</td>\n",
              "      <td>1</td>\n",
              "    </tr>\n",
              "  </tbody>\n",
              "</table>\n",
              "</div>"
            ],
            "text/plain": [
              "   timestamp  cnt   t1   t2    hum  ...  is_weekend  winter  spring  summer  fall\n",
              "0          0  182  3.0  2.0   93.0  ...         1.0       0       0       0     1\n",
              "1          1  138  3.0  2.5   93.0  ...         1.0       0       0       0     1\n",
              "2          2  134  2.5  2.5   96.5  ...         1.0       0       0       0     1\n",
              "3          3   72  2.0  2.0  100.0  ...         1.0       0       0       0     1\n",
              "4          4   47  2.0  0.0   93.0  ...         1.0       0       0       0     1\n",
              "\n",
              "[5 rows x 13 columns]"
            ]
          },
          "metadata": {
            "tags": []
          },
          "execution_count": 1
        }
      ]
    },
    {
      "cell_type": "markdown",
      "metadata": {
        "id": "EbsuM5JH-I7S"
      },
      "source": [
        "In this quiz, we will use the London Bike Share dataset. This dataset contains the usage statistics of London's bike share service that lets members borrow bikes for short periods of time for a small fee. In this quiz, we will build a model to predict how often the service is used (i.e., how many bikes are rented in a given hour).\n",
        "\n",
        "The columns in the dataset are as follows:\n",
        "\n",
        "\n",
        "* **timestamp**:            (integer) Start time of one hour block (e.g., 0 is midnight to 1am)\n",
        "\n",
        "* **cnt**:         (integer) The number of bikes rented  in the hour block\n",
        "\n",
        "* **t1**:       (continuous) What the temperature is in ˚C\n",
        "\n",
        "* **t2**:   (continuous) What the temperature feels like in ˚C\n",
        "\n",
        "* **hum**:   (continuous) Humidity in %\n",
        "\n",
        "* **wind_speed**: (continuous) Wind speed in km/hr\n",
        "\n",
        "* **weather_code**:  (integer) Severity level of the weather (higher is more severe)\n",
        "\n",
        "* **is_holiday**:   (binary) 1 if hour is during a holiday, 0 otherwise\n",
        "\n",
        "* **winter**:   (binary)  1 if hour is in winter, 0 otherwise\n",
        "\n",
        "* **spring**:   (binary)  1 if hour is in spring, 0 otherwise\n",
        "\n",
        "* **summer**:   (binary)  1 if hour is in summer, 0 otherwise\n",
        "\n",
        "* **fall**:   (binary)  1 if hour is in fall, 0 otherwise\n",
        "\n"
      ]
    },
    {
      "cell_type": "markdown",
      "metadata": {
        "id": "cAjchH9gQBa-"
      },
      "source": [
        "## Question 1 (1 mark)\n",
        "\n",
        "> Q: Is the `f_classif` function (from `sklearn.feature_selection`) appropriate to use for selecting features in this problem? Why? (25 words max)\n",
        "\n",
        ">> A: No it is not appropriate. The target in this problem is continuous, and `f_classif` is only appropriate when the target is categorical."
      ]
    },
    {
      "cell_type": "markdown",
      "metadata": {
        "id": "OANhSRW9htnj"
      },
      "source": [
        "## Question 2 (1 mark)\n",
        "\n",
        "> Q: Which of the following cannot be used for feature engineering?\n",
        "\n",
        "> * `wind_speed` * `cnt`\n",
        "* `winter` / `is_holiday`\n",
        "* `t1` * (`wind_speed`)^2\n",
        "* `hum` + `wind_speed`\n",
        "* (`t2` - `t1`) * `fall`\n",
        "* `t2`^(`t1`)\n",
        "\n",
        ">> A: `wind_speed` * `cnt` (the target should not be included in feature engineering)"
      ]
    },
    {
      "cell_type": "markdown",
      "metadata": {
        "id": "E9MBIxFPQCR8"
      },
      "source": [
        "## Question 3 (2 marks)\n",
        "\n",
        "> Q_a: What is a stacking? How is model stacking different from bagging? (30 words max)\n",
        "\n",
        ">> Stacking when the predictions from several models are input to another prediction model, which is different from bagging where they are input to a voting rule.\n",
        "\n",
        "> Q_b: What is bagging? Why do we say bagging is an ensemble model? (30 words max)\n",
        "\n",
        ">> Bagging is when several prediction input to a voting rule, which is an ensemble because it combines knowledge from multiple models. "
      ]
    },
    {
      "cell_type": "markdown",
      "metadata": {
        "id": "tek9MBmrpsQ7"
      },
      "source": [
        "## Question 4 (3 marks)\n",
        "Do a grid search (**with default settings**) to find suitable parameters for a `DecisionTreeRegressor` with a `random_state = 1`. Search over the following set of parameters:\n",
        "\n",
        "* `max_depth`: (5, 10)\n",
        "* `max_features`: ('auto', 'sqrt', 'log2)\n",
        "\n",
        "According to your grid search, what parameters (i.e., `max_depth` number and `max_features` string) should you use to train your model on this data?"
      ]
    },
    {
      "cell_type": "code",
      "metadata": {
        "id": "gj_ft-HFqImx",
        "outputId": "f84ca66b-1935-4495-c24e-e4f868ccab93",
        "colab": {
          "base_uri": "https://localhost:8080/"
        }
      },
      "source": [
        "# Initialize a model\n",
        "cart_model = DecisionTreeRegressor(random_state=1)\n",
        "\n",
        "# Write your code here.\n",
        "# -------------------\n",
        "\n",
        "params_to_search = {\n",
        "    'max_depth': [5, 10],\n",
        "    'max_features': ['auto', 'sqrt', 'log2']\n",
        "}\n",
        "\n",
        "# Initialize the grid search\n",
        "optimized_dt = GridSearchCV(cart_model, params_to_search)\n",
        "# Run the grid search\n",
        "optimized_dt.fit(X_train, y_train)\n",
        "\n",
        "# Easiest way (not covered in lab)\n",
        "optimized_dt.best_estimator_.score(X_val, y_val)\n",
        "\n",
        "# Based on lab material\n",
        "cv_result_df = pd.DataFrame(optimized_dt.cv_results_)\n",
        "best_model_params_index = cv_result_df.mean_test_score.idxmax()\n",
        "best_model_params = cv_result_df.params[best_model_params_index]\n",
        "\n",
        "print(f'The best model parameters are {best_model_params}')"
      ],
      "execution_count": 2,
      "outputs": [
        {
          "output_type": "stream",
          "text": [
            "The best model parameters are {'max_depth': 10, 'max_features': 'auto'}\n"
          ],
          "name": "stdout"
        }
      ]
    },
    {
      "cell_type": "markdown",
      "metadata": {
        "id": "FDYzjNhylLHL"
      },
      "source": [
        "## Question 5 (3 marks)\n",
        "Train a $k$-means clustering model on `X_train` using one centroid seed initialization, 10 clusters, and `random_state = 0`. Apply this model to the validation data, and report what cluster has the most holidays."
      ]
    },
    {
      "cell_type": "code",
      "metadata": {
        "id": "wrUspJWOrlzM",
        "outputId": "0241191c-61c5-4e98-90b5-64bc797cd41f",
        "colab": {
          "base_uri": "https://localhost:8080/"
        }
      },
      "source": [
        "# Define clustering model \n",
        "mdk_k_means = KMeans(n_init = 1, n_clusters=10, random_state = 0) \n",
        "\n",
        "# Fit the model to the training set\n",
        "mdk_k_means.fit(X_train)\n",
        "\n",
        "# Make a series of cluster predictions\n",
        "val_clusters = pd.Series(mdk_k_means.predict(X_val), name = 'cluster', index=X_val.index)\n",
        "\n",
        "# Get cluster with most holidays\n",
        "X_val.join(val_clusters).groupby('cluster').sum().is_holiday.idxmax()"
      ],
      "execution_count": 3,
      "outputs": [
        {
          "output_type": "execute_result",
          "data": {
            "text/plain": [
              "6"
            ]
          },
          "metadata": {
            "tags": []
          },
          "execution_count": 3
        }
      ]
    },
    {
      "cell_type": "markdown",
      "metadata": {
        "id": "BxgBQJta1Vi1"
      },
      "source": [
        "## Question 6 (3 marks)\n",
        "\n",
        "Standardize the training and validation features (i.e., `X_train` and `X_val`), and report the mean of `'t1'` (i.e., the second column, which is indexed by 1) of the standardized validation features. "
      ]
    },
    {
      "cell_type": "code",
      "metadata": {
        "id": "qo9lqmgV1mJx",
        "outputId": "5fee366e-1a92-4cbf-c777-0d1678c57327",
        "colab": {
          "base_uri": "https://localhost:8080/"
        }
      },
      "source": [
        "# Initialize standard scaler\n",
        "scaler = StandardScaler()\n",
        "# Fit scaler\n",
        "scaler.fit(X_train)\n",
        "# Transform feature data\n",
        "X_train_standardized = scaler.transform(X_train)\n",
        "X_val_standardized = scaler.transform(X_val)\n",
        "# Evaluate validation mean\n",
        "X_val_standardized[:,1].mean()"
      ],
      "execution_count": 4,
      "outputs": [
        {
          "output_type": "execute_result",
          "data": {
            "text/plain": [
              "0.4541703067604414"
            ]
          },
          "metadata": {
            "tags": []
          },
          "execution_count": 4
        }
      ]
    },
    {
      "cell_type": "markdown",
      "metadata": {
        "id": "8sTJmq2Tnulf"
      },
      "source": [
        "## __Question 7.__ (2 marks)\n",
        "\n",
        "Use the `describe()` method on `X_val`. Based on the output, why might you be worried about data imbalance in the validation set? (20 words max)"
      ]
    },
    {
      "cell_type": "code",
      "metadata": {
        "id": "WxwZu8xdSYT9",
        "outputId": "c51daaac-e362-4fb7-f57d-df34c9c01855",
        "colab": {
          "base_uri": "https://localhost:8080/"
        }
      },
      "source": [
        "season_columns = ['winter', 'spring', 'summer', 'fall']\n",
        "print(X_val[season_columns].describe())"
      ],
      "execution_count": 5,
      "outputs": [
        {
          "output_type": "stream",
          "text": [
            "       winter       spring       summer         fall\n",
            "count  4354.0  4354.000000  4354.000000  4354.000000\n",
            "mean      0.0     0.319936     0.492650     0.187414\n",
            "std       0.0     0.466505     0.500003     0.390288\n",
            "min       0.0     0.000000     0.000000     0.000000\n",
            "25%       0.0     0.000000     0.000000     0.000000\n",
            "50%       0.0     0.000000     0.000000     0.000000\n",
            "75%       0.0     1.000000     1.000000     0.000000\n",
            "max       0.0     1.000000     1.000000     1.000000\n"
          ],
          "name": "stdout"
        }
      ]
    },
    {
      "cell_type": "markdown",
      "metadata": {
        "id": "IFZVW32s7rz8"
      },
      "source": [
        "> We never validate the model on out-of-sample data from the winter, and other seasons have more representation."
      ]
    }
  ]
}